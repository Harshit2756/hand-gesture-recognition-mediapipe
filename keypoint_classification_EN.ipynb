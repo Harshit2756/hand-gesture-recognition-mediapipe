{
 "cells": [
  {
   "cell_type": "code",
   "execution_count": 12,
   "metadata": {
    "id": "igMyGnjE9hEp",
    "scrolled": true
   },
   "outputs": [],
   "source": [
    "import csv\n",
    "\n",
    "import numpy as np\n",
    "import tensorflow as tf\n",
    "from sklearn.model_selection import train_test_split\n",
    "\n",
    "RANDOM_SEED = 42"
   ]
  },
  {
   "cell_type": "markdown",
   "metadata": {
    "id": "t2HDvhIu9hEr"
   },
   "source": [
    "# Specify each path"
   ]
  },
  {
   "cell_type": "code",
   "execution_count": 13,
   "metadata": {
    "id": "9NvZP2Zn9hEy"
   },
   "outputs": [],
   "source": [
    "dataset = 'model/keypoint_classifier/keypoint.csv'\n",
    "model_save_path = 'model/keypoint_classifier/keypoint_classifier.hdf5'\n",
    "tflite_save_path = 'model/keypoint_classifier/keypoint_classifier.tflite'"
   ]
  },
  {
   "cell_type": "markdown",
   "metadata": {
    "id": "s5oMH7x19hEz"
   },
   "source": [
    "# Set number of classes"
   ]
  },
  {
   "cell_type": "code",
   "execution_count": 14,
   "metadata": {
    "id": "du4kodXL9hEz"
   },
   "outputs": [],
   "source": [
    "NUM_CLASSES = 35"
   ]
  },
  {
   "cell_type": "markdown",
   "metadata": {
    "id": "XjnL0uso9hEz"
   },
   "source": [
    "# Dataset reading"
   ]
  },
  {
   "cell_type": "code",
   "execution_count": 15,
   "metadata": {
    "id": "QT5ZqtEz9hE0"
   },
   "outputs": [],
   "source": [
    "X_dataset = np.loadtxt(dataset, delimiter=',', dtype='float32', usecols=list(range(1, (21 * 2) + 1)))"
   ]
  },
  {
   "cell_type": "code",
   "execution_count": 16,
   "metadata": {
    "id": "QmoKFsp49hE0"
   },
   "outputs": [],
   "source": [
    "y_dataset = np.loadtxt(dataset, delimiter=',', dtype='int32', usecols=(0))"
   ]
  },
  {
   "cell_type": "code",
   "execution_count": 17,
   "metadata": {
    "id": "xQU7JTZ_9hE0"
   },
   "outputs": [],
   "source": [
    "X_train, X_test, y_train, y_test = train_test_split(X_dataset, y_dataset, train_size=0.75, random_state=RANDOM_SEED)"
   ]
  },
  {
   "cell_type": "markdown",
   "metadata": {
    "id": "mxK_lETT9hE0"
   },
   "source": [
    "# Model building"
   ]
  },
  {
   "cell_type": "code",
   "execution_count": 18,
   "metadata": {
    "id": "vHBmUf1t9hE1"
   },
   "outputs": [],
   "source": [
    "model = tf.keras.models.Sequential([\n",
    "    tf.keras.layers.Input((21 * 2, )),\n",
    "    tf.keras.layers.Dropout(0.2),\n",
    "    tf.keras.layers.Dense(20, activation='relu'),\n",
    "    tf.keras.layers.Dropout(0.4),\n",
    "    tf.keras.layers.Dense(10, activation='relu'),\n",
    "    tf.keras.layers.Dense(NUM_CLASSES, activation='softmax')\n",
    "])"
   ]
  },
  {
   "cell_type": "code",
   "execution_count": 19,
   "metadata": {
    "colab": {
     "base_uri": "https://localhost:8080/"
    },
    "id": "ypqky9tc9hE1",
    "outputId": "5db082bb-30e3-4110-bf63-a1ee777ecd46"
   },
   "outputs": [
    {
     "name": "stdout",
     "output_type": "stream",
     "text": [
      "Model: \"sequential_1\"\n",
      "_________________________________________________________________\n",
      " Layer (type)                Output Shape              Param #   \n",
      "=================================================================\n",
      " dropout_2 (Dropout)         (None, 42)                0         \n",
      "                                                                 \n",
      " dense_3 (Dense)             (None, 20)                860       \n",
      "                                                                 \n",
      " dropout_3 (Dropout)         (None, 20)                0         \n",
      "                                                                 \n",
      " dense_4 (Dense)             (None, 10)                210       \n",
      "                                                                 \n",
      " dense_5 (Dense)             (None, 35)                385       \n",
      "                                                                 \n",
      "=================================================================\n",
      "Total params: 1455 (5.68 KB)\n",
      "Trainable params: 1455 (5.68 KB)\n",
      "Non-trainable params: 0 (0.00 Byte)\n",
      "_________________________________________________________________\n"
     ]
    }
   ],
   "source": [
    "model.summary()  # tf.keras.utils.plot_model(model, show_shapes=True)"
   ]
  },
  {
   "cell_type": "code",
   "execution_count": 20,
   "metadata": {
    "id": "MbMjOflQ9hE1"
   },
   "outputs": [],
   "source": [
    "# Model checkpoint callback\n",
    "cp_callback = tf.keras.callbacks.ModelCheckpoint(\n",
    "    model_save_path, verbose=1, save_weights_only=False)\n",
    "# Callback for early stopping\n",
    "es_callback = tf.keras.callbacks.EarlyStopping(patience=20, verbose=1)"
   ]
  },
  {
   "cell_type": "code",
   "execution_count": 21,
   "metadata": {
    "id": "c3Dac0M_9hE2"
   },
   "outputs": [],
   "source": [
    "# Model compilation\n",
    "model.compile(\n",
    "    optimizer='adam',\n",
    "    loss='sparse_categorical_crossentropy',\n",
    "    metrics=['accuracy']\n",
    ")"
   ]
  },
  {
   "cell_type": "markdown",
   "metadata": {
    "id": "7XI0j1Iu9hE2"
   },
   "source": [
    "# Model training"
   ]
  },
  {
   "cell_type": "code",
   "execution_count": 22,
   "metadata": {
    "colab": {
     "base_uri": "https://localhost:8080/"
    },
    "id": "WirBl-JE9hE3",
    "outputId": "71b30ca2-8294-4d9d-8aa2-800d90d399de",
    "scrolled": true
   },
   "outputs": [
    {
     "name": "stdout",
     "output_type": "stream",
     "text": [
      "Epoch 1/1000\n",
      "184/201 [==========================>...] - ETA: 0s - loss: 3.3984 - accuracy: 0.0665\n",
      "Epoch 1: saving model to model/keypoint_classifier\\keypoint_classifier.hdf5\n",
      "201/201 [==============================] - 1s 3ms/step - loss: 3.3721 - accuracy: 0.0702 - val_loss: 2.8767 - val_accuracy: 0.2753\n",
      "Epoch 2/1000\n",
      "107/201 [==============>...............] - ETA: 0s - loss: 2.8428 - accuracy: 0.1605"
     ]
    },
    {
     "name": "stderr",
     "output_type": "stream",
     "text": [
      "c:\\users\\khand\\onedrive\\desktop\\final year project\\code base\\hand-gesture-recognition-mediapipe\\train\\lib\\site-packages\\keras\\src\\engine\\training.py:3000: UserWarning: You are saving your model as an HDF5 file via `model.save()`. This file format is considered legacy. We recommend using instead the native Keras format, e.g. `model.save('my_model.keras')`.\n",
      "  saving_api.save_model(\n"
     ]
    },
    {
     "name": "stdout",
     "output_type": "stream",
     "text": [
      "178/201 [=========================>....] - ETA: 0s - loss: 2.7250 - accuracy: 0.1801\n",
      "Epoch 2: saving model to model/keypoint_classifier\\keypoint_classifier.hdf5\n",
      "201/201 [==============================] - 0s 2ms/step - loss: 2.6971 - accuracy: 0.1849 - val_loss: 2.0514 - val_accuracy: 0.5103\n",
      "Epoch 3/1000\n",
      "186/201 [==========================>...] - ETA: 0s - loss: 2.2672 - accuracy: 0.2716\n",
      "Epoch 3: saving model to model/keypoint_classifier\\keypoint_classifier.hdf5\n",
      "201/201 [==============================] - 0s 2ms/step - loss: 2.2566 - accuracy: 0.2756 - val_loss: 1.6352 - val_accuracy: 0.6881\n",
      "Epoch 4/1000\n",
      "186/201 [==========================>...] - ETA: 0s - loss: 2.0546 - accuracy: 0.3267\n",
      "Epoch 4: saving model to model/keypoint_classifier\\keypoint_classifier.hdf5\n",
      "201/201 [==============================] - 0s 2ms/step - loss: 2.0508 - accuracy: 0.3287 - val_loss: 1.4183 - val_accuracy: 0.7970\n",
      "Epoch 5/1000\n",
      "196/201 [============================>.] - ETA: 0s - loss: 1.9234 - accuracy: 0.3608\n",
      "Epoch 5: saving model to model/keypoint_classifier\\keypoint_classifier.hdf5\n",
      "201/201 [==============================] - 0s 2ms/step - loss: 1.9205 - accuracy: 0.3617 - val_loss: 1.2426 - val_accuracy: 0.8402\n",
      "Epoch 6/1000\n",
      "186/201 [==========================>...] - ETA: 0s - loss: 1.8275 - accuracy: 0.3898\n",
      "Epoch 6: saving model to model/keypoint_classifier\\keypoint_classifier.hdf5\n",
      "201/201 [==============================] - 0s 2ms/step - loss: 1.8281 - accuracy: 0.3898 - val_loss: 1.1390 - val_accuracy: 0.8664\n",
      "Epoch 7/1000\n",
      "190/201 [===========================>..] - ETA: 0s - loss: 1.7537 - accuracy: 0.4102\n",
      "Epoch 7: saving model to model/keypoint_classifier\\keypoint_classifier.hdf5\n",
      "201/201 [==============================] - 0s 2ms/step - loss: 1.7506 - accuracy: 0.4110 - val_loss: 1.0465 - val_accuracy: 0.8575\n",
      "Epoch 8/1000\n",
      "194/201 [===========================>..] - ETA: 0s - loss: 1.6931 - accuracy: 0.4274\n",
      "Epoch 8: saving model to model/keypoint_classifier\\keypoint_classifier.hdf5\n",
      "201/201 [==============================] - 0s 2ms/step - loss: 1.6940 - accuracy: 0.4274 - val_loss: 0.9808 - val_accuracy: 0.8891\n",
      "Epoch 9/1000\n",
      "188/201 [===========================>..] - ETA: 0s - loss: 1.6649 - accuracy: 0.4355\n",
      "Epoch 9: saving model to model/keypoint_classifier\\keypoint_classifier.hdf5\n",
      "201/201 [==============================] - 0s 2ms/step - loss: 1.6647 - accuracy: 0.4353 - val_loss: 0.9365 - val_accuracy: 0.8689\n",
      "Epoch 10/1000\n",
      "173/201 [========================>.....] - ETA: 0s - loss: 1.6254 - accuracy: 0.4485\n",
      "Epoch 10: saving model to model/keypoint_classifier\\keypoint_classifier.hdf5\n",
      "201/201 [==============================] - 0s 2ms/step - loss: 1.6253 - accuracy: 0.4486 - val_loss: 0.8844 - val_accuracy: 0.8876\n",
      "Epoch 11/1000\n",
      "166/201 [=======================>......] - ETA: 0s - loss: 1.5955 - accuracy: 0.4580\n",
      "Epoch 11: saving model to model/keypoint_classifier\\keypoint_classifier.hdf5\n",
      "201/201 [==============================] - 0s 2ms/step - loss: 1.5918 - accuracy: 0.4582 - val_loss: 0.8398 - val_accuracy: 0.8985\n",
      "Epoch 12/1000\n",
      "186/201 [==========================>...] - ETA: 0s - loss: 1.5820 - accuracy: 0.4654\n",
      "Epoch 12: saving model to model/keypoint_classifier\\keypoint_classifier.hdf5\n",
      "201/201 [==============================] - 0s 2ms/step - loss: 1.5792 - accuracy: 0.4661 - val_loss: 0.8365 - val_accuracy: 0.8777\n",
      "Epoch 13/1000\n",
      "169/201 [========================>.....] - ETA: 0s - loss: 1.5522 - accuracy: 0.4698\n",
      "Epoch 13: saving model to model/keypoint_classifier\\keypoint_classifier.hdf5\n",
      "201/201 [==============================] - 0s 2ms/step - loss: 1.5489 - accuracy: 0.4698 - val_loss: 0.8018 - val_accuracy: 0.8989\n",
      "Epoch 14/1000\n",
      "180/201 [=========================>....] - ETA: 0s - loss: 1.5293 - accuracy: 0.4754\n",
      "Epoch 14: saving model to model/keypoint_classifier\\keypoint_classifier.hdf5\n",
      "201/201 [==============================] - 0s 2ms/step - loss: 1.5256 - accuracy: 0.4775 - val_loss: 0.7642 - val_accuracy: 0.8901\n",
      "Epoch 15/1000\n",
      "188/201 [===========================>..] - ETA: 0s - loss: 1.5140 - accuracy: 0.4812\n",
      "Epoch 15: saving model to model/keypoint_classifier\\keypoint_classifier.hdf5\n",
      "201/201 [==============================] - 0s 2ms/step - loss: 1.5128 - accuracy: 0.4810 - val_loss: 0.7513 - val_accuracy: 0.9047\n",
      "Epoch 16/1000\n",
      "200/201 [============================>.] - ETA: 0s - loss: 1.4923 - accuracy: 0.4925\n",
      "Epoch 16: saving model to model/keypoint_classifier\\keypoint_classifier.hdf5\n",
      "201/201 [==============================] - 0s 2ms/step - loss: 1.4921 - accuracy: 0.4924 - val_loss: 0.7444 - val_accuracy: 0.8820\n",
      "Epoch 17/1000\n",
      "164/201 [=======================>......] - ETA: 0s - loss: 1.4840 - accuracy: 0.4943\n",
      "Epoch 17: saving model to model/keypoint_classifier\\keypoint_classifier.hdf5\n",
      "201/201 [==============================] - 0s 2ms/step - loss: 1.4843 - accuracy: 0.4931 - val_loss: 0.7033 - val_accuracy: 0.8901\n",
      "Epoch 18/1000\n",
      "179/201 [=========================>....] - ETA: 0s - loss: 1.4815 - accuracy: 0.4955\n",
      "Epoch 18: saving model to model/keypoint_classifier\\keypoint_classifier.hdf5\n",
      "201/201 [==============================] - 0s 2ms/step - loss: 1.4777 - accuracy: 0.4954 - val_loss: 0.7165 - val_accuracy: 0.8903\n",
      "Epoch 19/1000\n",
      "188/201 [===========================>..] - ETA: 0s - loss: 1.4618 - accuracy: 0.5014\n",
      "Epoch 19: saving model to model/keypoint_classifier\\keypoint_classifier.hdf5\n",
      "201/201 [==============================] - 0s 2ms/step - loss: 1.4600 - accuracy: 0.5021 - val_loss: 0.6894 - val_accuracy: 0.9120\n",
      "Epoch 20/1000\n",
      "185/201 [==========================>...] - ETA: 0s - loss: 1.4401 - accuracy: 0.5050\n",
      "Epoch 20: saving model to model/keypoint_classifier\\keypoint_classifier.hdf5\n",
      "201/201 [==============================] - 0s 2ms/step - loss: 1.4407 - accuracy: 0.5056 - val_loss: 0.6842 - val_accuracy: 0.8972\n",
      "Epoch 21/1000\n",
      "167/201 [=======================>......] - ETA: 0s - loss: 1.4109 - accuracy: 0.5213\n",
      "Epoch 21: saving model to model/keypoint_classifier\\keypoint_classifier.hdf5\n",
      "201/201 [==============================] - 0s 2ms/step - loss: 1.4146 - accuracy: 0.5196 - val_loss: 0.6708 - val_accuracy: 0.8793\n",
      "Epoch 22/1000\n",
      "193/201 [===========================>..] - ETA: 0s - loss: 1.4324 - accuracy: 0.5103\n",
      "Epoch 22: saving model to model/keypoint_classifier\\keypoint_classifier.hdf5\n",
      "201/201 [==============================] - 0s 2ms/step - loss: 1.4328 - accuracy: 0.5100 - val_loss: 0.6595 - val_accuracy: 0.8907\n",
      "Epoch 23/1000\n",
      "189/201 [===========================>..] - ETA: 0s - loss: 1.4052 - accuracy: 0.5189\n",
      "Epoch 23: saving model to model/keypoint_classifier\\keypoint_classifier.hdf5\n",
      "201/201 [==============================] - 0s 2ms/step - loss: 1.4053 - accuracy: 0.5191 - val_loss: 0.6485 - val_accuracy: 0.8910\n",
      "Epoch 24/1000\n",
      "190/201 [===========================>..] - ETA: 0s - loss: 1.4002 - accuracy: 0.5181\n",
      "Epoch 24: saving model to model/keypoint_classifier\\keypoint_classifier.hdf5\n",
      "201/201 [==============================] - 0s 2ms/step - loss: 1.4003 - accuracy: 0.5180 - val_loss: 0.6482 - val_accuracy: 0.9072\n",
      "Epoch 25/1000\n",
      "185/201 [==========================>...] - ETA: 0s - loss: 1.4023 - accuracy: 0.5186\n",
      "Epoch 25: saving model to model/keypoint_classifier\\keypoint_classifier.hdf5\n",
      "201/201 [==============================] - 0s 2ms/step - loss: 1.3990 - accuracy: 0.5198 - val_loss: 0.6280 - val_accuracy: 0.9089\n",
      "Epoch 26/1000\n",
      "191/201 [===========================>..] - ETA: 0s - loss: 1.3844 - accuracy: 0.5216\n",
      "Epoch 26: saving model to model/keypoint_classifier\\keypoint_classifier.hdf5\n",
      "201/201 [==============================] - 0s 2ms/step - loss: 1.3858 - accuracy: 0.5210 - val_loss: 0.6363 - val_accuracy: 0.8910\n",
      "Epoch 27/1000\n",
      "192/201 [===========================>..] - ETA: 0s - loss: 1.3793 - accuracy: 0.5214\n",
      "Epoch 27: saving model to model/keypoint_classifier\\keypoint_classifier.hdf5\n",
      "201/201 [==============================] - 0s 2ms/step - loss: 1.3795 - accuracy: 0.5212 - val_loss: 0.6182 - val_accuracy: 0.8930\n",
      "Epoch 28/1000\n",
      "188/201 [===========================>..] - ETA: 0s - loss: 1.3611 - accuracy: 0.5318\n",
      "Epoch 28: saving model to model/keypoint_classifier\\keypoint_classifier.hdf5\n",
      "201/201 [==============================] - 0s 2ms/step - loss: 1.3616 - accuracy: 0.5315 - val_loss: 0.6115 - val_accuracy: 0.8836\n"
     ]
    },
    {
     "name": "stdout",
     "output_type": "stream",
     "text": [
      "Epoch 29/1000\n",
      "190/201 [===========================>..] - ETA: 0s - loss: 1.3636 - accuracy: 0.5317\n",
      "Epoch 29: saving model to model/keypoint_classifier\\keypoint_classifier.hdf5\n",
      "201/201 [==============================] - 0s 2ms/step - loss: 1.3614 - accuracy: 0.5323 - val_loss: 0.6182 - val_accuracy: 0.8900\n",
      "Epoch 30/1000\n",
      "189/201 [===========================>..] - ETA: 0s - loss: 1.3606 - accuracy: 0.5318\n",
      "Epoch 30: saving model to model/keypoint_classifier\\keypoint_classifier.hdf5\n",
      "201/201 [==============================] - 0s 2ms/step - loss: 1.3617 - accuracy: 0.5317 - val_loss: 0.6013 - val_accuracy: 0.8834\n",
      "Epoch 31/1000\n",
      "196/201 [============================>.] - ETA: 0s - loss: 1.3674 - accuracy: 0.5301\n",
      "Epoch 31: saving model to model/keypoint_classifier\\keypoint_classifier.hdf5\n",
      "201/201 [==============================] - 0s 2ms/step - loss: 1.3667 - accuracy: 0.5304 - val_loss: 0.6071 - val_accuracy: 0.8896\n",
      "Epoch 32/1000\n",
      "176/201 [=========================>....] - ETA: 0s - loss: 1.3398 - accuracy: 0.5384\n",
      "Epoch 32: saving model to model/keypoint_classifier\\keypoint_classifier.hdf5\n",
      "201/201 [==============================] - 0s 2ms/step - loss: 1.3419 - accuracy: 0.5382 - val_loss: 0.5956 - val_accuracy: 0.8912\n",
      "Epoch 33/1000\n",
      "166/201 [=======================>......] - ETA: 0s - loss: 1.3556 - accuracy: 0.5329\n",
      "Epoch 33: saving model to model/keypoint_classifier\\keypoint_classifier.hdf5\n",
      "201/201 [==============================] - 0s 2ms/step - loss: 1.3530 - accuracy: 0.5356 - val_loss: 0.5877 - val_accuracy: 0.9059\n",
      "Epoch 34/1000\n",
      "185/201 [==========================>...] - ETA: 0s - loss: 1.3397 - accuracy: 0.5452\n",
      "Epoch 34: saving model to model/keypoint_classifier\\keypoint_classifier.hdf5\n",
      "201/201 [==============================] - 0s 2ms/step - loss: 1.3390 - accuracy: 0.5465 - val_loss: 0.6006 - val_accuracy: 0.8928\n",
      "Epoch 35/1000\n",
      "186/201 [==========================>...] - ETA: 0s - loss: 1.3290 - accuracy: 0.5463\n",
      "Epoch 35: saving model to model/keypoint_classifier\\keypoint_classifier.hdf5\n",
      "201/201 [==============================] - 0s 2ms/step - loss: 1.3261 - accuracy: 0.5463 - val_loss: 0.5845 - val_accuracy: 0.9086\n",
      "Epoch 36/1000\n",
      "187/201 [==========================>...] - ETA: 0s - loss: 1.3321 - accuracy: 0.5435\n",
      "Epoch 36: saving model to model/keypoint_classifier\\keypoint_classifier.hdf5\n",
      "201/201 [==============================] - 0s 2ms/step - loss: 1.3301 - accuracy: 0.5443 - val_loss: 0.5774 - val_accuracy: 0.8925\n",
      "Epoch 37/1000\n",
      "184/201 [==========================>...] - ETA: 0s - loss: 1.3355 - accuracy: 0.5443\n",
      "Epoch 37: saving model to model/keypoint_classifier\\keypoint_classifier.hdf5\n",
      "201/201 [==============================] - 0s 2ms/step - loss: 1.3343 - accuracy: 0.5447 - val_loss: 0.5732 - val_accuracy: 0.9117\n",
      "Epoch 38/1000\n",
      "189/201 [===========================>..] - ETA: 0s - loss: 1.3361 - accuracy: 0.5431\n",
      "Epoch 38: saving model to model/keypoint_classifier\\keypoint_classifier.hdf5\n",
      "201/201 [==============================] - 0s 2ms/step - loss: 1.3357 - accuracy: 0.5434 - val_loss: 0.5850 - val_accuracy: 0.8949\n",
      "Epoch 39/1000\n",
      "187/201 [==========================>...] - ETA: 0s - loss: 1.3267 - accuracy: 0.5454\n",
      "Epoch 39: saving model to model/keypoint_classifier\\keypoint_classifier.hdf5\n",
      "201/201 [==============================] - 0s 2ms/step - loss: 1.3264 - accuracy: 0.5454 - val_loss: 0.5710 - val_accuracy: 0.8841\n",
      "Epoch 40/1000\n",
      "189/201 [===========================>..] - ETA: 0s - loss: 1.3133 - accuracy: 0.5490\n",
      "Epoch 40: saving model to model/keypoint_classifier\\keypoint_classifier.hdf5\n",
      "201/201 [==============================] - 0s 2ms/step - loss: 1.3106 - accuracy: 0.5495 - val_loss: 0.5717 - val_accuracy: 0.9139\n",
      "Epoch 41/1000\n",
      "190/201 [===========================>..] - ETA: 0s - loss: 1.3199 - accuracy: 0.5454\n",
      "Epoch 41: saving model to model/keypoint_classifier\\keypoint_classifier.hdf5\n",
      "201/201 [==============================] - 0s 2ms/step - loss: 1.3219 - accuracy: 0.5450 - val_loss: 0.5614 - val_accuracy: 0.9118\n",
      "Epoch 42/1000\n",
      "171/201 [========================>.....] - ETA: 0s - loss: 1.3003 - accuracy: 0.5517\n",
      "Epoch 42: saving model to model/keypoint_classifier\\keypoint_classifier.hdf5\n",
      "201/201 [==============================] - 0s 2ms/step - loss: 1.3037 - accuracy: 0.5519 - val_loss: 0.5761 - val_accuracy: 0.8852\n",
      "Epoch 43/1000\n",
      "195/201 [============================>.] - ETA: 0s - loss: 1.3034 - accuracy: 0.5500\n",
      "Epoch 43: saving model to model/keypoint_classifier\\keypoint_classifier.hdf5\n",
      "201/201 [==============================] - 0s 2ms/step - loss: 1.3014 - accuracy: 0.5507 - val_loss: 0.5703 - val_accuracy: 0.8914\n",
      "Epoch 44/1000\n",
      "190/201 [===========================>..] - ETA: 0s - loss: 1.2850 - accuracy: 0.5561\n",
      "Epoch 44: saving model to model/keypoint_classifier\\keypoint_classifier.hdf5\n",
      "201/201 [==============================] - 0s 2ms/step - loss: 1.2856 - accuracy: 0.5566 - val_loss: 0.5699 - val_accuracy: 0.8745\n",
      "Epoch 45/1000\n",
      "194/201 [===========================>..] - ETA: 0s - loss: 1.2962 - accuracy: 0.5551\n",
      "Epoch 45: saving model to model/keypoint_classifier\\keypoint_classifier.hdf5\n",
      "201/201 [==============================] - 0s 2ms/step - loss: 1.2951 - accuracy: 0.5551 - val_loss: 0.5557 - val_accuracy: 0.8969\n",
      "Epoch 46/1000\n",
      "191/201 [===========================>..] - ETA: 0s - loss: 1.2902 - accuracy: 0.5583\n",
      "Epoch 46: saving model to model/keypoint_classifier\\keypoint_classifier.hdf5\n",
      "201/201 [==============================] - 0s 2ms/step - loss: 1.2924 - accuracy: 0.5576 - val_loss: 0.5620 - val_accuracy: 0.9116\n",
      "Epoch 47/1000\n",
      "191/201 [===========================>..] - ETA: 0s - loss: 1.2890 - accuracy: 0.5576\n",
      "Epoch 47: saving model to model/keypoint_classifier\\keypoint_classifier.hdf5\n",
      "201/201 [==============================] - 0s 2ms/step - loss: 1.2865 - accuracy: 0.5580 - val_loss: 0.5584 - val_accuracy: 0.8885\n",
      "Epoch 48/1000\n",
      "179/201 [=========================>....] - ETA: 0s - loss: 1.2848 - accuracy: 0.5560\n",
      "Epoch 48: saving model to model/keypoint_classifier\\keypoint_classifier.hdf5\n",
      "201/201 [==============================] - 0s 2ms/step - loss: 1.2863 - accuracy: 0.5572 - val_loss: 0.5526 - val_accuracy: 0.9014\n",
      "Epoch 49/1000\n",
      "193/201 [===========================>..] - ETA: 0s - loss: 1.2942 - accuracy: 0.5577\n",
      "Epoch 49: saving model to model/keypoint_classifier\\keypoint_classifier.hdf5\n",
      "201/201 [==============================] - 0s 2ms/step - loss: 1.2917 - accuracy: 0.5589 - val_loss: 0.5432 - val_accuracy: 0.9000\n",
      "Epoch 50/1000\n",
      "187/201 [==========================>...] - ETA: 0s - loss: 1.2813 - accuracy: 0.5596\n",
      "Epoch 50: saving model to model/keypoint_classifier\\keypoint_classifier.hdf5\n",
      "201/201 [==============================] - 0s 2ms/step - loss: 1.2804 - accuracy: 0.5604 - val_loss: 0.5639 - val_accuracy: 0.9024\n",
      "Epoch 51/1000\n",
      "184/201 [==========================>...] - ETA: 0s - loss: 1.2722 - accuracy: 0.5598\n",
      "Epoch 51: saving model to model/keypoint_classifier\\keypoint_classifier.hdf5\n",
      "201/201 [==============================] - 0s 2ms/step - loss: 1.2743 - accuracy: 0.5594 - val_loss: 0.5454 - val_accuracy: 0.9055\n",
      "Epoch 52/1000\n",
      "186/201 [==========================>...] - ETA: 0s - loss: 1.2742 - accuracy: 0.5611\n",
      "Epoch 52: saving model to model/keypoint_classifier\\keypoint_classifier.hdf5\n",
      "201/201 [==============================] - 0s 2ms/step - loss: 1.2734 - accuracy: 0.5613 - val_loss: 0.5492 - val_accuracy: 0.8974\n",
      "Epoch 53/1000\n",
      "185/201 [==========================>...] - ETA: 0s - loss: 1.2771 - accuracy: 0.5598\n",
      "Epoch 53: saving model to model/keypoint_classifier\\keypoint_classifier.hdf5\n",
      "201/201 [==============================] - 0s 2ms/step - loss: 1.2748 - accuracy: 0.5603 - val_loss: 0.5536 - val_accuracy: 0.9104\n",
      "Epoch 54/1000\n",
      "194/201 [===========================>..] - ETA: 0s - loss: 1.2707 - accuracy: 0.5627\n",
      "Epoch 54: saving model to model/keypoint_classifier\\keypoint_classifier.hdf5\n",
      "201/201 [==============================] - 0s 2ms/step - loss: 1.2691 - accuracy: 0.5629 - val_loss: 0.5438 - val_accuracy: 0.8838\n",
      "Epoch 55/1000\n",
      "189/201 [===========================>..] - ETA: 0s - loss: 1.2649 - accuracy: 0.5639\n",
      "Epoch 55: saving model to model/keypoint_classifier\\keypoint_classifier.hdf5\n",
      "201/201 [==============================] - 0s 2ms/step - loss: 1.2644 - accuracy: 0.5641 - val_loss: 0.5518 - val_accuracy: 0.9037\n"
     ]
    },
    {
     "name": "stdout",
     "output_type": "stream",
     "text": [
      "Epoch 56/1000\n",
      "190/201 [===========================>..] - ETA: 0s - loss: 1.2664 - accuracy: 0.5642\n",
      "Epoch 56: saving model to model/keypoint_classifier\\keypoint_classifier.hdf5\n",
      "201/201 [==============================] - 0s 2ms/step - loss: 1.2677 - accuracy: 0.5642 - val_loss: 0.5502 - val_accuracy: 0.8968\n",
      "Epoch 57/1000\n",
      "195/201 [============================>.] - ETA: 0s - loss: 1.2556 - accuracy: 0.5688\n",
      "Epoch 57: saving model to model/keypoint_classifier\\keypoint_classifier.hdf5\n",
      "201/201 [==============================] - 0s 2ms/step - loss: 1.2557 - accuracy: 0.5689 - val_loss: 0.5429 - val_accuracy: 0.9035\n",
      "Epoch 58/1000\n",
      "171/201 [========================>.....] - ETA: 0s - loss: 1.2496 - accuracy: 0.5710\n",
      "Epoch 58: saving model to model/keypoint_classifier\\keypoint_classifier.hdf5\n",
      "201/201 [==============================] - 0s 2ms/step - loss: 1.2479 - accuracy: 0.5726 - val_loss: 0.5514 - val_accuracy: 0.8889\n",
      "Epoch 59/1000\n",
      "182/201 [==========================>...] - ETA: 0s - loss: 1.2463 - accuracy: 0.5712\n",
      "Epoch 59: saving model to model/keypoint_classifier\\keypoint_classifier.hdf5\n",
      "201/201 [==============================] - 0s 2ms/step - loss: 1.2487 - accuracy: 0.5711 - val_loss: 0.5527 - val_accuracy: 0.8884\n",
      "Epoch 60/1000\n",
      "193/201 [===========================>..] - ETA: 0s - loss: 1.2539 - accuracy: 0.5679\n",
      "Epoch 60: saving model to model/keypoint_classifier\\keypoint_classifier.hdf5\n",
      "201/201 [==============================] - 0s 2ms/step - loss: 1.2519 - accuracy: 0.5691 - val_loss: 0.5514 - val_accuracy: 0.8868\n",
      "Epoch 61/1000\n",
      "186/201 [==========================>...] - ETA: 0s - loss: 1.2591 - accuracy: 0.5677\n",
      "Epoch 61: saving model to model/keypoint_classifier\\keypoint_classifier.hdf5\n",
      "201/201 [==============================] - 0s 2ms/step - loss: 1.2609 - accuracy: 0.5665 - val_loss: 0.5435 - val_accuracy: 0.8942\n",
      "Epoch 62/1000\n",
      "188/201 [===========================>..] - ETA: 0s - loss: 1.2659 - accuracy: 0.5669\n",
      "Epoch 62: saving model to model/keypoint_classifier\\keypoint_classifier.hdf5\n",
      "201/201 [==============================] - 0s 2ms/step - loss: 1.2643 - accuracy: 0.5676 - val_loss: 0.5355 - val_accuracy: 0.8901\n",
      "Epoch 63/1000\n",
      "190/201 [===========================>..] - ETA: 0s - loss: 1.2478 - accuracy: 0.5717\n",
      "Epoch 63: saving model to model/keypoint_classifier\\keypoint_classifier.hdf5\n",
      "201/201 [==============================] - 0s 2ms/step - loss: 1.2495 - accuracy: 0.5712 - val_loss: 0.5395 - val_accuracy: 0.9088\n",
      "Epoch 64/1000\n",
      "187/201 [==========================>...] - ETA: 0s - loss: 1.2509 - accuracy: 0.5706\n",
      "Epoch 64: saving model to model/keypoint_classifier\\keypoint_classifier.hdf5\n",
      "201/201 [==============================] - 0s 2ms/step - loss: 1.2527 - accuracy: 0.5707 - val_loss: 0.5451 - val_accuracy: 0.9058\n",
      "Epoch 65/1000\n",
      "178/201 [=========================>....] - ETA: 0s - loss: 1.2286 - accuracy: 0.5770\n",
      "Epoch 65: saving model to model/keypoint_classifier\\keypoint_classifier.hdf5\n",
      "201/201 [==============================] - 0s 2ms/step - loss: 1.2258 - accuracy: 0.5778 - val_loss: 0.5428 - val_accuracy: 0.8913\n",
      "Epoch 66/1000\n",
      "179/201 [=========================>....] - ETA: 0s - loss: 1.2444 - accuracy: 0.5714\n",
      "Epoch 66: saving model to model/keypoint_classifier\\keypoint_classifier.hdf5\n",
      "201/201 [==============================] - 0s 2ms/step - loss: 1.2434 - accuracy: 0.5720 - val_loss: 0.5415 - val_accuracy: 0.8850\n",
      "Epoch 67/1000\n",
      "188/201 [===========================>..] - ETA: 0s - loss: 1.2209 - accuracy: 0.5784\n",
      "Epoch 67: saving model to model/keypoint_classifier\\keypoint_classifier.hdf5\n",
      "201/201 [==============================] - 0s 2ms/step - loss: 1.2217 - accuracy: 0.5784 - val_loss: 0.5320 - val_accuracy: 0.8905\n",
      "Epoch 68/1000\n",
      "195/201 [============================>.] - ETA: 0s - loss: 1.2374 - accuracy: 0.5766\n",
      "Epoch 68: saving model to model/keypoint_classifier\\keypoint_classifier.hdf5\n",
      "201/201 [==============================] - 0s 2ms/step - loss: 1.2387 - accuracy: 0.5757 - val_loss: 0.5299 - val_accuracy: 0.9002\n",
      "Epoch 69/1000\n",
      "185/201 [==========================>...] - ETA: 0s - loss: 1.2288 - accuracy: 0.5752\n",
      "Epoch 69: saving model to model/keypoint_classifier\\keypoint_classifier.hdf5\n",
      "201/201 [==============================] - 0s 2ms/step - loss: 1.2287 - accuracy: 0.5759 - val_loss: 0.5310 - val_accuracy: 0.8999\n",
      "Epoch 70/1000\n",
      "188/201 [===========================>..] - ETA: 0s - loss: 1.2241 - accuracy: 0.5763\n",
      "Epoch 70: saving model to model/keypoint_classifier\\keypoint_classifier.hdf5\n",
      "201/201 [==============================] - 0s 2ms/step - loss: 1.2282 - accuracy: 0.5768 - val_loss: 0.5302 - val_accuracy: 0.9031\n",
      "Epoch 71/1000\n",
      "190/201 [===========================>..] - ETA: 0s - loss: 1.2256 - accuracy: 0.5806\n",
      "Epoch 71: saving model to model/keypoint_classifier\\keypoint_classifier.hdf5\n",
      "201/201 [==============================] - 0s 2ms/step - loss: 1.2265 - accuracy: 0.5806 - val_loss: 0.5466 - val_accuracy: 0.8941\n",
      "Epoch 72/1000\n",
      "175/201 [=========================>....] - ETA: 0s - loss: 1.2118 - accuracy: 0.5823\n",
      "Epoch 72: saving model to model/keypoint_classifier\\keypoint_classifier.hdf5\n",
      "201/201 [==============================] - 0s 2ms/step - loss: 1.2118 - accuracy: 0.5826 - val_loss: 0.5455 - val_accuracy: 0.8692\n",
      "Epoch 73/1000\n",
      "200/201 [============================>.] - ETA: 0s - loss: 1.2216 - accuracy: 0.5816\n",
      "Epoch 73: saving model to model/keypoint_classifier\\keypoint_classifier.hdf5\n",
      "201/201 [==============================] - 0s 2ms/step - loss: 1.2211 - accuracy: 0.5817 - val_loss: 0.5464 - val_accuracy: 0.8834\n",
      "Epoch 74/1000\n",
      "190/201 [===========================>..] - ETA: 0s - loss: 1.2286 - accuracy: 0.5800\n",
      "Epoch 74: saving model to model/keypoint_classifier\\keypoint_classifier.hdf5\n",
      "201/201 [==============================] - 0s 2ms/step - loss: 1.2283 - accuracy: 0.5796 - val_loss: 0.5386 - val_accuracy: 0.9043\n",
      "Epoch 75/1000\n",
      "181/201 [==========================>...] - ETA: 0s - loss: 1.2170 - accuracy: 0.5837\n",
      "Epoch 75: saving model to model/keypoint_classifier\\keypoint_classifier.hdf5\n",
      "201/201 [==============================] - 0s 2ms/step - loss: 1.2188 - accuracy: 0.5843 - val_loss: 0.5446 - val_accuracy: 0.8899\n",
      "Epoch 76/1000\n",
      "190/201 [===========================>..] - ETA: 0s - loss: 1.2125 - accuracy: 0.5815\n",
      "Epoch 76: saving model to model/keypoint_classifier\\keypoint_classifier.hdf5\n",
      "201/201 [==============================] - 0s 2ms/step - loss: 1.2123 - accuracy: 0.5808 - val_loss: 0.5377 - val_accuracy: 0.9007\n",
      "Epoch 77/1000\n",
      "189/201 [===========================>..] - ETA: 0s - loss: 1.2204 - accuracy: 0.5785\n",
      "Epoch 77: saving model to model/keypoint_classifier\\keypoint_classifier.hdf5\n",
      "201/201 [==============================] - 0s 2ms/step - loss: 1.2193 - accuracy: 0.5786 - val_loss: 0.5395 - val_accuracy: 0.8969\n",
      "Epoch 78/1000\n",
      "184/201 [==========================>...] - ETA: 0s - loss: 1.2010 - accuracy: 0.5876\n",
      "Epoch 78: saving model to model/keypoint_classifier\\keypoint_classifier.hdf5\n",
      "201/201 [==============================] - 0s 2ms/step - loss: 1.2048 - accuracy: 0.5865 - val_loss: 0.5315 - val_accuracy: 0.8989\n",
      "Epoch 79/1000\n",
      "181/201 [==========================>...] - ETA: 0s - loss: 1.1893 - accuracy: 0.5884\n",
      "Epoch 79: saving model to model/keypoint_classifier\\keypoint_classifier.hdf5\n",
      "201/201 [==============================] - 0s 2ms/step - loss: 1.1913 - accuracy: 0.5891 - val_loss: 0.5323 - val_accuracy: 0.9045\n",
      "Epoch 80/1000\n",
      "182/201 [==========================>...] - ETA: 0s - loss: 1.2029 - accuracy: 0.5867\n",
      "Epoch 80: saving model to model/keypoint_classifier\\keypoint_classifier.hdf5\n",
      "201/201 [==============================] - 0s 2ms/step - loss: 1.2048 - accuracy: 0.5867 - val_loss: 0.5510 - val_accuracy: 0.8848\n",
      "Epoch 81/1000\n",
      "174/201 [========================>.....] - ETA: 0s - loss: 1.1958 - accuracy: 0.5894\n",
      "Epoch 81: saving model to model/keypoint_classifier\\keypoint_classifier.hdf5\n",
      "201/201 [==============================] - 0s 2ms/step - loss: 1.1933 - accuracy: 0.5908 - val_loss: 0.5404 - val_accuracy: 0.8910\n",
      "Epoch 82/1000\n",
      "184/201 [==========================>...] - ETA: 0s - loss: 1.1947 - accuracy: 0.5852\n",
      "Epoch 82: saving model to model/keypoint_classifier\\keypoint_classifier.hdf5\n",
      "201/201 [==============================] - 0s 2ms/step - loss: 1.1928 - accuracy: 0.5868 - val_loss: 0.5324 - val_accuracy: 0.8987\n"
     ]
    },
    {
     "name": "stdout",
     "output_type": "stream",
     "text": [
      "Epoch 83/1000\n",
      "182/201 [==========================>...] - ETA: 0s - loss: 1.2083 - accuracy: 0.5848\n",
      "Epoch 83: saving model to model/keypoint_classifier\\keypoint_classifier.hdf5\n",
      "201/201 [==============================] - 0s 2ms/step - loss: 1.2085 - accuracy: 0.5846 - val_loss: 0.5443 - val_accuracy: 0.8979\n",
      "Epoch 84/1000\n",
      "186/201 [==========================>...] - ETA: 0s - loss: 1.1989 - accuracy: 0.5879\n",
      "Epoch 84: saving model to model/keypoint_classifier\\keypoint_classifier.hdf5\n",
      "201/201 [==============================] - 0s 2ms/step - loss: 1.2005 - accuracy: 0.5870 - val_loss: 0.5496 - val_accuracy: 0.8777\n",
      "Epoch 85/1000\n",
      "183/201 [==========================>...] - ETA: 0s - loss: 1.1969 - accuracy: 0.5959\n",
      "Epoch 85: saving model to model/keypoint_classifier\\keypoint_classifier.hdf5\n",
      "201/201 [==============================] - 0s 2ms/step - loss: 1.1954 - accuracy: 0.5959 - val_loss: 0.5554 - val_accuracy: 0.8752\n",
      "Epoch 86/1000\n",
      "187/201 [==========================>...] - ETA: 0s - loss: 1.1744 - accuracy: 0.5953\n",
      "Epoch 86: saving model to model/keypoint_classifier\\keypoint_classifier.hdf5\n",
      "201/201 [==============================] - 0s 2ms/step - loss: 1.1779 - accuracy: 0.5950 - val_loss: 0.5343 - val_accuracy: 0.8938\n",
      "Epoch 87/1000\n",
      "190/201 [===========================>..] - ETA: 0s - loss: 1.1863 - accuracy: 0.5940\n",
      "Epoch 87: saving model to model/keypoint_classifier\\keypoint_classifier.hdf5\n",
      "201/201 [==============================] - 0s 2ms/step - loss: 1.1876 - accuracy: 0.5927 - val_loss: 0.5322 - val_accuracy: 0.8868\n",
      "Epoch 88/1000\n",
      "190/201 [===========================>..] - ETA: 0s - loss: 1.2016 - accuracy: 0.5896\n",
      "Epoch 88: saving model to model/keypoint_classifier\\keypoint_classifier.hdf5\n",
      "201/201 [==============================] - 0s 2ms/step - loss: 1.2002 - accuracy: 0.5903 - val_loss: 0.5487 - val_accuracy: 0.8741\n",
      "Epoch 88: early stopping\n"
     ]
    },
    {
     "data": {
      "text/plain": [
       "<keras.src.callbacks.History at 0x1e51ae67c40>"
      ]
     },
     "execution_count": 22,
     "metadata": {},
     "output_type": "execute_result"
    }
   ],
   "source": [
    "model.fit(\n",
    "    X_train,\n",
    "    y_train,\n",
    "    epochs=1000,\n",
    "    batch_size=128,\n",
    "    validation_data=(X_test, y_test),\n",
    "    callbacks=[cp_callback, es_callback]\n",
    ")"
   ]
  },
  {
   "cell_type": "code",
   "execution_count": 23,
   "metadata": {
    "colab": {
     "base_uri": "https://localhost:8080/"
    },
    "id": "pxvb2Y299hE3",
    "outputId": "59eb3185-2e37-4b9e-bc9d-ab1b8ac29b7f"
   },
   "outputs": [
    {
     "name": "stdout",
     "output_type": "stream",
     "text": [
      "67/67 [==============================] - 0s 1ms/step - loss: 0.5487 - accuracy: 0.8741\n"
     ]
    }
   ],
   "source": [
    "# Model evaluation\n",
    "val_loss, val_acc = model.evaluate(X_test, y_test, batch_size=128)"
   ]
  },
  {
   "cell_type": "code",
   "execution_count": 24,
   "metadata": {
    "id": "RBkmDeUW9hE4"
   },
   "outputs": [],
   "source": [
    "# Loading the saved model\n",
    "model = tf.keras.models.load_model(model_save_path)"
   ]
  },
  {
   "cell_type": "code",
   "execution_count": 25,
   "metadata": {
    "colab": {
     "base_uri": "https://localhost:8080/"
    },
    "id": "tFz9Tb0I9hE4",
    "outputId": "1c3b3528-54ae-4ee2-ab04-77429211cbef"
   },
   "outputs": [
    {
     "name": "stdout",
     "output_type": "stream",
     "text": [
      "1/1 [==============================] - 0s 68ms/step\n",
      "[5.4710480e-36 2.8824721e-18 8.1117262e-14 3.3195189e-16 5.2665344e-14\n",
      " 8.4133280e-22 2.4609137e-26 5.7312211e-30 7.4620069e-25 2.6845476e-10\n",
      " 9.1717192e-07 1.3144696e-10 5.6921653e-02 1.9061560e-27 2.0943029e-11\n",
      " 1.7055027e-06 3.4763201e-04 9.5374882e-05 5.0587986e-26 1.3626890e-05\n",
      " 1.6678422e-15 1.1600356e-17 6.4521217e-08 5.6396621e-09 3.9740318e-01\n",
      " 1.1697342e-05 1.9338416e-34 8.4015965e-13 6.8732021e-08 8.8460226e-09\n",
      " 1.6816159e-15 0.0000000e+00 7.6570410e-20 5.4520404e-01 5.9201019e-11]\n",
      "33\n"
     ]
    }
   ],
   "source": [
    "# Inference test\n",
    "predict_result = model.predict(np.array([X_test[0]]))\n",
    "print(np.squeeze(predict_result))\n",
    "print(np.argmax(np.squeeze(predict_result)))"
   ]
  },
  {
   "cell_type": "markdown",
   "metadata": {
    "id": "S3U4yNWx9hE4"
   },
   "source": [
    "# Confusion matrix"
   ]
  },
  {
   "cell_type": "code",
   "execution_count": 26,
   "metadata": {
    "colab": {
     "base_uri": "https://localhost:8080/",
     "height": 582
    },
    "id": "AP1V6SCk9hE5",
    "outputId": "08e41a80-7a4a-4619-8125-ecc371368d19"
   },
   "outputs": [
    {
     "name": "stdout",
     "output_type": "stream",
     "text": [
      "268/268 [==============================] - 0s 779us/step\n"
     ]
    },
    {
     "data": {
      "image/png": "[encoded data removed]",
      "text/plain": [
       "<Figure size 700x600 with 2 Axes>"
      ]
     },
     "metadata": {},
     "output_type": "display_data"
    },
    {
     "name": "stdout",
     "output_type": "stream",
     "text": [
      "Classification Report\n",
      "              precision    recall  f1-score   support\n",
      "\n",
      "           0       0.00      0.00      0.00         1\n",
      "           1       0.78      0.46      0.58       230\n",
      "           2       0.97      0.94      0.96       241\n",
      "           3       1.00      1.00      1.00       249\n",
      "           4       0.91      0.99      0.95       259\n",
      "           5       1.00      1.00      1.00       253\n",
      "           6       0.90      0.97      0.93       259\n",
      "           7       0.97      0.99      0.98       250\n",
      "           8       0.99      0.93      0.96       257\n",
      "           9       1.00      1.00      1.00       267\n",
      "          10       0.99      0.87      0.93       229\n",
      "          11       0.97      0.87      0.92       249\n",
      "          12       1.00      0.91      0.95       236\n",
      "          13       0.66      0.89      0.76       265\n",
      "          14       0.89      0.84      0.86       247\n",
      "          15       1.00      1.00      1.00       273\n",
      "          16       0.00      0.00      0.00       241\n",
      "          17       0.52      1.00      0.68       264\n",
      "          18       0.95      1.00      0.97       231\n",
      "          19       1.00      1.00      1.00       269\n",
      "          20       0.99      1.00      1.00       247\n",
      "          21       1.00      0.99      0.99       246\n",
      "          22       0.96      0.31      0.47       228\n",
      "          23       0.70      0.99      0.82       268\n",
      "          24       0.74      0.26      0.39       228\n",
      "          25       1.00      0.98      0.99       273\n",
      "          26       1.00      1.00      1.00       245\n",
      "          27       0.90      0.52      0.66       265\n",
      "          28       0.78      1.00      0.88       262\n",
      "          29       0.99      1.00      0.99       235\n",
      "          30       0.63      0.87      0.73       275\n",
      "          31       0.95      0.99      0.97       275\n",
      "          32       0.96      0.97      0.97       251\n",
      "          33       0.60      1.00      0.75       255\n",
      "          34       1.00      1.00      1.00       225\n",
      "\n",
      "    accuracy                           0.87      8548\n",
      "   macro avg       0.85      0.84      0.83      8548\n",
      "weighted avg       0.87      0.87      0.86      8548\n",
      "\n"
     ]
    },
    {
     "name": "stderr",
     "output_type": "stream",
     "text": [
      "c:\\users\\khand\\onedrive\\desktop\\final year project\\code base\\hand-gesture-recognition-mediapipe\\train\\lib\\site-packages\\sklearn\\metrics\\_classification.py:1471: UndefinedMetricWarning: Precision and F-score are ill-defined and being set to 0.0 in labels with no predicted samples. Use `zero_division` parameter to control this behavior.\n",
      "  _warn_prf(average, modifier, msg_start, len(result))\n",
      "c:\\users\\khand\\onedrive\\desktop\\final year project\\code base\\hand-gesture-recognition-mediapipe\\train\\lib\\site-packages\\sklearn\\metrics\\_classification.py:1471: UndefinedMetricWarning: Precision and F-score are ill-defined and being set to 0.0 in labels with no predicted samples. Use `zero_division` parameter to control this behavior.\n",
      "  _warn_prf(average, modifier, msg_start, len(result))\n",
      "c:\\users\\khand\\onedrive\\desktop\\final year project\\code base\\hand-gesture-recognition-mediapipe\\train\\lib\\site-packages\\sklearn\\metrics\\_classification.py:1471: UndefinedMetricWarning: Precision and F-score are ill-defined and being set to 0.0 in labels with no predicted samples. Use `zero_division` parameter to control this behavior.\n",
      "  _warn_prf(average, modifier, msg_start, len(result))\n"
     ]
    }
   ],
   "source": [
    "import pandas as pd\n",
    "import seaborn as sns\n",
    "import matplotlib.pyplot as plt\n",
    "from sklearn.metrics import confusion_matrix, classification_report\n",
    "\n",
    "def print_confusion_matrix(y_true, y_pred, report=True):\n",
    "    labels = sorted(list(set(y_true)))\n",
    "    cmx_data = confusion_matrix(y_true, y_pred, labels=labels)\n",
    "    \n",
    "    df_cmx = pd.DataFrame(cmx_data, index=labels, columns=labels)\n",
    " \n",
    "    fig, ax = plt.subplots(figsize=(7, 6))\n",
    "    sns.heatmap(df_cmx, annot=True, fmt='g' ,square=False)\n",
    "    ax.set_ylim(len(set(y_true)), 0)\n",
    "    plt.show()\n",
    "    \n",
    "    if report:\n",
    "        print('Classification Report')\n",
    "        print(classification_report(y_test, y_pred))\n",
    "\n",
    "Y_pred = model.predict(X_test)\n",
    "y_pred = np.argmax(Y_pred, axis=1)\n",
    "\n",
    "print_confusion_matrix(y_test, y_pred)"
   ]
  },
  {
   "cell_type": "markdown",
   "metadata": {
    "id": "FNP6aqzc9hE5"
   },
   "source": [
    "# Convert to model for Tensorflow-Lite"
   ]
  },
  {
   "cell_type": "code",
   "execution_count": 27,
   "metadata": {
    "id": "ODjnYyld9hE6"
   },
   "outputs": [
    {
     "name": "stderr",
     "output_type": "stream",
     "text": [
      "c:\\users\\khand\\onedrive\\desktop\\final year project\\code base\\hand-gesture-recognition-mediapipe\\train\\lib\\site-packages\\keras\\src\\engine\\training.py:3000: UserWarning: You are saving your model as an HDF5 file via `model.save()`. This file format is considered legacy. We recommend using instead the native Keras format, e.g. `model.save('my_model.keras')`.\n",
      "  saving_api.save_model(\n"
     ]
    }
   ],
   "source": [
    "# Save as a model dedicated to inference\n",
    "model.save(model_save_path, include_optimizer=False)"
   ]
  },
  {
   "cell_type": "code",
   "execution_count": 28,
   "metadata": {
    "colab": {
     "base_uri": "https://localhost:8080/"
    },
    "id": "zRfuK8Y59hE6",
    "outputId": "a4ca585c-b5d5-4244-8291-8674063209bb"
   },
   "outputs": [
    {
     "name": "stdout",
     "output_type": "stream",
     "text": [
      "INFO:tensorflow:Assets written to: C:\\Users\\khand\\AppData\\Local\\Temp\\tmptfd6qm6d\\assets\n"
     ]
    },
    {
     "name": "stderr",
     "output_type": "stream",
     "text": [
      "INFO:tensorflow:Assets written to: C:\\Users\\khand\\AppData\\Local\\Temp\\tmptfd6qm6d\\assets\n"
     ]
    },
    {
     "data": {
      "text/plain": [
       "7936"
      ]
     },
     "execution_count": 28,
     "metadata": {},
     "output_type": "execute_result"
    }
   ],
   "source": [
    "# Transform model (quantization)\n",
    "\n",
    "converter = tf.lite.TFLiteConverter.from_keras_model(model)\n",
    "converter.optimizations = [tf.lite.Optimize.DEFAULT]\n",
    "tflite_quantized_model = converter.convert()\n",
    "\n",
    "open(tflite_save_path, 'wb').write(tflite_quantized_model)"
   ]
  },
  {
   "cell_type": "markdown",
   "metadata": {
    "id": "CHBPBXdx9hE6"
   },
   "source": [
    "# Inference test"
   ]
  },
  {
   "cell_type": "code",
   "execution_count": 29,
   "metadata": {
    "id": "mGAzLocO9hE7"
   },
   "outputs": [],
   "source": [
    "interpreter = tf.lite.Interpreter(model_path=tflite_save_path)\n",
    "interpreter.allocate_tensors()"
   ]
  },
  {
   "cell_type": "code",
   "execution_count": 30,
   "metadata": {
    "id": "oQuDK8YS9hE7"
   },
   "outputs": [],
   "source": [
    "# Get I / O tensor\n",
    "input_details = interpreter.get_input_details()\n",
    "output_details = interpreter.get_output_details()"
   ]
  },
  {
   "cell_type": "code",
   "execution_count": 31,
   "metadata": {
    "id": "2_ixAf_l9hE7"
   },
   "outputs": [],
   "source": [
    "interpreter.set_tensor(input_details[0]['index'], np.array([X_test[0]]))"
   ]
  },
  {
   "cell_type": "code",
   "execution_count": 32,
   "metadata": {
    "colab": {
     "base_uri": "https://localhost:8080/"
    },
    "id": "s4FoAnuc9hE7",
    "outputId": "91f18257-8d8b-4ef3-c558-e9b5f94fabbf",
    "scrolled": true
   },
   "outputs": [
    {
     "name": "stdout",
     "output_type": "stream",
     "text": [
      "CPU times: total: 0 ns\n",
      "Wall time: 0 ns\n"
     ]
    }
   ],
   "source": [
    "%%time\n",
    "# Inference implementation\n",
    "interpreter.invoke()\n",
    "tflite_results = interpreter.get_tensor(output_details[0]['index'])"
   ]
  },
  {
   "cell_type": "code",
   "execution_count": 33,
   "metadata": {
    "colab": {
     "base_uri": "https://localhost:8080/"
    },
    "id": "vONjp19J9hE8",
    "outputId": "77205e24-fd00-42c4-f7b6-e06e527c2cba"
   },
   "outputs": [
    {
     "name": "stdout",
     "output_type": "stream",
     "text": [
      "[5.47105233e-36 2.88247504e-18 8.11176552e-14 3.31952212e-16\n",
      " 5.26653882e-14 8.41330278e-22 2.46092509e-26 5.73118233e-30\n",
      " 7.46201230e-25 2.68453926e-10 9.17169984e-07 1.31447075e-10\n",
      " 5.69215342e-02 1.90617221e-27 2.09430060e-11 1.70549924e-06\n",
      " 3.47632507e-04 9.53748749e-05 5.05882231e-26 1.36269009e-05\n",
      " 1.66783731e-15 1.16003214e-17 6.45210960e-08 5.63965630e-09\n",
      " 3.97402793e-01 1.16973415e-05 1.93382849e-34 8.40163442e-13\n",
      " 6.87318789e-08 8.84599682e-09 1.68161737e-15 0.00000000e+00\n",
      " 7.65701964e-20 5.45204520e-01 5.92007346e-11]\n",
      "33\n"
     ]
    }
   ],
   "source": [
    "print(np.squeeze(tflite_results))\n",
    "print(np.argmax(np.squeeze(tflite_results)))"
   ]
  }
 ],
 "metadata": {
  "accelerator": "GPU",
  "colab": {
   "collapsed_sections": [],
   "name": "keypoint_classification_EN.ipynb",
   "provenance": [],
   "toc_visible": true
  },
  "kernelspec": {
   "display_name": "train",
   "language": "python",
   "name": "train"
  },
  "language_info": {
   "codemirror_mode": {
    "name": "ipython",
    "version": 3
   },
   "file_extension": ".py",
   "mimetype": "text/x-python",
   "name": "python",
   "nbconvert_exporter": "python",
   "pygments_lexer": "ipython3",
   "version": "3.8.0"
  }
 },
 "nbformat": 4,
 "nbformat_minor": 4
}
