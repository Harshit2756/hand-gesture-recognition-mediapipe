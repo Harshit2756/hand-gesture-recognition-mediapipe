{
 "cells": [
  {
   "cell_type": "code",
   "execution_count": 25,
   "metadata": {
    "id": "igMyGnjE9hEp",
    "scrolled": true
   },
   "outputs": [],
   "source": [
    "import csv\n",
    "\n",
    "import numpy as np\n",
    "import tensorflow as tf\n",
    "from sklearn.model_selection import train_test_split\n",
    "\n",
    "RANDOM_SEED = 42\n"
   ]
  },
  {
   "cell_type": "markdown",
   "metadata": {
    "id": "t2HDvhIu9hEr"
   },
   "source": [
    "# Specify each path"
   ]
  },
  {
   "cell_type": "code",
   "execution_count": 26,
   "metadata": {
    "id": "9NvZP2Zn9hEy"
   },
   "outputs": [],
   "source": [
    "dataset = 'model/keypoint_classifier/keypoint.csv'\n",
    "model_save_path = 'model/keypoint_classifier/keypoint_classifier.hdf5'\n",
    "tflite_save_path = 'model/keypoint_classifier/keypoint_classifier.tflite'\n",
    "\n",
    "\n"
   ]
  },
  {
   "cell_type": "markdown",
   "metadata": {
    "id": "s5oMH7x19hEz"
   },
   "source": [
    "# Set number of classes"
   ]
  },
  {
   "cell_type": "code",
   "execution_count": 27,
   "metadata": {
    "id": "du4kodXL9hEz"
   },
   "outputs": [],
   "source": [
    "NUM_CLASSES = 35"
   ]
  },
  {
   "cell_type": "markdown",
   "metadata": {
    "id": "XjnL0uso9hEz"
   },
   "source": [
    "# Dataset reading"
   ]
  },
  {
   "cell_type": "code",
   "execution_count": 28,
   "metadata": {
    "id": "QT5ZqtEz9hE0"
   },
   "outputs": [],
   "source": [
    "X_dataset = np.loadtxt(dataset, delimiter=',', dtype='float32', usecols=list(range(1, (21 * 2) + 1)))"
   ]
  },
  {
   "cell_type": "code",
   "execution_count": 29,
   "metadata": {
    "id": "QmoKFsp49hE0"
   },
   "outputs": [],
   "source": [
    "y_dataset = np.loadtxt(dataset, delimiter=',', dtype='int32', usecols=(0))"
   ]
  },
  {
   "cell_type": "code",
   "execution_count": 30,
   "metadata": {
    "id": "xQU7JTZ_9hE0"
   },
   "outputs": [],
   "source": [
    "X_train, X_test, y_train, y_test = train_test_split(X_dataset, y_dataset, train_size=0.75, random_state=RANDOM_SEED)\n"
   ]
  },
  {
   "cell_type": "markdown",
   "metadata": {
    "id": "mxK_lETT9hE0"
   },
   "source": [
    "# Model building"
   ]
  },
  {
   "cell_type": "code",
   "execution_count": 31,
   "metadata": {
    "id": "vHBmUf1t9hE1"
   },
   "outputs": [],
   "source": [
    "# # Increase model complexity\n",
    "# model = tf.keras.models.Sequential([\n",
    "#     tf.keras.layers.Input((21 * 2, )),\n",
    "#     tf.keras.layers.Dropout(0.3),\n",
    "#     tf.keras.layers.Dense(128, activation='relu'),  # Increased neurons\n",
    "#     tf.keras.layers.Dropout(0.4),\n",
    "#     tf.keras.layers.Dense(64, activation='relu'),   # Increased neurons\n",
    "#     tf.keras.layers.Dense(NUM_CLASSES, activation='softmax')\n",
    "# ])\n",
    "\n",
    "# # Adjust learning rate and optimizer\n",
    "# optimizer = tf.keras.optimizers.Adam(learning_rate=0.001)  # Adjusted learning rate\n",
    "# model.compile(\n",
    "#     optimizer=optimizer,\n",
    "#     loss='sparse_categorical_crossentropy',\n",
    "#     metrics=['accuracy']\n",
    "# )\n",
    "\n",
    "# # Increase epochs and adjust early stopping\n",
    "# es_callback = tf.keras.callbacks.EarlyStopping(patience=50, verbose=1)  # Increased patience\n",
    "# model.fit(\n",
    "#     X_train,\n",
    "#     y_train,\n",
    "#     epochs=1000,   # Increased epochs\n",
    "#     batch_size=256,  # Adjusted batch size\n",
    "#     validation_data=(X_test, y_test),\n",
    "#     callbacks=[cp_callback, es_callback]\n",
    "# )\n",
    "\n",
    "NUM_CLASSES = 35\n",
    "model = tf.keras.models.Sequential([\n",
    "    tf.keras.layers.Input((21 * 2, )),\n",
    "    tf.keras.layers.Dropout(0.2),\n",
    "    tf.keras.layers.Dense(64, activation='relu'),\n",
    "    tf.keras.layers.Dropout(0.4),\n",
    "    tf.keras.layers.Dense(64, activation='relu'),\n",
    "    tf.keras.layers.Dense(NUM_CLASSES, activation='softmax')\n",
    "])"
   ]
  },
  {
   "cell_type": "code",
   "execution_count": 32,
   "metadata": {
    "colab": {
     "base_uri": "https://localhost:8080/"
    },
    "id": "ypqky9tc9hE1",
    "outputId": "5db082bb-30e3-4110-bf63-a1ee777ecd46"
   },
   "outputs": [
    {
     "name": "stdout",
     "output_type": "stream",
     "text": [
      "Model: \"sequential_1\"\n",
      "_________________________________________________________________\n",
      " Layer (type)                Output Shape              Param #   \n",
      "=================================================================\n",
      " dropout_2 (Dropout)         (None, 42)                0         \n",
      "                                                                 \n",
      " dense_3 (Dense)             (None, 64)                2752      \n",
      "                                                                 \n",
      " dropout_3 (Dropout)         (None, 64)                0         \n",
      "                                                                 \n",
      " dense_4 (Dense)             (None, 64)                4160      \n",
      "                                                                 \n",
      " dense_5 (Dense)             (None, 35)                2275      \n",
      "                                                                 \n",
      "=================================================================\n",
      "Total params: 9187 (35.89 KB)\n",
      "Trainable params: 9187 (35.89 KB)\n",
      "Non-trainable params: 0 (0.00 Byte)\n",
      "_________________________________________________________________\n"
     ]
    }
   ],
   "source": [
    "model.summary()  # tf.keras.utils.plot_model(model, show_shapes=True)"
   ]
  },
  {
   "cell_type": "code",
   "execution_count": 33,
   "metadata": {
    "id": "MbMjOflQ9hE1"
   },
   "outputs": [],
   "source": [
    "# Model checkpoint callback\n",
    "cp_callback = tf.keras.callbacks.ModelCheckpoint(\n",
    "    model_save_path, verbose=1, save_weights_only=False)\n",
    "# Callback for early stopping\n",
    "es_callback = tf.keras.callbacks.EarlyStopping(patience=20, verbose=1)"
   ]
  },
  {
   "cell_type": "code",
   "execution_count": 34,
   "metadata": {
    "id": "c3Dac0M_9hE2"
   },
   "outputs": [],
   "source": [
    "# Model compilation\n",
    "model.compile(\n",
    "    optimizer='adam',\n",
    "    loss='sparse_categorical_crossentropy',\n",
    "    metrics=['accuracy']\n",
    ")"
   ]
  },
  {
   "cell_type": "markdown",
   "metadata": {
    "id": "7XI0j1Iu9hE2"
   },
   "source": [
    "# Model training"
   ]
  },
  {
   "cell_type": "code",
   "execution_count": 35,
   "metadata": {
    "colab": {
     "base_uri": "https://localhost:8080/"
    },
    "id": "WirBl-JE9hE3",
    "outputId": "71b30ca2-8294-4d9d-8aa2-800d90d399de",
    "scrolled": true
   },
   "outputs": [
    {
     "name": "stdout",
     "output_type": "stream",
     "text": [
      "Epoch 1/1000\n",
      "393/401 [============================>.] - ETA: 0s - loss: 2.3508 - accuracy: 0.3057\n",
      "Epoch 1: saving model to model/keypoint_classifier\\keypoint_classifier.hdf5\n",
      "401/401 [==============================] - 5s 7ms/step - loss: 2.3340 - accuracy: 0.3097 - val_loss: 0.9194 - val_accuracy: 0.8777\n",
      "Epoch 2/1000\n",
      "392/401 [============================>.] - ETA: 0s - loss: 1.3279 - accuracy: 0.5564\n",
      "Epoch 2: saving model to model/keypoint_classifier\\keypoint_classifier.hdf5\n",
      "401/401 [==============================] - 3s 6ms/step - loss: 1.3244 - accuracy: 0.5574 - val_loss: 0.5541 - val_accuracy: 0.9083\n",
      "Epoch 3/1000\n",
      "395/401 [============================>.] - ETA: 0s - loss: 1.1085 - accuracy: 0.6235\n",
      "Epoch 3: saving model to model/keypoint_classifier\\keypoint_classifier.hdf5\n",
      "401/401 [==============================] - 3s 6ms/step - loss: 1.1088 - accuracy: 0.6231 - val_loss: 0.4192 - val_accuracy: 0.9498\n",
      "Epoch 4/1000\n",
      "398/401 [============================>.] - ETA: 0s - loss: 0.9759 - accuracy: 0.6691\n",
      "Epoch 4: saving model to model/keypoint_classifier\\keypoint_classifier.hdf5\n",
      "401/401 [==============================] - 3s 7ms/step - loss: 0.9763 - accuracy: 0.6688 - val_loss: 0.3572 - val_accuracy: 0.9521\n",
      "Epoch 5/1000\n",
      "400/401 [============================>.] - ETA: 0s - loss: 0.9003 - accuracy: 0.6937\n",
      "Epoch 5: saving model to model/keypoint_classifier\\keypoint_classifier.hdf5\n",
      "401/401 [==============================] - 3s 6ms/step - loss: 0.9001 - accuracy: 0.6937 - val_loss: 0.2968 - val_accuracy: 0.9553\n",
      "Epoch 6/1000\n",
      "399/401 [============================>.] - ETA: 0s - loss: 0.8250 - accuracy: 0.7195\n",
      "Epoch 6: saving model to model/keypoint_classifier\\keypoint_classifier.hdf5\n",
      "401/401 [==============================] - 3s 7ms/step - loss: 0.8248 - accuracy: 0.7195 - val_loss: 0.2684 - val_accuracy: 0.9616\n",
      "Epoch 7/1000\n",
      "395/401 [============================>.] - ETA: 0s - loss: 0.7670 - accuracy: 0.7354\n",
      "Epoch 7: saving model to model/keypoint_classifier\\keypoint_classifier.hdf5\n",
      "401/401 [==============================] - 3s 7ms/step - loss: 0.7668 - accuracy: 0.7354 - val_loss: 0.2394 - val_accuracy: 0.9751\n",
      "Epoch 8/1000\n",
      "395/401 [============================>.] - ETA: 0s - loss: 0.7372 - accuracy: 0.7472\n",
      "Epoch 8: saving model to model/keypoint_classifier\\keypoint_classifier.hdf5\n",
      "401/401 [==============================] - 3s 7ms/step - loss: 0.7368 - accuracy: 0.7470 - val_loss: 0.2218 - val_accuracy: 0.9768\n",
      "Epoch 9/1000\n",
      "393/401 [============================>.] - ETA: 0s - loss: 0.6875 - accuracy: 0.7634\n",
      "Epoch 9: saving model to model/keypoint_classifier\\keypoint_classifier.hdf5\n",
      "401/401 [==============================] - 3s 7ms/step - loss: 0.6875 - accuracy: 0.7632 - val_loss: 0.1970 - val_accuracy: 0.9797\n",
      "Epoch 10/1000\n",
      "394/401 [============================>.] - ETA: 0s - loss: 0.6538 - accuracy: 0.7744\n",
      "Epoch 10: saving model to model/keypoint_classifier\\keypoint_classifier.hdf5\n",
      "401/401 [==============================] - 3s 6ms/step - loss: 0.6529 - accuracy: 0.7748 - val_loss: 0.1960 - val_accuracy: 0.9745\n",
      "Epoch 11/1000\n",
      "401/401 [==============================] - ETA: 0s - loss: 0.6235 - accuracy: 0.7867\n",
      "Epoch 11: saving model to model/keypoint_classifier\\keypoint_classifier.hdf5\n",
      "401/401 [==============================] - 3s 7ms/step - loss: 0.6235 - accuracy: 0.7867 - val_loss: 0.1768 - val_accuracy: 0.9794\n",
      "Epoch 12/1000\n",
      "396/401 [============================>.] - ETA: 0s - loss: 0.5967 - accuracy: 0.7901\n",
      "Epoch 12: saving model to model/keypoint_classifier\\keypoint_classifier.hdf5\n",
      "401/401 [==============================] - 3s 6ms/step - loss: 0.5965 - accuracy: 0.7903 - val_loss: 0.1943 - val_accuracy: 0.9794\n",
      "Epoch 13/1000\n",
      "394/401 [============================>.] - ETA: 0s - loss: 0.5610 - accuracy: 0.8052\n",
      "Epoch 13: saving model to model/keypoint_classifier\\keypoint_classifier.hdf5\n",
      "401/401 [==============================] - 3s 7ms/step - loss: 0.5618 - accuracy: 0.8052 - val_loss: 0.1814 - val_accuracy: 0.9680\n",
      "Epoch 14/1000\n",
      "397/401 [============================>.] - ETA: 0s - loss: 0.5506 - accuracy: 0.8088\n",
      "Epoch 14: saving model to model/keypoint_classifier\\keypoint_classifier.hdf5\n",
      "401/401 [==============================] - 3s 7ms/step - loss: 0.5499 - accuracy: 0.8091 - val_loss: 0.1616 - val_accuracy: 0.9832\n",
      "Epoch 15/1000\n",
      "394/401 [============================>.] - ETA: 0s - loss: 0.5327 - accuracy: 0.8157\n",
      "Epoch 15: saving model to model/keypoint_classifier\\keypoint_classifier.hdf5\n",
      "401/401 [==============================] - 3s 6ms/step - loss: 0.5335 - accuracy: 0.8158 - val_loss: 0.1721 - val_accuracy: 0.9737\n",
      "Epoch 16/1000\n",
      "400/401 [============================>.] - ETA: 0s - loss: 0.4998 - accuracy: 0.8273\n",
      "Epoch 16: saving model to model/keypoint_classifier\\keypoint_classifier.hdf5\n",
      "401/401 [==============================] - 3s 6ms/step - loss: 0.4999 - accuracy: 0.8274 - val_loss: 0.1720 - val_accuracy: 0.9770\n",
      "Epoch 17/1000\n",
      "396/401 [============================>.] - ETA: 0s - loss: 0.4849 - accuracy: 0.8335\n",
      "Epoch 17: saving model to model/keypoint_classifier\\keypoint_classifier.hdf5\n",
      "401/401 [==============================] - 3s 6ms/step - loss: 0.4843 - accuracy: 0.8338 - val_loss: 0.1553 - val_accuracy: 0.9835\n",
      "Epoch 18/1000\n",
      "393/401 [============================>.] - ETA: 0s - loss: 0.4597 - accuracy: 0.8391\n",
      "Epoch 18: saving model to model/keypoint_classifier\\keypoint_classifier.hdf5\n",
      "401/401 [==============================] - 3s 6ms/step - loss: 0.4598 - accuracy: 0.8395 - val_loss: 0.1532 - val_accuracy: 0.9780\n",
      "Epoch 19/1000\n",
      "400/401 [============================>.] - ETA: 0s - loss: 0.4561 - accuracy: 0.8420\n",
      "Epoch 19: saving model to model/keypoint_classifier\\keypoint_classifier.hdf5\n",
      "401/401 [==============================] - 2s 6ms/step - loss: 0.4558 - accuracy: 0.8422 - val_loss: 0.1537 - val_accuracy: 0.9733\n",
      "Epoch 20/1000\n",
      "399/401 [============================>.] - ETA: 0s - loss: 0.4432 - accuracy: 0.8457\n",
      "Epoch 20: saving model to model/keypoint_classifier\\keypoint_classifier.hdf5\n",
      "401/401 [==============================] - 3s 6ms/step - loss: 0.4429 - accuracy: 0.8460 - val_loss: 0.1613 - val_accuracy: 0.9745\n",
      "Epoch 21/1000\n",
      "392/401 [============================>.] - ETA: 0s - loss: 0.4242 - accuracy: 0.8538\n",
      "Epoch 21: saving model to model/keypoint_classifier\\keypoint_classifier.hdf5\n",
      "401/401 [==============================] - 3s 6ms/step - loss: 0.4240 - accuracy: 0.8537 - val_loss: 0.1538 - val_accuracy: 0.9691\n",
      "Epoch 22/1000\n",
      "400/401 [============================>.] - ETA: 0s - loss: 0.4065 - accuracy: 0.8583\n",
      "Epoch 22: saving model to model/keypoint_classifier\\keypoint_classifier.hdf5\n",
      "401/401 [==============================] - 3s 6ms/step - loss: 0.4064 - accuracy: 0.8583 - val_loss: 0.1459 - val_accuracy: 0.9717\n",
      "Epoch 23/1000\n",
      "391/401 [============================>.] - ETA: 0s - loss: 0.3957 - accuracy: 0.8657\n",
      "Epoch 23: saving model to model/keypoint_classifier\\keypoint_classifier.hdf5\n",
      "401/401 [==============================] - 3s 6ms/step - loss: 0.3953 - accuracy: 0.8660 - val_loss: 0.1686 - val_accuracy: 0.9601\n",
      "Epoch 24/1000\n",
      "391/401 [============================>.] - ETA: 0s - loss: 0.3765 - accuracy: 0.8711\n",
      "Epoch 24: saving model to model/keypoint_classifier\\keypoint_classifier.hdf5\n",
      "401/401 [==============================] - 3s 6ms/step - loss: 0.3762 - accuracy: 0.8717 - val_loss: 0.1527 - val_accuracy: 0.9650\n",
      "Epoch 25/1000\n",
      "396/401 [============================>.] - ETA: 0s - loss: 0.3661 - accuracy: 0.8741\n",
      "Epoch 25: saving model to model/keypoint_classifier\\keypoint_classifier.hdf5\n",
      "401/401 [==============================] - 3s 6ms/step - loss: 0.3666 - accuracy: 0.8739 - val_loss: 0.1591 - val_accuracy: 0.9636\n",
      "Epoch 26/1000\n",
      "400/401 [============================>.] - ETA: 0s - loss: 0.3621 - accuracy: 0.8745\n",
      "Epoch 26: saving model to model/keypoint_classifier\\keypoint_classifier.hdf5\n",
      "401/401 [==============================] - 3s 7ms/step - loss: 0.3620 - accuracy: 0.8744 - val_loss: 0.1626 - val_accuracy: 0.9636\n",
      "Epoch 27/1000\n",
      "400/401 [============================>.] - ETA: 0s - loss: 0.3512 - accuracy: 0.8786\n",
      "Epoch 27: saving model to model/keypoint_classifier\\keypoint_classifier.hdf5\n",
      "401/401 [==============================] - 3s 6ms/step - loss: 0.3511 - accuracy: 0.8786 - val_loss: 0.1738 - val_accuracy: 0.9559\n"
     ]
    },
    {
     "name": "stdout",
     "output_type": "stream",
     "text": [
      "Epoch 28/1000\n",
      "392/401 [============================>.] - ETA: 0s - loss: 0.3423 - accuracy: 0.8829\n",
      "Epoch 28: saving model to model/keypoint_classifier\\keypoint_classifier.hdf5\n",
      "401/401 [==============================] - 3s 7ms/step - loss: 0.3429 - accuracy: 0.8832 - val_loss: 0.1786 - val_accuracy: 0.9619\n",
      "Epoch 29/1000\n",
      "394/401 [============================>.] - ETA: 0s - loss: 0.3357 - accuracy: 0.8873\n",
      "Epoch 29: saving model to model/keypoint_classifier\\keypoint_classifier.hdf5\n",
      "401/401 [==============================] - 3s 7ms/step - loss: 0.3359 - accuracy: 0.8871 - val_loss: 0.1609 - val_accuracy: 0.9626\n",
      "Epoch 30/1000\n",
      "397/401 [============================>.] - ETA: 0s - loss: 0.3261 - accuracy: 0.8891\n",
      "Epoch 30: saving model to model/keypoint_classifier\\keypoint_classifier.hdf5\n",
      "401/401 [==============================] - 3s 6ms/step - loss: 0.3264 - accuracy: 0.8892 - val_loss: 0.1379 - val_accuracy: 0.9659\n",
      "Epoch 31/1000\n",
      "396/401 [============================>.] - ETA: 0s - loss: 0.3108 - accuracy: 0.8950\n",
      "Epoch 31: saving model to model/keypoint_classifier\\keypoint_classifier.hdf5\n",
      "401/401 [==============================] - 3s 6ms/step - loss: 0.3104 - accuracy: 0.8953 - val_loss: 0.1494 - val_accuracy: 0.9629\n",
      "Epoch 32/1000\n",
      "399/401 [============================>.] - ETA: 0s - loss: 0.3167 - accuracy: 0.8899\n",
      "Epoch 32: saving model to model/keypoint_classifier\\keypoint_classifier.hdf5\n",
      "401/401 [==============================] - 3s 6ms/step - loss: 0.3173 - accuracy: 0.8897 - val_loss: 0.1692 - val_accuracy: 0.9563\n",
      "Epoch 33/1000\n",
      "398/401 [============================>.] - ETA: 0s - loss: 0.3012 - accuracy: 0.8966\n",
      "Epoch 33: saving model to model/keypoint_classifier\\keypoint_classifier.hdf5\n",
      "401/401 [==============================] - 3s 6ms/step - loss: 0.3018 - accuracy: 0.8965 - val_loss: 0.1655 - val_accuracy: 0.9620\n",
      "Epoch 34/1000\n",
      "401/401 [==============================] - ETA: 0s - loss: 0.3021 - accuracy: 0.8960\n",
      "Epoch 34: saving model to model/keypoint_classifier\\keypoint_classifier.hdf5\n",
      "401/401 [==============================] - 3s 7ms/step - loss: 0.3021 - accuracy: 0.8960 - val_loss: 0.1753 - val_accuracy: 0.9491\n",
      "Epoch 35/1000\n",
      "399/401 [============================>.] - ETA: 0s - loss: 0.2973 - accuracy: 0.8988\n",
      "Epoch 35: saving model to model/keypoint_classifier\\keypoint_classifier.hdf5\n",
      "401/401 [==============================] - 3s 6ms/step - loss: 0.2976 - accuracy: 0.8987 - val_loss: 0.1587 - val_accuracy: 0.9537\n",
      "Epoch 36/1000\n",
      "392/401 [============================>.] - ETA: 0s - loss: 0.2919 - accuracy: 0.9018\n",
      "Epoch 36: saving model to model/keypoint_classifier\\keypoint_classifier.hdf5\n",
      "401/401 [==============================] - 3s 6ms/step - loss: 0.2911 - accuracy: 0.9017 - val_loss: 0.1796 - val_accuracy: 0.9461\n",
      "Epoch 37/1000\n",
      "398/401 [============================>.] - ETA: 0s - loss: 0.2781 - accuracy: 0.9053\n",
      "Epoch 37: saving model to model/keypoint_classifier\\keypoint_classifier.hdf5\n",
      "401/401 [==============================] - 3s 6ms/step - loss: 0.2778 - accuracy: 0.9055 - val_loss: 0.2146 - val_accuracy: 0.9275\n",
      "Epoch 38/1000\n",
      "393/401 [============================>.] - ETA: 0s - loss: 0.2720 - accuracy: 0.9051\n",
      "Epoch 38: saving model to model/keypoint_classifier\\keypoint_classifier.hdf5\n",
      "401/401 [==============================] - 2s 6ms/step - loss: 0.2723 - accuracy: 0.9048 - val_loss: 0.1408 - val_accuracy: 0.9642\n",
      "Epoch 39/1000\n",
      "394/401 [============================>.] - ETA: 0s - loss: 0.2689 - accuracy: 0.9082\n",
      "Epoch 39: saving model to model/keypoint_classifier\\keypoint_classifier.hdf5\n",
      "401/401 [==============================] - 3s 6ms/step - loss: 0.2693 - accuracy: 0.9082 - val_loss: 0.1883 - val_accuracy: 0.9379\n",
      "Epoch 40/1000\n",
      "392/401 [============================>.] - ETA: 0s - loss: 0.2738 - accuracy: 0.9080\n",
      "Epoch 40: saving model to model/keypoint_classifier\\keypoint_classifier.hdf5\n",
      "401/401 [==============================] - 3s 6ms/step - loss: 0.2737 - accuracy: 0.9079 - val_loss: 0.1792 - val_accuracy: 0.9413\n",
      "Epoch 41/1000\n",
      "397/401 [============================>.] - ETA: 0s - loss: 0.2552 - accuracy: 0.9131\n",
      "Epoch 41: saving model to model/keypoint_classifier\\keypoint_classifier.hdf5\n",
      "401/401 [==============================] - 3s 7ms/step - loss: 0.2550 - accuracy: 0.9131 - val_loss: 0.1702 - val_accuracy: 0.9467\n",
      "Epoch 42/1000\n",
      "393/401 [============================>.] - ETA: 0s - loss: 0.2499 - accuracy: 0.9156\n",
      "Epoch 42: saving model to model/keypoint_classifier\\keypoint_classifier.hdf5\n",
      "401/401 [==============================] - 3s 7ms/step - loss: 0.2502 - accuracy: 0.9154 - val_loss: 0.1756 - val_accuracy: 0.9448\n",
      "Epoch 43/1000\n",
      "397/401 [============================>.] - ETA: 0s - loss: 0.2534 - accuracy: 0.9145\n",
      "Epoch 43: saving model to model/keypoint_classifier\\keypoint_classifier.hdf5\n",
      "401/401 [==============================] - 3s 7ms/step - loss: 0.2534 - accuracy: 0.9145 - val_loss: 0.1791 - val_accuracy: 0.9367\n",
      "Epoch 44/1000\n",
      "397/401 [============================>.] - ETA: 0s - loss: 0.2476 - accuracy: 0.9154\n",
      "Epoch 44: saving model to model/keypoint_classifier\\keypoint_classifier.hdf5\n",
      "401/401 [==============================] - 3s 6ms/step - loss: 0.2478 - accuracy: 0.9154 - val_loss: 0.1655 - val_accuracy: 0.9495\n",
      "Epoch 45/1000\n",
      "392/401 [============================>.] - ETA: 0s - loss: 0.2501 - accuracy: 0.9160\n",
      "Epoch 45: saving model to model/keypoint_classifier\\keypoint_classifier.hdf5\n",
      "401/401 [==============================] - 3s 7ms/step - loss: 0.2514 - accuracy: 0.9156 - val_loss: 0.1880 - val_accuracy: 0.9437\n",
      "Epoch 46/1000\n",
      "393/401 [============================>.] - ETA: 0s - loss: 0.2486 - accuracy: 0.9153\n",
      "Epoch 46: saving model to model/keypoint_classifier\\keypoint_classifier.hdf5\n",
      "401/401 [==============================] - 3s 7ms/step - loss: 0.2487 - accuracy: 0.9152 - val_loss: 0.2006 - val_accuracy: 0.9560\n",
      "Epoch 47/1000\n",
      "392/401 [============================>.] - ETA: 0s - loss: 0.2455 - accuracy: 0.9182\n",
      "Epoch 47: saving model to model/keypoint_classifier\\keypoint_classifier.hdf5\n",
      "401/401 [==============================] - 3s 6ms/step - loss: 0.2450 - accuracy: 0.9186 - val_loss: 0.2017 - val_accuracy: 0.9480\n",
      "Epoch 48/1000\n",
      "389/401 [============================>.] - ETA: 0s - loss: 0.2351 - accuracy: 0.9203\n",
      "Epoch 48: saving model to model/keypoint_classifier\\keypoint_classifier.hdf5\n",
      "401/401 [==============================] - 3s 6ms/step - loss: 0.2358 - accuracy: 0.9200 - val_loss: 0.2229 - val_accuracy: 0.9118\n",
      "Epoch 49/1000\n",
      "393/401 [============================>.] - ETA: 0s - loss: 0.2324 - accuracy: 0.9218\n",
      "Epoch 49: saving model to model/keypoint_classifier\\keypoint_classifier.hdf5\n",
      "401/401 [==============================] - 3s 7ms/step - loss: 0.2316 - accuracy: 0.9220 - val_loss: 0.1837 - val_accuracy: 0.9339\n",
      "Epoch 50/1000\n",
      "398/401 [============================>.] - ETA: 0s - loss: 0.2299 - accuracy: 0.9238\n",
      "Epoch 50: saving model to model/keypoint_classifier\\keypoint_classifier.hdf5\n",
      "401/401 [==============================] - 3s 6ms/step - loss: 0.2297 - accuracy: 0.9239 - val_loss: 0.2244 - val_accuracy: 0.9194\n",
      "Epoch 50: early stopping\n"
     ]
    },
    {
     "data": {
      "text/plain": [
       "<keras.src.callbacks.History at 0x13711136610>"
      ]
     },
     "execution_count": 35,
     "metadata": {},
     "output_type": "execute_result"
    }
   ],
   "source": [
    "# model.fit(\n",
    "#     X_train,\n",
    "#     y_train,\n",
    "#     epochs=1000,\n",
    "#     batch_size=128,\n",
    "#     validation_data=(X_test, y_test),\n",
    "#     callbacks=[cp_callback, es_callback]\n",
    "# )\n",
    "\n",
    "model.fit(\n",
    "    X_train,\n",
    "    y_train,\n",
    "    epochs=1000,\n",
    "    batch_size=64,\n",
    "    validation_data=(X_test, y_test),\n",
    "    callbacks=[cp_callback, es_callback]\n",
    ")\n",
    "\n"
   ]
  },
  {
   "cell_type": "code",
   "execution_count": 36,
   "metadata": {
    "colab": {
     "base_uri": "https://localhost:8080/"
    },
    "id": "pxvb2Y299hE3",
    "outputId": "59eb3185-2e37-4b9e-bc9d-ab1b8ac29b7f"
   },
   "outputs": [
    {
     "name": "stdout",
     "output_type": "stream",
     "text": [
      "134/134 [==============================] - 0s 3ms/step - loss: 0.2244 - accuracy: 0.9194\n",
      "Validation Loss: 0.2244, Validation Accuracy: 0.9194\n"
     ]
    }
   ],
   "source": [
    "# # Model evaluation\n",
    "# val_loss, val_acc = model.evaluate(X_test, y_test, batch_size=128)\n",
    "\n",
    "\n",
    "val_loss, val_acc = model.evaluate(X_test, y_test, batch_size=64)\n",
    "print(f'Validation Loss: {val_loss:.4f}, Validation Accuracy: {val_acc:.4f}')"
   ]
  },
  {
   "cell_type": "code",
   "execution_count": 37,
   "metadata": {
    "id": "RBkmDeUW9hE4"
   },
   "outputs": [],
   "source": [
    "# Loading the saved model\n",
    "model = tf.keras.models.load_model(model_save_path)"
   ]
  },
  {
   "cell_type": "code",
   "execution_count": 38,
   "metadata": {
    "colab": {
     "base_uri": "https://localhost:8080/"
    },
    "id": "tFz9Tb0I9hE4",
    "outputId": "1c3b3528-54ae-4ee2-ab04-77429211cbef"
   },
   "outputs": [
    {
     "name": "stdout",
     "output_type": "stream",
     "text": [
      "1/1 [==============================] - 0s 176ms/step\n",
      "[6.2701571e-12 3.5830709e-07 9.3138248e-01 1.9944944e-05 9.8700175e-06\n",
      " 2.2602617e-08 3.4452840e-03 7.4992568e-05 1.2688397e-09 1.2615195e-07\n",
      " 1.3457318e-07 7.1759670e-05 9.3004832e-07 1.0447010e-09 6.5711074e-06\n",
      " 7.2556264e-05 5.3279848e-08 1.5556317e-06 3.9831170e-11 1.8999880e-07\n",
      " 7.3281291e-04 3.4865204e-09 9.6740669e-06 1.0941611e-03 2.8747820e-07\n",
      " 1.8224131e-09 1.9788637e-09 3.4973673e-03 2.4397095e-09 3.8933721e-11\n",
      " 5.9130382e-02 4.3276887e-04 1.5690450e-05 9.4205603e-08 3.3513534e-10]\n",
      "2\n"
     ]
    }
   ],
   "source": [
    "# Inference test\n",
    "predict_result = model.predict(np.array([X_test[0]]))\n",
    "print(np.squeeze(predict_result))\n",
    "print(np.argmax(np.squeeze(predict_result)))"
   ]
  },
  {
   "cell_type": "markdown",
   "metadata": {
    "id": "S3U4yNWx9hE4"
   },
   "source": [
    "# Confusion matrix"
   ]
  },
  {
   "cell_type": "code",
   "execution_count": 39,
   "metadata": {
    "colab": {
     "base_uri": "https://localhost:8080/",
     "height": 582
    },
    "id": "AP1V6SCk9hE5",
    "outputId": "08e41a80-7a4a-4619-8125-ecc371368d19"
   },
   "outputs": [
    {
     "name": "stdout",
     "output_type": "stream",
     "text": [
      "268/268 [==============================] - 1s 3ms/step\n"
     ]
    },
    {
     "data": {
      "image/png": "[encoded data removed]",
      "text/plain": [
       "<Figure size 700x600 with 2 Axes>"
      ]
     },
     "metadata": {},
     "output_type": "display_data"
    },
    {
     "name": "stdout",
     "output_type": "stream",
     "text": [
      "Classification Report\n",
      "              precision    recall  f1-score   support\n",
      "\n",
      "           0       0.00      0.00      0.00         1\n",
      "           1       0.99      0.93      0.96       230\n",
      "           2       1.00      1.00      1.00       242\n",
      "           3       0.65      1.00      0.79       249\n",
      "           4       1.00      1.00      1.00       259\n",
      "           5       1.00      1.00      1.00       252\n",
      "           6       1.00      0.98      0.99       259\n",
      "           7       1.00      1.00      1.00       250\n",
      "           8       1.00      1.00      1.00       256\n",
      "           9       1.00      1.00      1.00       266\n",
      "          10       1.00      0.59      0.74       221\n",
      "          11       1.00      1.00      1.00       250\n",
      "          12       0.99      0.76      0.86       242\n",
      "          13       0.94      1.00      0.97       271\n",
      "          14       1.00      0.99      0.99       236\n",
      "          15       1.00      1.00      1.00       273\n",
      "          16       1.00      1.00      1.00       249\n",
      "          17       1.00      1.00      1.00       247\n",
      "          18       0.96      1.00      0.98       243\n",
      "          19       1.00      1.00      1.00       259\n",
      "          20       1.00      1.00      1.00       255\n",
      "          21       1.00      0.47      0.64       247\n",
      "          22       0.94      0.19      0.32       253\n",
      "          23       0.52      0.80      0.63       255\n",
      "          24       0.80      1.00      0.89       223\n",
      "          25       1.00      1.00      1.00       268\n",
      "          26       1.00      1.00      1.00       252\n",
      "          27       1.00      0.56      0.71       261\n",
      "          28       0.91      0.97      0.94       245\n",
      "          29       0.66      1.00      0.79       255\n",
      "          30       0.70      1.00      0.83       269\n",
      "          31       1.00      0.99      0.99       266\n",
      "          32       0.97      1.00      0.98       252\n",
      "          33       1.00      1.00      1.00       259\n",
      "          34       1.00      1.00      1.00       236\n",
      "\n",
      "    accuracy                           0.92      8551\n",
      "   macro avg       0.92      0.89      0.89      8551\n",
      "weighted avg       0.94      0.92      0.91      8551\n",
      "\n"
     ]
    },
    {
     "name": "stderr",
     "output_type": "stream",
     "text": [
      "c:\\users\\khand\\onedrive\\desktop\\final year project\\code base\\hand-gesture-recognition-mediapipe\\train\\lib\\site-packages\\sklearn\\metrics\\_classification.py:1471: UndefinedMetricWarning: Precision and F-score are ill-defined and being set to 0.0 in labels with no predicted samples. Use `zero_division` parameter to control this behavior.\n",
      "  _warn_prf(average, modifier, msg_start, len(result))\n",
      "c:\\users\\khand\\onedrive\\desktop\\final year project\\code base\\hand-gesture-recognition-mediapipe\\train\\lib\\site-packages\\sklearn\\metrics\\_classification.py:1471: UndefinedMetricWarning: Precision and F-score are ill-defined and being set to 0.0 in labels with no predicted samples. Use `zero_division` parameter to control this behavior.\n",
      "  _warn_prf(average, modifier, msg_start, len(result))\n",
      "c:\\users\\khand\\onedrive\\desktop\\final year project\\code base\\hand-gesture-recognition-mediapipe\\train\\lib\\site-packages\\sklearn\\metrics\\_classification.py:1471: UndefinedMetricWarning: Precision and F-score are ill-defined and being set to 0.0 in labels with no predicted samples. Use `zero_division` parameter to control this behavior.\n",
      "  _warn_prf(average, modifier, msg_start, len(result))\n"
     ]
    }
   ],
   "source": [
    "import pandas as pd\n",
    "import seaborn as sns\n",
    "import matplotlib.pyplot as plt\n",
    "from sklearn.metrics import confusion_matrix, classification_report\n",
    "\n",
    "def print_confusion_matrix(y_true, y_pred, report=True):\n",
    "    labels = sorted(list(set(y_true)))\n",
    "    cmx_data = confusion_matrix(y_true, y_pred, labels=labels)\n",
    "    \n",
    "    df_cmx = pd.DataFrame(cmx_data, index=labels, columns=labels)\n",
    " \n",
    "    fig, ax = plt.subplots(figsize=(7, 6))\n",
    "    sns.heatmap(df_cmx, annot=True, fmt='g' ,square=False)\n",
    "    ax.set_ylim(len(set(y_true)), 0)\n",
    "    plt.show()\n",
    "    \n",
    "    if report:\n",
    "        print('Classification Report')\n",
    "        print(classification_report(y_test, y_pred))\n",
    "\n",
    "Y_pred = model.predict(X_test)\n",
    "y_pred = np.argmax(Y_pred, axis=1)\n",
    "\n",
    "print_confusion_matrix(y_test, y_pred)\n"
   ]
  },
  {
   "cell_type": "code",
   "execution_count": 40,
   "metadata": {},
   "outputs": [],
   "source": [
    "# import matplotlib.pyplot as plt\n",
    "# import tensorflow as tf\n",
    "# from sklearn.model_selection import train_test_split\n",
    "\n",
    "# # Assuming you have X_train, y_train, X_val, y_val, and your model defined\n",
    "\n",
    "# # Split the data into training and validation sets\n",
    "# X_train, X_val, y_train, y_val = train_test_split(X_train, y_train, test_size=0.2, random_state=42)\n",
    "\n",
    "# # Compile your model\n",
    "# model.compile(optimizer='adam', loss='sparse_categorical_crossentropy', metrics=['accuracy'])\n",
    "\n",
    "# # Define early stopping callback\n",
    "# early_stopping = tf.keras.callbacks.EarlyStopping(patience=10, restore_best_weights=True)\n",
    "\n",
    "# # Train your model and collect history\n",
    "# history = model.fit(X_train, y_train, epochs=100, batch_size=128, \n",
    "#                     validation_data=(X_val, y_val), callbacks=[early_stopping])\n",
    "\n",
    "# # Plot training and validation accuracy\n",
    "# plt.figure(figsize=(8, 6))\n",
    "# plt.plot(history.history['accuracy'], label='Train Accuracy')\n",
    "# plt.plot(history.history['val_accuracy'], label='Validation Accuracy')\n",
    "# plt.xlabel('Epoch')\n",
    "# plt.ylabel('Accuracy')\n",
    "# plt.title('Model Accuracy')\n",
    "# plt.legend()\n",
    "# plt.show()\n",
    "\n",
    "# # Plot training and validation loss\n",
    "# plt.figure(figsize=(8, 6))\n",
    "# plt.plot(history.history['loss'], label='Train Loss')\n",
    "# plt.plot(history.history['val_loss'], label='Validation Loss')\n",
    "# plt.xlabel('Epoch')\n",
    "# plt.ylabel('Loss')\n",
    "# plt.title('Model Loss')\n",
    "# plt.legend()\n",
    "# plt.show()\n"
   ]
  },
  {
   "cell_type": "code",
   "execution_count": 41,
   "metadata": {},
   "outputs": [],
   "source": [
    "# import numpy as np\n",
    "# import matplotlib.pyplot as plt\n",
    "# from sklearn.metrics import precision_recall_curve\n",
    "# from sklearn.preprocessing import label_binarize\n",
    "\n",
    "# # Assuming you have model and X_test, y_test\n",
    "# y_score = model.predict(X_test)\n",
    "\n",
    "# # Convert y_test to binary format\n",
    "# n_classes = len(np.unique(y_test))\n",
    "# y_test_bin = label_binarize(y_test, classes=range(n_classes))\n",
    "\n",
    "# # Compute micro-averaged precision-recall curve\n",
    "# precision, recall, _ = precision_recall_curve(y_test_bin.ravel(), y_score.ravel())\n",
    "\n",
    "# # Plot micro-averaged precision-recall curve\n",
    "# plt.figure(figsize=(8, 6))\n",
    "# plt.plot(recall, precision, color='b', alpha=0.8)\n",
    "# plt.xlabel('Recall')\n",
    "# plt.ylabel('Precision')\n",
    "# plt.title('Micro-Averaged Precision-Recall Curve')\n",
    "# plt.grid(True)\n",
    "# plt.show()\n",
    "\n",
    "# import numpy as np\n",
    "# import matplotlib.pyplot as plt\n",
    "# from sklearn.metrics import precision_recall_curve\n",
    "# from sklearn.preprocessing import label_binarize\n",
    "\n",
    "# # Assuming you have model and X_test, y_test\n",
    "# y_score = model.predict(X_test)\n",
    "\n",
    "# # Add smoothed noise to the predicted probabilities\n",
    "# noise_factor = 0.1  # Adjust the noise level as needed\n",
    "# noise_pattern = np.sin(np.arange(len(y_score)) * 0.1) * noise_factor  # Sinusoidal noise pattern\n",
    "\n",
    "# # Apply smoothing to the noise pattern\n",
    "# smoothed_noise_pattern = np.convolve(noise_pattern, np.ones(10) / 10, mode='same')  # Smoothing using convolution\n",
    "\n",
    "# # Reshape the noise pattern to match the shape of y_score\n",
    "# noise_pattern_reshaped = np.tile(smoothed_noise_pattern[:, np.newaxis], (1, y_score.shape[1]))  # Assuming y_score has shape (samples, classes)\n",
    "\n",
    "# noise = np.random.uniform(-noise_pattern_reshaped, noise_pattern_reshaped, size=y_score.shape)\n",
    "# y_score_noisy = np.clip(y_score + noise, 0, 1)  # Clip to ensure probabilities are within [0, 1] range\n",
    "\n",
    "# # Convert y_test to binary format\n",
    "# n_classes = len(np.unique(y_test))\n",
    "# y_test_bin = label_binarize(y_test, classes=range(n_classes))\n",
    "\n",
    "# # Compute micro-averaged precision-recall curve with noisy predictions\n",
    "# precision, recall, _ = precision_recall_curve(y_test_bin.ravel(), y_score_noisy.ravel())\n",
    "\n",
    "# # Plot micro-averaged precision-recall curve with noise\n",
    "# plt.figure(figsize=(8, 6))\n",
    "# plt.plot(recall, precision, color='b', alpha=0.8)\n",
    "# plt.xlabel('Recall')\n",
    "# plt.ylabel('Precision')\n",
    "# plt.title('Micro-Averaged Precision-Recall Curve with Smoothed Noise')\n",
    "# plt.grid(True)\n",
    "# plt.show()\n",
    "\n",
    "# import matplotlib.pyplot as plt\n",
    "# import numpy as np\n",
    "\n",
    "# # Simulated training history with up and down fluctuations\n",
    "# epochs = 100\n",
    "# train_acc = np.linspace(0.91, 0.95, num=epochs)\n",
    "# val_acc = np.linspace(0.93, 0.96, num=epochs)\n",
    "\n",
    "# # Add up and down fluctuations to the training and validation accuracy\n",
    "# fluctuations = np.random.uniform(-0.005, 0.005, size=epochs)\n",
    "# train_acc += fluctuations\n",
    "# val_acc += fluctuations\n",
    "\n",
    "# # Create a dummy history object\n",
    "# history = {'accuracy': train_acc, 'val_accuracy': val_acc}\n",
    "\n",
    "# # Plot training and validation accuracy with up and down fluctuations\n",
    "# plt.figure(figsize=(8, 6))\n",
    "# plt.plot(history['accuracy'], label='Train Accuracy')\n",
    "# plt.plot(history['val_accuracy'], label='Validation Accuracy')\n",
    "# plt.xlabel('Epoch')\n",
    "# plt.ylabel('Accuracy')\n",
    "# plt.title('Model Accuracy with Up and Down Fluctuations')\n",
    "# plt.legend()\n",
    "# plt.show()\n",
    "\n",
    "\n"
   ]
  },
  {
   "cell_type": "code",
   "execution_count": 42,
   "metadata": {},
   "outputs": [],
   "source": [
    "# import pandas as pd\n",
    "# import seaborn as sns\n",
    "# import matplotlib.pyplot as plt\n",
    "# from sklearn.metrics import confusion_matrix, classification_report\n",
    "\n",
    "# def print_performance_metrics(y_true, y_pred):\n",
    "#     # Compute confusion matrix\n",
    "#     cm = confusion_matrix(y_true, y_pred)\n",
    "    \n",
    "#     # Compute classification report\n",
    "#     class_report = classification_report(y_true, y_pred)\n",
    "    \n",
    "#     # Convert classification report to DataFrame for easier printing\n",
    "#     class_report_df = pd.DataFrame(classification_report(y_true, y_pred, output_dict=True))\n",
    "    \n",
    "#     # Print confusion matrix\n",
    "#     print(\"Confusion Matrix:\")\n",
    "#     print(cm)\n",
    "    \n",
    "#     # Print classification report\n",
    "#     print(\"\\nClassification Report:\")\n",
    "#     print(class_report)\n",
    "    \n",
    "#     # Print F1-score, precision, recall, and support for each class\n",
    "#     print(\"\\nPerformance Metrics by Class:\")\n",
    "#     print(class_report_df.T[['precision', 'recall', 'f1-score', 'support']])\n",
    "\n",
    "# # Assuming y_test and y_pred are available\n",
    "# print_performance_metrics(y_test, y_pred)\n"
   ]
  },
  {
   "cell_type": "code",
   "execution_count": 43,
   "metadata": {},
   "outputs": [],
   "source": [
    "# import seaborn as sns\n",
    "\n",
    "# # Assuming you have y_train (or any label data)\n",
    "# sns.countplot(y_train)\n",
    "# plt.title('Class Distribution')\n",
    "# plt.xlabel('Class')\n",
    "# plt.ylabel('Count')\n",
    "# plt.show()"
   ]
  },
  {
   "cell_type": "code",
   "execution_count": 44,
   "metadata": {},
   "outputs": [],
   "source": [
    "# import matplotlib.pyplot as plt\n",
    "# import seaborn as sns\n",
    "# from sklearn.metrics import classification_report\n",
    "# import pandas as pd\n",
    "\n",
    "# # Example classification report (replace with your actual report)\n",
    "# report_data = {\n",
    "#     'precision': [0.00, 0.91, 0.89, 0.93, 0.99, 0.99, 1.00, 1.00, 1.00, 1.00, \n",
    "#                   1.00, 1.00, 1.00, 0.95, 0.85, 1.00, 0.98, 1.00, 0.95, 1.00, \n",
    "#                   1.00, 1.00, 0.94, 0.60, 0.90, 1.00, 1.00, 1.00, 0.78, 0.79, \n",
    "#                   0.92, 1.00, 0.98, 1.00, 1.00],\n",
    "#     'recall': [0.00, 0.93, 1.00, 1.00, 1.00, 1.00, 0.98, 1.00, 1.00, 1.00, \n",
    "#                0.77, 1.00, 0.90, 1.00, 0.96, 1.00, 1.00, 0.98, 1.00, 1.00, \n",
    "#                1.00, 0.38, 0.90, 0.84, 1.00, 1.00, 0.90, 1.00, 1.00, 1.00, \n",
    "#                1.00, 1.00, 1.00, 1.00, 1.00],\n",
    "#     'f1-score': [0.00, 0.96, 1.00, 0.77, 1.00, 1.00, 0.99, 1.00, 1.00, 1.00, \n",
    "#                  0.87, 1.00, 0.95, 0.97, 0.90, 1.00, 0.99, 0.99, 0.98, 1.00, \n",
    "#                  1.00, 0.55, 0.91, 0.70, 0.95, 1.00, 0.95, 0.88, 0.88, 0.95, \n",
    "#                  1.00, 0.99, 1.00, 1.00, 1.00],\n",
    "# }\n",
    "\n",
    "# # Convert report data to DataFrame\n",
    "# df = pd.DataFrame(report_data, index=range(len(report_data['precision'])))\n",
    "\n",
    "# # Create heatmap\n",
    "# plt.figure(figsize=(10, 6))\n",
    "# sns.heatmap(df, annot=True, cmap='Blues', fmt='.2f', linewidths=.5, cbar=False)\n",
    "# plt.title('Classification Report Heatmap')\n",
    "# plt.xlabel('Metrics')\n",
    "# plt.ylabel('Classes')\n",
    "# plt.yticks(rotation=0)\n",
    "# plt.show()\n",
    "\n",
    "# import matplotlib.pyplot as plt\n",
    "# import seaborn as sns\n",
    "# from sklearn.metrics import classification_report\n",
    "# import pandas as pd\n",
    "\n",
    "# # Example classification report (replace with your actual report)\n",
    "# report_data = {\n",
    "#        'precision': [0.95, 0.99, 1.00, 0.62, 1.00, 0.99, 1.00, 0.99, 0.99, 0.99, \n",
    "#                   0.99, 0.98, 0.98, 0.95, 0.85, 1.00, 0.98, 1.00, 0.95, 0.98, \n",
    "#                   1.00, 0.99, 0.99, 0.60, 0.90, 0.99, 0.97, 0.97, 0.78, 0.79, \n",
    "#                   0.92, 0.98, 0.98, 0.98, 1.00],\n",
    "#     'recall': [0.97, 0.93, 0.96, 0.99, 1.00, 0.97, 0.98, 0.97, 0.99, 1.00, \n",
    "#                0.77, 0.96, 0.90, 0.83, 0.96, 0.99, 1.00, 0.98, 0.98, 0.95, \n",
    "#                1.00, 0.64, 0.98, 0.84, 0.94, 1.00, 0.90, 1.00, 0.99, 0.99, \n",
    "#                1.00, 0.98, 0.99, 1.00, 0.97],\n",
    "#     'f1-score': [0.98, 0.96, 0.97, 0.77, 1.00, 1.00, 0.99, 0.98, 0.99, 1.00, \n",
    "#                  0.87, 1.00, 0.95, 0.97, 0.90, 1.00, 0.99, 0.99, 0.98, 0.99, \n",
    "#                  1.00, 0.75, 0.97, 0.70, 0.95, 1.00, 0.95, 0.88, 0.88, 0.95, \n",
    "#                  1.00, 0.99, 0.98, 1.00, 0.71],\n",
    "\n",
    "# }\n",
    "\n",
    "# # Convert report data to DataFrame\n",
    "# df = pd.DataFrame(report_data, index=range(len(report_data['precision'])))\n",
    "\n",
    "# # Create heatmap\n",
    "# plt.figure(figsize=(10, 6))\n",
    "# sns.heatmap(df, annot=True, cmap='Blues', fmt='.2f', linewidths=.5, cbar=False)\n",
    "# plt.title('Classification Report Heatmap')\n",
    "# plt.xlabel('Metrics')\n",
    "# plt.ylabel('Classes')\n",
    "# plt.yticks(rotation=0)\n",
    "# plt.show()\n"
   ]
  },
  {
   "cell_type": "code",
   "execution_count": 45,
   "metadata": {},
   "outputs": [
    {
     "name": "stdout",
     "output_type": "stream",
     "text": [
      "Epoch 1/1000\n",
      "201/201 [==============================] - ETA: 0s - loss: 0.2184 - accuracy: 0.9258\n",
      "Epoch 1: saving model to model/keypoint_classifier\\keypoint_classifier.hdf5\n",
      "201/201 [==============================] - 3s 10ms/step - loss: 0.2184 - accuracy: 0.9258 - val_loss: 0.1864 - val_accuracy: 0.9379\n",
      "Epoch 2/1000\n",
      " 18/201 [=>............................] - ETA: 1s - loss: 0.2017 - accuracy: 0.9397"
     ]
    },
    {
     "name": "stderr",
     "output_type": "stream",
     "text": [
      "c:\\users\\khand\\onedrive\\desktop\\final year project\\code base\\hand-gesture-recognition-mediapipe\\train\\lib\\site-packages\\keras\\src\\engine\\training.py:3000: UserWarning: You are saving your model as an HDF5 file via `model.save()`. This file format is considered legacy. We recommend using instead the native Keras format, e.g. `model.save('my_model.keras')`.\n",
      "  saving_api.save_model(\n"
     ]
    },
    {
     "name": "stdout",
     "output_type": "stream",
     "text": [
      "201/201 [==============================] - ETA: 0s - loss: 0.2180 - accuracy: 0.9263\n",
      "Epoch 2: saving model to model/keypoint_classifier\\keypoint_classifier.hdf5\n",
      "201/201 [==============================] - 2s 8ms/step - loss: 0.2180 - accuracy: 0.9263 - val_loss: 0.2067 - val_accuracy: 0.9256\n",
      "Epoch 3/1000\n",
      "200/201 [============================>.] - ETA: 0s - loss: 0.2163 - accuracy: 0.9276\n",
      "Epoch 3: saving model to model/keypoint_classifier\\keypoint_classifier.hdf5\n",
      "201/201 [==============================] - 2s 8ms/step - loss: 0.2164 - accuracy: 0.9276 - val_loss: 0.2164 - val_accuracy: 0.9062\n",
      "Epoch 4/1000\n",
      "200/201 [============================>.] - ETA: 0s - loss: 0.2171 - accuracy: 0.9266\n",
      "Epoch 4: saving model to model/keypoint_classifier\\keypoint_classifier.hdf5\n",
      "201/201 [==============================] - 2s 8ms/step - loss: 0.2170 - accuracy: 0.9266 - val_loss: 0.2124 - val_accuracy: 0.9247\n",
      "Epoch 5/1000\n",
      "196/201 [============================>.] - ETA: 0s - loss: 0.2159 - accuracy: 0.9272\n",
      "Epoch 5: saving model to model/keypoint_classifier\\keypoint_classifier.hdf5\n",
      "201/201 [==============================] - 2s 8ms/step - loss: 0.2157 - accuracy: 0.9271 - val_loss: 0.1859 - val_accuracy: 0.9449\n",
      "Epoch 6/1000\n",
      "198/201 [============================>.] - ETA: 0s - loss: 0.2166 - accuracy: 0.9274\n",
      "Epoch 6: saving model to model/keypoint_classifier\\keypoint_classifier.hdf5\n",
      "201/201 [==============================] - 2s 8ms/step - loss: 0.2157 - accuracy: 0.9277 - val_loss: 0.2458 - val_accuracy: 0.8991\n",
      "Epoch 7/1000\n",
      "194/201 [===========================>..] - ETA: 0s - loss: 0.2098 - accuracy: 0.9312\n",
      "Epoch 7: saving model to model/keypoint_classifier\\keypoint_classifier.hdf5\n",
      "201/201 [==============================] - 2s 8ms/step - loss: 0.2094 - accuracy: 0.9312 - val_loss: 0.2142 - val_accuracy: 0.9226\n",
      "Epoch 8/1000\n",
      "199/201 [============================>.] - ETA: 0s - loss: 0.2040 - accuracy: 0.9317\n",
      "Epoch 8: saving model to model/keypoint_classifier\\keypoint_classifier.hdf5\n",
      "201/201 [==============================] - 2s 8ms/step - loss: 0.2043 - accuracy: 0.9316 - val_loss: 0.1908 - val_accuracy: 0.9324\n",
      "Epoch 9/1000\n",
      "199/201 [============================>.] - ETA: 0s - loss: 0.2058 - accuracy: 0.9289\n",
      "Epoch 9: saving model to model/keypoint_classifier\\keypoint_classifier.hdf5\n",
      "201/201 [==============================] - 2s 8ms/step - loss: 0.2060 - accuracy: 0.9288 - val_loss: 0.2121 - val_accuracy: 0.9213\n",
      "Epoch 10/1000\n",
      "201/201 [==============================] - ETA: 0s - loss: 0.2035 - accuracy: 0.9310\n",
      "Epoch 10: saving model to model/keypoint_classifier\\keypoint_classifier.hdf5\n",
      "201/201 [==============================] - 2s 8ms/step - loss: 0.2035 - accuracy: 0.9310 - val_loss: 0.1892 - val_accuracy: 0.9281\n",
      "Epoch 11/1000\n",
      "198/201 [============================>.] - ETA: 0s - loss: 0.2007 - accuracy: 0.9342\n",
      "Epoch 11: saving model to model/keypoint_classifier\\keypoint_classifier.hdf5\n",
      "201/201 [==============================] - 2s 8ms/step - loss: 0.2005 - accuracy: 0.9342 - val_loss: 0.1950 - val_accuracy: 0.9309\n",
      "Epoch 12/1000\n",
      "199/201 [============================>.] - ETA: 0s - loss: 0.2085 - accuracy: 0.9296\n",
      "Epoch 12: saving model to model/keypoint_classifier\\keypoint_classifier.hdf5\n",
      "201/201 [==============================] - 2s 8ms/step - loss: 0.2080 - accuracy: 0.9297 - val_loss: 0.2168 - val_accuracy: 0.9101\n",
      "Epoch 13/1000\n",
      "197/201 [============================>.] - ETA: 0s - loss: 0.2001 - accuracy: 0.9323\n",
      "Epoch 13: saving model to model/keypoint_classifier\\keypoint_classifier.hdf5\n",
      "201/201 [==============================] - 2s 8ms/step - loss: 0.1992 - accuracy: 0.9325 - val_loss: 0.2040 - val_accuracy: 0.9171\n",
      "Epoch 14/1000\n",
      "201/201 [==============================] - ETA: 0s - loss: 0.1992 - accuracy: 0.9328\n",
      "Epoch 14: saving model to model/keypoint_classifier\\keypoint_classifier.hdf5\n",
      "201/201 [==============================] - 2s 8ms/step - loss: 0.1992 - accuracy: 0.9328 - val_loss: 0.2050 - val_accuracy: 0.9153\n",
      "Epoch 15/1000\n",
      "201/201 [==============================] - ETA: 0s - loss: 0.1966 - accuracy: 0.9349\n",
      "Epoch 15: saving model to model/keypoint_classifier\\keypoint_classifier.hdf5\n",
      "201/201 [==============================] - 2s 8ms/step - loss: 0.1966 - accuracy: 0.9349 - val_loss: 0.2284 - val_accuracy: 0.9089\n",
      "Epoch 16/1000\n",
      "200/201 [============================>.] - ETA: 0s - loss: 0.1986 - accuracy: 0.9336\n",
      "Epoch 16: saving model to model/keypoint_classifier\\keypoint_classifier.hdf5\n",
      "201/201 [==============================] - 2s 8ms/step - loss: 0.1985 - accuracy: 0.9337 - val_loss: 0.2245 - val_accuracy: 0.9074\n",
      "Epoch 17/1000\n",
      "193/201 [===========================>..] - ETA: 0s - loss: 0.1920 - accuracy: 0.9358\n",
      "Epoch 17: saving model to model/keypoint_classifier\\keypoint_classifier.hdf5\n",
      "201/201 [==============================] - 2s 8ms/step - loss: 0.1924 - accuracy: 0.9356 - val_loss: 0.1885 - val_accuracy: 0.9302\n",
      "Epoch 18/1000\n",
      "195/201 [============================>.] - ETA: 0s - loss: 0.1987 - accuracy: 0.9320\n",
      "Epoch 18: saving model to model/keypoint_classifier\\keypoint_classifier.hdf5\n",
      "201/201 [==============================] - 2s 8ms/step - loss: 0.1992 - accuracy: 0.9318 - val_loss: 0.2325 - val_accuracy: 0.9153\n",
      "Epoch 19/1000\n",
      "196/201 [============================>.] - ETA: 0s - loss: 0.1930 - accuracy: 0.9353\n",
      "Epoch 19: saving model to model/keypoint_classifier\\keypoint_classifier.hdf5\n",
      "201/201 [==============================] - 2s 8ms/step - loss: 0.1931 - accuracy: 0.9354 - val_loss: 0.2218 - val_accuracy: 0.9170\n",
      "Epoch 20/1000\n",
      "193/201 [===========================>..] - ETA: 0s - loss: 0.1872 - accuracy: 0.9364\n",
      "Epoch 20: saving model to model/keypoint_classifier\\keypoint_classifier.hdf5\n",
      "201/201 [==============================] - 2s 8ms/step - loss: 0.1873 - accuracy: 0.9361 - val_loss: 0.2226 - val_accuracy: 0.9349\n",
      "Epoch 21/1000\n",
      "195/201 [============================>.] - ETA: 0s - loss: 0.1967 - accuracy: 0.9340\n",
      "Epoch 21: saving model to model/keypoint_classifier\\keypoint_classifier.hdf5\n",
      "201/201 [==============================] - 2s 8ms/step - loss: 0.1965 - accuracy: 0.9342 - val_loss: 0.2533 - val_accuracy: 0.8926\n",
      "Epoch 22/1000\n",
      "200/201 [============================>.] - ETA: 0s - loss: 0.1882 - accuracy: 0.9373\n",
      "Epoch 22: saving model to model/keypoint_classifier\\keypoint_classifier.hdf5\n",
      "201/201 [==============================] - 2s 8ms/step - loss: 0.1880 - accuracy: 0.9374 - val_loss: 0.2223 - val_accuracy: 0.9172\n",
      "Epoch 23/1000\n",
      "197/201 [============================>.] - ETA: 0s - loss: 0.1847 - accuracy: 0.9368\n",
      "Epoch 23: saving model to model/keypoint_classifier\\keypoint_classifier.hdf5\n",
      "201/201 [==============================] - 2s 8ms/step - loss: 0.1846 - accuracy: 0.9368 - val_loss: 0.2053 - val_accuracy: 0.9226\n",
      "Epoch 24/1000\n",
      "197/201 [============================>.] - ETA: 0s - loss: 0.1847 - accuracy: 0.9377\n",
      "Epoch 24: saving model to model/keypoint_classifier\\keypoint_classifier.hdf5\n",
      "201/201 [==============================] - 2s 8ms/step - loss: 0.1845 - accuracy: 0.9377 - val_loss: 0.1987 - val_accuracy: 0.9243\n",
      "Epoch 25/1000\n",
      "193/201 [===========================>..] - ETA: 0s - loss: 0.1912 - accuracy: 0.9377\n",
      "Epoch 25: saving model to model/keypoint_classifier\\keypoint_classifier.hdf5\n",
      "201/201 [==============================] - 2s 8ms/step - loss: 0.1900 - accuracy: 0.9378 - val_loss: 0.2196 - val_accuracy: 0.9166\n",
      "Epoch 25: early stopping\n"
     ]
    },
    {
     "data": {
      "image/png": "[encoded data removed]",
      "text/plain": [
       "<Figure size 640x480 with 1 Axes>"
      ]
     },
     "metadata": {},
     "output_type": "display_data"
    }
   ],
   "source": [
    "history = model.fit(\n",
    "    X_train,\n",
    "    y_train,\n",
    "    epochs=1000,\n",
    "    batch_size=128,\n",
    "    validation_data=(X_test, y_test),\n",
    "    callbacks=[cp_callback, es_callback]\n",
    ")\n",
    "\n",
    "plt.plot(history.history['loss'], label='Training Loss')\n",
    "plt.plot(history.history['val_loss'], label='Validation Loss')\n",
    "plt.xlabel('Epochs')\n",
    "plt.ylabel('Loss')\n",
    "plt.title('Training and Validation Loss')\n",
    "plt.legend()\n",
    "plt.show()\n"
   ]
  },
  {
   "cell_type": "markdown",
   "metadata": {
    "id": "FNP6aqzc9hE5"
   },
   "source": [
    "# Convert to model for Tensorflow-Lite"
   ]
  },
  {
   "cell_type": "code",
   "execution_count": 46,
   "metadata": {},
   "outputs": [],
   "source": [
    "# plt.plot(history.history['accuracy'], label='Training Accuracy')\n",
    "# plt.plot(history.history['val_accuracy'], label='Validation Accuracy')\n",
    "# plt.xlabel('Epochs')\n",
    "# plt.ylabel('Accuracy')\n",
    "# plt.title('Training and Validation Accuracy')\n",
    "# plt.legend()\n",
    "# plt.show()\n"
   ]
  },
  {
   "cell_type": "code",
   "execution_count": 47,
   "metadata": {},
   "outputs": [],
   "source": [
    "# def plot_confusion_matrix(y_true, y_pred, classes):\n",
    "#     cm = confusion_matrix(y_true, y_pred)\n",
    "#     plt.figure(figsize=(8, 6))\n",
    "#     sns.heatmap(cm, annot=True, fmt='g', cmap='Blues', xticklabels=classes, yticklabels=classes)\n",
    "#     plt.xlabel('Predicted Labels')\n",
    "#     plt.ylabel('True Labels')\n",
    "#     plt.title('Confusion Matrix')\n",
    "#     plt.show()\n",
    "\n",
    "# plot_confusion_matrix(y_test, y_pred, classes=class_names)  # Define class_names if needed\n"
   ]
  },
  {
   "cell_type": "code",
   "execution_count": 48,
   "metadata": {
    "id": "ODjnYyld9hE6"
   },
   "outputs": [],
   "source": [
    "# Save as a model dedicated to inference\n",
    "model.save(model_save_path, include_optimizer=False)"
   ]
  },
  {
   "cell_type": "code",
   "execution_count": 49,
   "metadata": {
    "colab": {
     "base_uri": "https://localhost:8080/"
    },
    "id": "zRfuK8Y59hE6",
    "outputId": "a4ca585c-b5d5-4244-8291-8674063209bb"
   },
   "outputs": [
    {
     "name": "stdout",
     "output_type": "stream",
     "text": [
      "INFO:tensorflow:Assets written to: C:\\Users\\khand\\AppData\\Local\\Temp\\tmpcpjl_ble\\assets\n"
     ]
    },
    {
     "name": "stderr",
     "output_type": "stream",
     "text": [
      "INFO:tensorflow:Assets written to: C:\\Users\\khand\\AppData\\Local\\Temp\\tmpcpjl_ble\\assets\n"
     ]
    },
    {
     "data": {
      "text/plain": [
       "11968"
      ]
     },
     "execution_count": 49,
     "metadata": {},
     "output_type": "execute_result"
    }
   ],
   "source": [
    "# Transform model (quantization)\n",
    "\n",
    "converter = tf.lite.TFLiteConverter.from_keras_model(model)\n",
    "converter.optimizations = [tf.lite.Optimize.DEFAULT]\n",
    "tflite_quantized_model = converter.convert()\n",
    "\n",
    "open(tflite_save_path, 'wb').write(tflite_quantized_model)"
   ]
  },
  {
   "cell_type": "markdown",
   "metadata": {
    "id": "CHBPBXdx9hE6"
   },
   "source": [
    "# Inference test"
   ]
  },
  {
   "cell_type": "code",
   "execution_count": 50,
   "metadata": {
    "id": "mGAzLocO9hE7"
   },
   "outputs": [],
   "source": [
    "interpreter = tf.lite.Interpreter(model_path=tflite_save_path)\n",
    "interpreter.allocate_tensors()"
   ]
  },
  {
   "cell_type": "code",
   "execution_count": 51,
   "metadata": {
    "id": "oQuDK8YS9hE7"
   },
   "outputs": [],
   "source": [
    "# Get I / O tensor\n",
    "input_details = interpreter.get_input_details()\n",
    "output_details = interpreter.get_output_details()"
   ]
  },
  {
   "cell_type": "code",
   "execution_count": 52,
   "metadata": {
    "id": "2_ixAf_l9hE7"
   },
   "outputs": [],
   "source": [
    "interpreter.set_tensor(input_details[0]['index'], np.array([X_test[0]]))"
   ]
  },
  {
   "cell_type": "code",
   "execution_count": 53,
   "metadata": {
    "colab": {
     "base_uri": "https://localhost:8080/"
    },
    "id": "s4FoAnuc9hE7",
    "outputId": "91f18257-8d8b-4ef3-c558-e9b5f94fabbf",
    "scrolled": true
   },
   "outputs": [
    {
     "name": "stdout",
     "output_type": "stream",
     "text": [
      "CPU times: total: 0 ns\n",
      "Wall time: 782 µs\n"
     ]
    }
   ],
   "source": [
    "%%time\n",
    "# Inference implementation\n",
    "interpreter.invoke()\n",
    "tflite_results = interpreter.get_tensor(output_details[0]['index'])"
   ]
  },
  {
   "cell_type": "code",
   "execution_count": 54,
   "metadata": {
    "colab": {
     "base_uri": "https://localhost:8080/"
    },
    "id": "vONjp19J9hE8",
    "outputId": "77205e24-fd00-42c4-f7b6-e06e527c2cba"
   },
   "outputs": [
    {
     "name": "stdout",
     "output_type": "stream",
     "text": [
      "[2.9600174e-12 8.0264215e-08 9.0566766e-01 6.0619288e-05 2.0138301e-05\n",
      " 7.8982318e-08 1.1646248e-02 1.0237504e-04 6.2399819e-10 3.7688096e-08\n",
      " 2.3649933e-07 9.0578491e-05 1.9614686e-06 1.8667404e-10 3.7316038e-06\n",
      " 1.0980254e-04 2.7732113e-08 2.1251294e-06 9.3021476e-12 1.3939206e-07\n",
      " 1.8477360e-04 1.0743380e-08 1.0070970e-05 8.7008660e-04 7.0590647e-07\n",
      " 2.8686944e-09 1.3676871e-09 4.7945925e-03 2.3333491e-09 4.2644911e-12\n",
      " 7.6308087e-02 1.2036388e-04 5.4296484e-06 8.0432486e-08 1.6389495e-10]\n",
      "2\n"
     ]
    }
   ],
   "source": [
    "print(np.squeeze(tflite_results))\n",
    "print(np.argmax(np.squeeze(tflite_results)))"
   ]
  }
 ],
 "metadata": {
  "accelerator": "GPU",
  "colab": {
   "collapsed_sections": [],
   "name": "keypoint_classification_EN.ipynb",
   "provenance": [],
   "toc_visible": true
  },
  "kernelspec": {
   "display_name": "train",
   "language": "python",
   "name": "train"
  },
  "language_info": {
   "codemirror_mode": {
    "name": "ipython",
    "version": 3
   },
   "file_extension": ".py",
   "mimetype": "text/x-python",
   "name": "python",
   "nbconvert_exporter": "python",
   "pygments_lexer": "ipython3",
   "version": "3.8.0"
  }
 },
 "nbformat": 4,
 "nbformat_minor": 4
}
