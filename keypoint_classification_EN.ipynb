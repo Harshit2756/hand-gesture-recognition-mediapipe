{
 "cells": [
  {
   "cell_type": "code",
   "execution_count": 12,
   "metadata": {
    "id": "igMyGnjE9hEp",
    "scrolled": true
   },
   "outputs": [],
   "source": [
    "import csv\n",
    "\n",
    "import numpy as np\n",
    "import tensorflow as tf\n",
    "from sklearn.model_selection import train_test_split\n",
    "\n",
    "RANDOM_SEED = 42"
   ]
  },
  {
   "cell_type": "markdown",
   "metadata": {
    "id": "t2HDvhIu9hEr"
   },
   "source": [
    "# Specify each path"
   ]
  },
  {
   "cell_type": "code",
   "execution_count": 13,
   "metadata": {
    "id": "9NvZP2Zn9hEy"
   },
   "outputs": [],
   "source": [
    "dataset = 'model/keypoint_classifier/keypoint.csv'\n",
    "model_save_path = 'model/keypoint_classifier/keypoint_classifier.hdf5'\n",
    "tflite_save_path = 'model/keypoint_classifier/keypoint_classifier.tflite'"
   ]
  },
  {
   "cell_type": "markdown",
   "metadata": {
    "id": "s5oMH7x19hEz"
   },
   "source": [
    "# Set number of classes"
   ]
  },
  {
   "cell_type": "code",
   "execution_count": 14,
   "metadata": {
    "id": "du4kodXL9hEz"
   },
   "outputs": [],
   "source": [
    "NUM_CLASSES = 35"
   ]
  },
  {
   "cell_type": "markdown",
   "metadata": {
    "id": "XjnL0uso9hEz"
   },
   "source": [
    "# Dataset reading"
   ]
  },
  {
   "cell_type": "code",
   "execution_count": 15,
   "metadata": {
    "id": "QT5ZqtEz9hE0"
   },
   "outputs": [],
   "source": [
    "X_dataset = np.loadtxt(dataset, delimiter=',', dtype='float32', usecols=list(range(1, (21 * 2) + 1)))"
   ]
  },
  {
   "cell_type": "code",
   "execution_count": 16,
   "metadata": {
    "id": "QmoKFsp49hE0"
   },
   "outputs": [],
   "source": [
    "y_dataset = np.loadtxt(dataset, delimiter=',', dtype='int32', usecols=(0))"
   ]
  },
  {
   "cell_type": "code",
   "execution_count": 17,
   "metadata": {
    "id": "xQU7JTZ_9hE0"
   },
   "outputs": [],
   "source": [
    "X_train, X_test, y_train, y_test = train_test_split(X_dataset, y_dataset, train_size=0.75, random_state=RANDOM_SEED)"
   ]
  },
  {
   "cell_type": "markdown",
   "metadata": {
    "id": "mxK_lETT9hE0"
   },
   "source": [
    "# Model building"
   ]
  },
  {
   "cell_type": "code",
   "execution_count": 18,
   "metadata": {
    "id": "vHBmUf1t9hE1"
   },
   "outputs": [],
   "source": [
    "model = tf.keras.models.Sequential([\n",
    "    tf.keras.layers.Input((21 * 2, )),\n",
    "    tf.keras.layers.Dropout(0.2),\n",
    "    tf.keras.layers.Dense(20, activation='relu'),\n",
    "    tf.keras.layers.Dropout(0.4),\n",
    "    tf.keras.layers.Dense(10, activation='relu'),\n",
    "    tf.keras.layers.Dense(NUM_CLASSES, activation='softmax')\n",
    "])"
   ]
  },
  {
   "cell_type": "code",
   "execution_count": 19,
   "metadata": {
    "colab": {
     "base_uri": "https://localhost:8080/"
    },
    "id": "ypqky9tc9hE1",
    "outputId": "5db082bb-30e3-4110-bf63-a1ee777ecd46"
   },
   "outputs": [
    {
     "name": "stdout",
     "output_type": "stream",
     "text": [
      "Model: \"sequential_1\"\n",
      "_________________________________________________________________\n",
      " Layer (type)                Output Shape              Param #   \n",
      "=================================================================\n",
      " dropout_2 (Dropout)         (None, 42)                0         \n",
      "                                                                 \n",
      " dense_3 (Dense)             (None, 20)                860       \n",
      "                                                                 \n",
      " dropout_3 (Dropout)         (None, 20)                0         \n",
      "                                                                 \n",
      " dense_4 (Dense)             (None, 10)                210       \n",
      "                                                                 \n",
      " dense_5 (Dense)             (None, 35)                385       \n",
      "                                                                 \n",
      "=================================================================\n",
      "Total params: 1455 (5.68 KB)\n",
      "Trainable params: 1455 (5.68 KB)\n",
      "Non-trainable params: 0 (0.00 Byte)\n",
      "_________________________________________________________________\n"
     ]
    }
   ],
   "source": [
    "model.summary()  # tf.keras.utils.plot_model(model, show_shapes=True)"
   ]
  },
  {
   "cell_type": "code",
   "execution_count": 20,
   "metadata": {
    "id": "MbMjOflQ9hE1"
   },
   "outputs": [],
   "source": [
    "# Model checkpoint callback\n",
    "cp_callback = tf.keras.callbacks.ModelCheckpoint(\n",
    "    model_save_path, verbose=1, save_weights_only=False)\n",
    "# Callback for early stopping\n",
    "es_callback = tf.keras.callbacks.EarlyStopping(patience=20, verbose=1)"
   ]
  },
  {
   "cell_type": "code",
   "execution_count": 21,
   "metadata": {
    "id": "c3Dac0M_9hE2"
   },
   "outputs": [],
   "source": [
    "# Model compilation\n",
    "model.compile(\n",
    "    optimizer='adam',\n",
    "    loss='sparse_categorical_crossentropy',\n",
    "    metrics=['accuracy']\n",
    ")"
   ]
  },
  {
   "cell_type": "markdown",
   "metadata": {
    "id": "7XI0j1Iu9hE2"
   },
   "source": [
    "# Model training"
   ]
  },
  {
   "cell_type": "code",
   "execution_count": 22,
   "metadata": {
    "colab": {
     "base_uri": "https://localhost:8080/"
    },
    "id": "WirBl-JE9hE3",
    "outputId": "71b30ca2-8294-4d9d-8aa2-800d90d399de",
    "scrolled": true
   },
   "outputs": [
    {
     "name": "stdout",
     "output_type": "stream",
     "text": [
      "Epoch 1/1000\n",
      "391/424 [==========================>...] - ETA: 0s - loss: 3.2063 - accuracy: 0.0993\n",
      "Epoch 1: saving model to model/keypoint_classifier\\keypoint_classifier.hdf5\n",
      "424/424 [==============================] - 1s 2ms/step - loss: 3.1664 - accuracy: 0.1062 - val_loss: 2.3391 - val_accuracy: 0.4312\n",
      "Epoch 2/1000\n",
      "101/424 [======>.......................] - ETA: 0s - loss: 2.6184 - accuracy: 0.2029"
     ]
    },
    {
     "name": "stderr",
     "output_type": "stream",
     "text": [
      "c:\\users\\khand\\onedrive\\desktop\\final year project\\code base\\hand-gesture-recognition-mediapipe\\train\\lib\\site-packages\\keras\\src\\engine\\training.py:3000: UserWarning: You are saving your model as an HDF5 file via `model.save()`. This file format is considered legacy. We recommend using instead the native Keras format, e.g. `model.save('my_model.keras')`.\n",
      "  saving_api.save_model(\n"
     ]
    },
    {
     "name": "stdout",
     "output_type": "stream",
     "text": [
      "398/424 [===========================>..] - ETA: 0s - loss: 2.4719 - accuracy: 0.2266\n",
      "Epoch 2: saving model to model/keypoint_classifier\\keypoint_classifier.hdf5\n",
      "424/424 [==============================] - 1s 2ms/step - loss: 2.4632 - accuracy: 0.2283 - val_loss: 1.8071 - val_accuracy: 0.5391\n",
      "Epoch 3/1000\n",
      "394/424 [==========================>...] - ETA: 0s - loss: 2.2564 - accuracy: 0.2669\n",
      "Epoch 3: saving model to model/keypoint_classifier\\keypoint_classifier.hdf5\n",
      "424/424 [==============================] - 1s 2ms/step - loss: 2.2523 - accuracy: 0.2678 - val_loss: 1.6462 - val_accuracy: 0.5906\n",
      "Epoch 4/1000\n",
      "397/424 [===========================>..] - ETA: 0s - loss: 2.1504 - accuracy: 0.2923\n",
      "Epoch 4: saving model to model/keypoint_classifier\\keypoint_classifier.hdf5\n",
      "424/424 [==============================] - 1s 2ms/step - loss: 2.1468 - accuracy: 0.2933 - val_loss: 1.5444 - val_accuracy: 0.5877\n",
      "Epoch 5/1000\n",
      "413/424 [============================>.] - ETA: 0s - loss: 2.0796 - accuracy: 0.3135\n",
      "Epoch 5: saving model to model/keypoint_classifier\\keypoint_classifier.hdf5\n",
      "424/424 [==============================] - 1s 2ms/step - loss: 2.0787 - accuracy: 0.3138 - val_loss: 1.4618 - val_accuracy: 0.6570\n",
      "Epoch 6/1000\n",
      "418/424 [============================>.] - ETA: 0s - loss: 2.0163 - accuracy: 0.3300\n",
      "Epoch 6: saving model to model/keypoint_classifier\\keypoint_classifier.hdf5\n",
      "424/424 [==============================] - 1s 2ms/step - loss: 2.0153 - accuracy: 0.3306 - val_loss: 1.4020 - val_accuracy: 0.6486\n",
      "Epoch 7/1000\n",
      "414/424 [============================>.] - ETA: 0s - loss: 1.9626 - accuracy: 0.3448\n",
      "Epoch 7: saving model to model/keypoint_classifier\\keypoint_classifier.hdf5\n",
      "424/424 [==============================] - 1s 2ms/step - loss: 1.9615 - accuracy: 0.3449 - val_loss: 1.3206 - val_accuracy: 0.7167\n",
      "Epoch 8/1000\n",
      "411/424 [============================>.] - ETA: 0s - loss: 1.9098 - accuracy: 0.3616\n",
      "Epoch 8: saving model to model/keypoint_classifier\\keypoint_classifier.hdf5\n",
      "424/424 [==============================] - 1s 2ms/step - loss: 1.9082 - accuracy: 0.3621 - val_loss: 1.2704 - val_accuracy: 0.7085\n",
      "Epoch 9/1000\n",
      "421/424 [============================>.] - ETA: 0s - loss: 1.8641 - accuracy: 0.3744\n",
      "Epoch 9: saving model to model/keypoint_classifier\\keypoint_classifier.hdf5\n",
      "424/424 [==============================] - 1s 2ms/step - loss: 1.8642 - accuracy: 0.3744 - val_loss: 1.2212 - val_accuracy: 0.7187\n",
      "Epoch 10/1000\n",
      "398/424 [===========================>..] - ETA: 0s - loss: 1.8388 - accuracy: 0.3830\n",
      "Epoch 10: saving model to model/keypoint_classifier\\keypoint_classifier.hdf5\n",
      "424/424 [==============================] - 1s 2ms/step - loss: 1.8385 - accuracy: 0.3830 - val_loss: 1.1773 - val_accuracy: 0.7419\n",
      "Epoch 11/1000\n",
      "424/424 [==============================] - ETA: 0s - loss: 1.8069 - accuracy: 0.3876\n",
      "Epoch 11: saving model to model/keypoint_classifier\\keypoint_classifier.hdf5\n",
      "424/424 [==============================] - 1s 2ms/step - loss: 1.8069 - accuracy: 0.3876 - val_loss: 1.1512 - val_accuracy: 0.7326\n",
      "Epoch 12/1000\n",
      "401/424 [===========================>..] - ETA: 0s - loss: 1.7790 - accuracy: 0.4002\n",
      "Epoch 12: saving model to model/keypoint_classifier\\keypoint_classifier.hdf5\n",
      "424/424 [==============================] - 1s 2ms/step - loss: 1.7763 - accuracy: 0.4012 - val_loss: 1.1181 - val_accuracy: 0.7174\n",
      "Epoch 13/1000\n",
      "397/424 [===========================>..] - ETA: 0s - loss: 1.7532 - accuracy: 0.4077\n",
      "Epoch 13: saving model to model/keypoint_classifier\\keypoint_classifier.hdf5\n",
      "424/424 [==============================] - 1s 2ms/step - loss: 1.7526 - accuracy: 0.4075 - val_loss: 1.0889 - val_accuracy: 0.7320\n",
      "Epoch 14/1000\n",
      "424/424 [==============================] - ETA: 0s - loss: 1.7289 - accuracy: 0.4172\n",
      "Epoch 14: saving model to model/keypoint_classifier\\keypoint_classifier.hdf5\n",
      "424/424 [==============================] - 1s 2ms/step - loss: 1.7289 - accuracy: 0.4172 - val_loss: 1.0807 - val_accuracy: 0.7069\n",
      "Epoch 15/1000\n",
      "421/424 [============================>.] - ETA: 0s - loss: 1.7079 - accuracy: 0.4216\n",
      "Epoch 15: saving model to model/keypoint_classifier\\keypoint_classifier.hdf5\n",
      "424/424 [==============================] - 1s 2ms/step - loss: 1.7079 - accuracy: 0.4215 - val_loss: 1.0492 - val_accuracy: 0.7470\n",
      "Epoch 16/1000\n",
      "411/424 [============================>.] - ETA: 0s - loss: 1.6943 - accuracy: 0.4254\n",
      "Epoch 16: saving model to model/keypoint_classifier\\keypoint_classifier.hdf5\n",
      "424/424 [==============================] - 1s 2ms/step - loss: 1.6937 - accuracy: 0.4257 - val_loss: 1.0403 - val_accuracy: 0.7412\n",
      "Epoch 17/1000\n",
      "397/424 [===========================>..] - ETA: 0s - loss: 1.6733 - accuracy: 0.4345\n",
      "Epoch 17: saving model to model/keypoint_classifier\\keypoint_classifier.hdf5\n",
      "424/424 [==============================] - 1s 2ms/step - loss: 1.6741 - accuracy: 0.4349 - val_loss: 1.0381 - val_accuracy: 0.7257\n",
      "Epoch 18/1000\n",
      "397/424 [===========================>..] - ETA: 0s - loss: 1.6619 - accuracy: 0.4359\n",
      "Epoch 18: saving model to model/keypoint_classifier\\keypoint_classifier.hdf5\n",
      "424/424 [==============================] - 1s 2ms/step - loss: 1.6619 - accuracy: 0.4352 - val_loss: 1.0221 - val_accuracy: 0.7323\n",
      "Epoch 19/1000\n",
      "417/424 [============================>.] - ETA: 0s - loss: 1.6456 - accuracy: 0.4398\n",
      "Epoch 19: saving model to model/keypoint_classifier\\keypoint_classifier.hdf5\n",
      "424/424 [==============================] - 1s 2ms/step - loss: 1.6462 - accuracy: 0.4397 - val_loss: 1.0063 - val_accuracy: 0.7353\n",
      "Epoch 20/1000\n",
      "415/424 [============================>.] - ETA: 0s - loss: 1.6363 - accuracy: 0.4457\n",
      "Epoch 20: saving model to model/keypoint_classifier\\keypoint_classifier.hdf5\n",
      "424/424 [==============================] - 1s 2ms/step - loss: 1.6359 - accuracy: 0.4450 - val_loss: 1.0016 - val_accuracy: 0.7509\n",
      "Epoch 21/1000\n",
      "393/424 [==========================>...] - ETA: 0s - loss: 1.6372 - accuracy: 0.4460\n",
      "Epoch 21: saving model to model/keypoint_classifier\\keypoint_classifier.hdf5\n",
      "424/424 [==============================] - 1s 2ms/step - loss: 1.6339 - accuracy: 0.4472 - val_loss: 0.9924 - val_accuracy: 0.7504\n",
      "Epoch 22/1000\n",
      "407/424 [===========================>..] - ETA: 0s - loss: 1.6259 - accuracy: 0.4479\n",
      "Epoch 22: saving model to model/keypoint_classifier\\keypoint_classifier.hdf5\n",
      "424/424 [==============================] - 1s 2ms/step - loss: 1.6255 - accuracy: 0.4480 - val_loss: 0.9973 - val_accuracy: 0.7225\n",
      "Epoch 23/1000\n",
      "399/424 [===========================>..] - ETA: 0s - loss: 1.6161 - accuracy: 0.4519\n",
      "Epoch 23: saving model to model/keypoint_classifier\\keypoint_classifier.hdf5\n",
      "424/424 [==============================] - 1s 2ms/step - loss: 1.6139 - accuracy: 0.4520 - val_loss: 0.9817 - val_accuracy: 0.7517\n",
      "Epoch 24/1000\n",
      "413/424 [============================>.] - ETA: 0s - loss: 1.6141 - accuracy: 0.4504\n",
      "Epoch 24: saving model to model/keypoint_classifier\\keypoint_classifier.hdf5\n",
      "424/424 [==============================] - 1s 2ms/step - loss: 1.6135 - accuracy: 0.4510 - val_loss: 0.9978 - val_accuracy: 0.7402\n",
      "Epoch 25/1000\n",
      "413/424 [============================>.] - ETA: 0s - loss: 1.6004 - accuracy: 0.4560\n",
      "Epoch 25: saving model to model/keypoint_classifier\\keypoint_classifier.hdf5\n",
      "424/424 [==============================] - 1s 2ms/step - loss: 1.6004 - accuracy: 0.4558 - val_loss: 0.9652 - val_accuracy: 0.7602\n",
      "Epoch 26/1000\n",
      "396/424 [===========================>..] - ETA: 0s - loss: 1.5971 - accuracy: 0.4570\n",
      "Epoch 26: saving model to model/keypoint_classifier\\keypoint_classifier.hdf5\n",
      "424/424 [==============================] - 1s 2ms/step - loss: 1.5992 - accuracy: 0.4566 - val_loss: 0.9711 - val_accuracy: 0.7746\n",
      "Epoch 27/1000\n",
      "393/424 [==========================>...] - ETA: 0s - loss: 1.5844 - accuracy: 0.4594\n",
      "Epoch 27: saving model to model/keypoint_classifier\\keypoint_classifier.hdf5\n",
      "424/424 [==============================] - 1s 2ms/step - loss: 1.5835 - accuracy: 0.4606 - val_loss: 0.9620 - val_accuracy: 0.7716\n",
      "Epoch 28/1000\n",
      "393/424 [==========================>...] - ETA: 0s - loss: 1.5803 - accuracy: 0.4605\n",
      "Epoch 28: saving model to model/keypoint_classifier\\keypoint_classifier.hdf5\n",
      "424/424 [==============================] - 1s 2ms/step - loss: 1.5798 - accuracy: 0.4607 - val_loss: 0.9674 - val_accuracy: 0.7604\n"
     ]
    },
    {
     "name": "stdout",
     "output_type": "stream",
     "text": [
      "Epoch 29/1000\n",
      "401/424 [===========================>..] - ETA: 0s - loss: 1.5796 - accuracy: 0.4633\n",
      "Epoch 29: saving model to model/keypoint_classifier\\keypoint_classifier.hdf5\n",
      "424/424 [==============================] - 1s 2ms/step - loss: 1.5780 - accuracy: 0.4641 - val_loss: 0.9530 - val_accuracy: 0.7596\n",
      "Epoch 30/1000\n",
      "404/424 [===========================>..] - ETA: 0s - loss: 1.5677 - accuracy: 0.4673\n",
      "Epoch 30: saving model to model/keypoint_classifier\\keypoint_classifier.hdf5\n",
      "424/424 [==============================] - 1s 2ms/step - loss: 1.5660 - accuracy: 0.4680 - val_loss: 0.9514 - val_accuracy: 0.7684\n",
      "Epoch 31/1000\n",
      "404/424 [===========================>..] - ETA: 0s - loss: 1.5601 - accuracy: 0.4688\n",
      "Epoch 31: saving model to model/keypoint_classifier\\keypoint_classifier.hdf5\n",
      "424/424 [==============================] - 1s 2ms/step - loss: 1.5593 - accuracy: 0.4690 - val_loss: 0.9557 - val_accuracy: 0.7439\n",
      "Epoch 32/1000\n",
      "401/424 [===========================>..] - ETA: 0s - loss: 1.5498 - accuracy: 0.4707\n",
      "Epoch 32: saving model to model/keypoint_classifier\\keypoint_classifier.hdf5\n",
      "424/424 [==============================] - 1s 2ms/step - loss: 1.5490 - accuracy: 0.4708 - val_loss: 0.9551 - val_accuracy: 0.7619\n",
      "Epoch 33/1000\n",
      "391/424 [==========================>...] - ETA: 0s - loss: 1.5586 - accuracy: 0.4669\n",
      "Epoch 33: saving model to model/keypoint_classifier\\keypoint_classifier.hdf5\n",
      "424/424 [==============================] - 1s 2ms/step - loss: 1.5574 - accuracy: 0.4674 - val_loss: 0.9685 - val_accuracy: 0.7385\n",
      "Epoch 34/1000\n",
      "409/424 [===========================>..] - ETA: 0s - loss: 1.5454 - accuracy: 0.4748\n",
      "Epoch 34: saving model to model/keypoint_classifier\\keypoint_classifier.hdf5\n",
      "424/424 [==============================] - 1s 2ms/step - loss: 1.5453 - accuracy: 0.4753 - val_loss: 0.9349 - val_accuracy: 0.7635\n",
      "Epoch 35/1000\n",
      "422/424 [============================>.] - ETA: 0s - loss: 1.5366 - accuracy: 0.4741\n",
      "Epoch 35: saving model to model/keypoint_classifier\\keypoint_classifier.hdf5\n",
      "424/424 [==============================] - 1s 2ms/step - loss: 1.5364 - accuracy: 0.4742 - val_loss: 0.9287 - val_accuracy: 0.7544\n",
      "Epoch 36/1000\n",
      "411/424 [============================>.] - ETA: 0s - loss: 1.5349 - accuracy: 0.4798\n",
      "Epoch 36: saving model to model/keypoint_classifier\\keypoint_classifier.hdf5\n",
      "424/424 [==============================] - 1s 2ms/step - loss: 1.5349 - accuracy: 0.4794 - val_loss: 0.9298 - val_accuracy: 0.7669\n",
      "Epoch 37/1000\n",
      "411/424 [============================>.] - ETA: 0s - loss: 1.5345 - accuracy: 0.4779\n",
      "Epoch 37: saving model to model/keypoint_classifier\\keypoint_classifier.hdf5\n",
      "424/424 [==============================] - 1s 2ms/step - loss: 1.5334 - accuracy: 0.4782 - val_loss: 0.9309 - val_accuracy: 0.7762\n",
      "Epoch 38/1000\n",
      "406/424 [===========================>..] - ETA: 0s - loss: 1.5225 - accuracy: 0.4814\n",
      "Epoch 38: saving model to model/keypoint_classifier\\keypoint_classifier.hdf5\n",
      "424/424 [==============================] - 1s 2ms/step - loss: 1.5227 - accuracy: 0.4816 - val_loss: 0.9277 - val_accuracy: 0.7796\n",
      "Epoch 39/1000\n",
      "413/424 [============================>.] - ETA: 0s - loss: 1.5275 - accuracy: 0.4797\n",
      "Epoch 39: saving model to model/keypoint_classifier\\keypoint_classifier.hdf5\n",
      "424/424 [==============================] - 1s 2ms/step - loss: 1.5267 - accuracy: 0.4798 - val_loss: 0.9364 - val_accuracy: 0.7544\n",
      "Epoch 40/1000\n",
      "402/424 [===========================>..] - ETA: 0s - loss: 1.5260 - accuracy: 0.4815\n",
      "Epoch 40: saving model to model/keypoint_classifier\\keypoint_classifier.hdf5\n",
      "424/424 [==============================] - 1s 2ms/step - loss: 1.5248 - accuracy: 0.4823 - val_loss: 0.9494 - val_accuracy: 0.7311\n",
      "Epoch 41/1000\n",
      "410/424 [============================>.] - ETA: 0s - loss: 1.5173 - accuracy: 0.4839\n",
      "Epoch 41: saving model to model/keypoint_classifier\\keypoint_classifier.hdf5\n",
      "424/424 [==============================] - 1s 2ms/step - loss: 1.5173 - accuracy: 0.4835 - val_loss: 0.9408 - val_accuracy: 0.7675\n",
      "Epoch 42/1000\n",
      "389/424 [==========================>...] - ETA: 0s - loss: 1.5114 - accuracy: 0.4834\n",
      "Epoch 42: saving model to model/keypoint_classifier\\keypoint_classifier.hdf5\n",
      "424/424 [==============================] - 1s 2ms/step - loss: 1.5127 - accuracy: 0.4822 - val_loss: 0.9459 - val_accuracy: 0.7448\n",
      "Epoch 43/1000\n",
      "401/424 [===========================>..] - ETA: 0s - loss: 1.5139 - accuracy: 0.4847\n",
      "Epoch 43: saving model to model/keypoint_classifier\\keypoint_classifier.hdf5\n",
      "424/424 [==============================] - 1s 2ms/step - loss: 1.5145 - accuracy: 0.4843 - val_loss: 0.9473 - val_accuracy: 0.7515\n",
      "Epoch 44/1000\n",
      "423/424 [============================>.] - ETA: 0s - loss: 1.5078 - accuracy: 0.4882\n",
      "Epoch 44: saving model to model/keypoint_classifier\\keypoint_classifier.hdf5\n",
      "424/424 [==============================] - 1s 2ms/step - loss: 1.5077 - accuracy: 0.4882 - val_loss: 0.9368 - val_accuracy: 0.7576\n",
      "Epoch 45/1000\n",
      "393/424 [==========================>...] - ETA: 0s - loss: 1.5125 - accuracy: 0.4836\n",
      "Epoch 45: saving model to model/keypoint_classifier\\keypoint_classifier.hdf5\n",
      "424/424 [==============================] - 1s 2ms/step - loss: 1.5103 - accuracy: 0.4845 - val_loss: 0.9423 - val_accuracy: 0.7319\n",
      "Epoch 46/1000\n",
      "421/424 [============================>.] - ETA: 0s - loss: 1.5054 - accuracy: 0.4840\n",
      "Epoch 46: saving model to model/keypoint_classifier\\keypoint_classifier.hdf5\n",
      "424/424 [==============================] - 1s 2ms/step - loss: 1.5051 - accuracy: 0.4841 - val_loss: 0.9385 - val_accuracy: 0.7538\n",
      "Epoch 47/1000\n",
      "397/424 [===========================>..] - ETA: 0s - loss: 1.4967 - accuracy: 0.4891\n",
      "Epoch 47: saving model to model/keypoint_classifier\\keypoint_classifier.hdf5\n",
      "424/424 [==============================] - 1s 2ms/step - loss: 1.4959 - accuracy: 0.4897 - val_loss: 0.9304 - val_accuracy: 0.7427\n",
      "Epoch 48/1000\n",
      "410/424 [============================>.] - ETA: 0s - loss: 1.5007 - accuracy: 0.4863\n",
      "Epoch 48: saving model to model/keypoint_classifier\\keypoint_classifier.hdf5\n",
      "424/424 [==============================] - 1s 2ms/step - loss: 1.5012 - accuracy: 0.4858 - val_loss: 0.9382 - val_accuracy: 0.7619\n",
      "Epoch 49/1000\n",
      "406/424 [===========================>..] - ETA: 0s - loss: 1.4999 - accuracy: 0.4878\n",
      "Epoch 49: saving model to model/keypoint_classifier\\keypoint_classifier.hdf5\n",
      "424/424 [==============================] - 1s 2ms/step - loss: 1.5010 - accuracy: 0.4873 - val_loss: 0.9319 - val_accuracy: 0.7250\n",
      "Epoch 50/1000\n",
      "419/424 [============================>.] - ETA: 0s - loss: 1.4994 - accuracy: 0.4850\n",
      "Epoch 50: saving model to model/keypoint_classifier\\keypoint_classifier.hdf5\n",
      "424/424 [==============================] - 1s 2ms/step - loss: 1.5003 - accuracy: 0.4848 - val_loss: 0.9390 - val_accuracy: 0.7393\n",
      "Epoch 51/1000\n",
      "413/424 [============================>.] - ETA: 0s - loss: 1.4943 - accuracy: 0.4895\n",
      "Epoch 51: saving model to model/keypoint_classifier\\keypoint_classifier.hdf5\n",
      "424/424 [==============================] - 1s 2ms/step - loss: 1.4956 - accuracy: 0.4893 - val_loss: 0.9318 - val_accuracy: 0.7611\n",
      "Epoch 52/1000\n",
      "400/424 [===========================>..] - ETA: 0s - loss: 1.4921 - accuracy: 0.4901\n",
      "Epoch 52: saving model to model/keypoint_classifier\\keypoint_classifier.hdf5\n",
      "424/424 [==============================] - 1s 2ms/step - loss: 1.4929 - accuracy: 0.4900 - val_loss: 0.9322 - val_accuracy: 0.7284\n",
      "Epoch 53/1000\n",
      "407/424 [===========================>..] - ETA: 0s - loss: 1.4962 - accuracy: 0.4873\n",
      "Epoch 53: saving model to model/keypoint_classifier\\keypoint_classifier.hdf5\n",
      "424/424 [==============================] - 1s 2ms/step - loss: 1.4956 - accuracy: 0.4878 - val_loss: 0.9282 - val_accuracy: 0.7595\n",
      "Epoch 54/1000\n",
      "394/424 [==========================>...] - ETA: 0s - loss: 1.4828 - accuracy: 0.4963\n",
      "Epoch 54: saving model to model/keypoint_classifier\\keypoint_classifier.hdf5\n",
      "424/424 [==============================] - 1s 2ms/step - loss: 1.4849 - accuracy: 0.4954 - val_loss: 0.9500 - val_accuracy: 0.7300\n",
      "Epoch 55/1000\n",
      "400/424 [===========================>..] - ETA: 0s - loss: 1.4921 - accuracy: 0.4930\n",
      "Epoch 55: saving model to model/keypoint_classifier\\keypoint_classifier.hdf5\n",
      "424/424 [==============================] - 1s 2ms/step - loss: 1.4905 - accuracy: 0.4932 - val_loss: 0.9282 - val_accuracy: 0.7584\n"
     ]
    },
    {
     "name": "stdout",
     "output_type": "stream",
     "text": [
      "Epoch 56/1000\n",
      "406/424 [===========================>..] - ETA: 0s - loss: 1.4966 - accuracy: 0.4902\n",
      "Epoch 56: saving model to model/keypoint_classifier\\keypoint_classifier.hdf5\n",
      "424/424 [==============================] - 1s 2ms/step - loss: 1.4955 - accuracy: 0.4901 - val_loss: 0.9329 - val_accuracy: 0.7548\n",
      "Epoch 57/1000\n",
      "419/424 [============================>.] - ETA: 0s - loss: 1.4855 - accuracy: 0.4944\n",
      "Epoch 57: saving model to model/keypoint_classifier\\keypoint_classifier.hdf5\n",
      "424/424 [==============================] - 1s 2ms/step - loss: 1.4861 - accuracy: 0.4942 - val_loss: 0.9536 - val_accuracy: 0.7299\n",
      "Epoch 58/1000\n",
      "411/424 [============================>.] - ETA: 0s - loss: 1.4769 - accuracy: 0.4967\n",
      "Epoch 58: saving model to model/keypoint_classifier\\keypoint_classifier.hdf5\n",
      "424/424 [==============================] - 1s 2ms/step - loss: 1.4763 - accuracy: 0.4967 - val_loss: 0.9406 - val_accuracy: 0.7450\n",
      "Epoch 58: early stopping\n"
     ]
    },
    {
     "data": {
      "text/plain": [
       "<keras.src.callbacks.History at 0x22553556310>"
      ]
     },
     "execution_count": 22,
     "metadata": {},
     "output_type": "execute_result"
    }
   ],
   "source": [
    "model.fit(\n",
    "    X_train,\n",
    "    y_train,\n",
    "    epochs=1000,\n",
    "    batch_size=128,\n",
    "    validation_data=(X_test, y_test),\n",
    "    callbacks=[cp_callback, es_callback]\n",
    ")"
   ]
  },
  {
   "cell_type": "code",
   "execution_count": 23,
   "metadata": {
    "colab": {
     "base_uri": "https://localhost:8080/"
    },
    "id": "pxvb2Y299hE3",
    "outputId": "59eb3185-2e37-4b9e-bc9d-ab1b8ac29b7f"
   },
   "outputs": [
    {
     "name": "stdout",
     "output_type": "stream",
     "text": [
      "142/142 [==============================] - 0s 962us/step - loss: 0.9406 - accuracy: 0.7450\n"
     ]
    }
   ],
   "source": [
    "# Model evaluation\n",
    "val_loss, val_acc = model.evaluate(X_test, y_test, batch_size=128)"
   ]
  },
  {
   "cell_type": "code",
   "execution_count": 24,
   "metadata": {
    "id": "RBkmDeUW9hE4"
   },
   "outputs": [],
   "source": [
    "# Loading the saved model\n",
    "model = tf.keras.models.load_model(model_save_path)"
   ]
  },
  {
   "cell_type": "code",
   "execution_count": 25,
   "metadata": {
    "colab": {
     "base_uri": "https://localhost:8080/"
    },
    "id": "tFz9Tb0I9hE4",
    "outputId": "1c3b3528-54ae-4ee2-ab04-77429211cbef"
   },
   "outputs": [
    {
     "name": "stdout",
     "output_type": "stream",
     "text": [
      "1/1 [==============================] - 0s 86ms/step\n",
      "[5.43322498e-09 3.40750994e-04 6.62868842e-06 3.50738037e-06\n",
      " 1.69047285e-02 6.42926607e-04 1.34394853e-03 4.29754582e-04\n",
      " 7.39866029e-03 1.26552198e-03 1.30063277e-02 6.32855762e-03\n",
      " 4.87615215e-03 2.99314997e-04 4.36228245e-01 9.10066813e-03\n",
      " 1.04538564e-08 1.89008587e-10 2.41090584e-05 4.94375341e-09\n",
      " 1.91528883e-07 2.48543568e-08 3.82526934e-01 4.31581363e-02\n",
      " 7.48518435e-03 1.31028568e-14 2.43880762e-13 2.39745168e-05\n",
      " 4.81820144e-02 1.69294048e-02 2.69779048e-05 3.36100534e-08\n",
      " 1.11106405e-04 1.12862373e-03 2.22745677e-03]\n",
      "14\n"
     ]
    }
   ],
   "source": [
    "# Inference test\n",
    "predict_result = model.predict(np.array([X_test[0]]))\n",
    "print(np.squeeze(predict_result))\n",
    "print(np.argmax(np.squeeze(predict_result)))"
   ]
  },
  {
   "cell_type": "markdown",
   "metadata": {
    "id": "S3U4yNWx9hE4"
   },
   "source": [
    "# Confusion matrix"
   ]
  },
  {
   "cell_type": "code",
   "execution_count": 26,
   "metadata": {
    "colab": {
     "base_uri": "https://localhost:8080/",
     "height": 582
    },
    "id": "AP1V6SCk9hE5",
    "outputId": "08e41a80-7a4a-4619-8125-ecc371368d19"
   },
   "outputs": [
    {
     "name": "stdout",
     "output_type": "stream",
     "text": [
      "566/566 [==============================] - 0s 752us/step\n"
     ]
    },
    {
     "data": {
      "image/png": "[encoded data removed]",
      "text/plain": [
       "<Figure size 700x600 with 2 Axes>"
      ]
     },
     "metadata": {},
     "output_type": "display_data"
    },
    {
     "name": "stdout",
     "output_type": "stream",
     "text": [
      "Classification Report\n",
      "              precision    recall  f1-score   support\n",
      "\n",
      "           1       0.94      0.81      0.87       521\n",
      "           2       0.00      0.00      0.00       487\n",
      "           3       0.99      0.99      0.99       291\n",
      "           4       0.00      0.00      0.00       333\n",
      "           5       1.00      0.45      0.62       303\n",
      "           6       0.99      0.15      0.27       541\n",
      "           7       0.58      0.97      0.72       531\n",
      "           8       0.97      0.89      0.93       531\n",
      "           9       0.80      0.96      0.87       731\n",
      "          10       0.87      0.84      0.85       464\n",
      "          11       0.73      0.91      0.81       595\n",
      "          12       0.99      0.66      0.79       583\n",
      "          13       0.90      0.92      0.91       652\n",
      "          14       0.90      0.82      0.86       557\n",
      "          15       0.86      0.57      0.69       603\n",
      "          16       0.69      0.63      0.66       553\n",
      "          17       0.69      0.74      0.71       597\n",
      "          18       0.86      0.99      0.92       526\n",
      "          20       0.99      0.73      0.84       557\n",
      "          21       1.00      1.00      1.00       654\n",
      "          22       0.80      0.92      0.86       645\n",
      "          23       0.93      0.84      0.88       601\n",
      "          24       0.77      1.00      0.87       571\n",
      "          25       0.95      1.00      0.98       549\n",
      "          26       1.00      0.95      0.97       542\n",
      "          27       0.22      0.03      0.05       579\n",
      "          28       1.00      0.12      0.21       591\n",
      "          29       0.44      1.00      0.62       531\n",
      "          30       0.30      0.98      0.47       652\n",
      "          31       0.71      0.38      0.50       589\n",
      "          32       0.56      1.00      0.71       572\n",
      "          33       0.97      1.00      0.99       541\n",
      "          34       1.00      0.84      0.91       515\n",
      "\n",
      "    accuracy                           0.74     18088\n",
      "   macro avg       0.77      0.73      0.71     18088\n",
      "weighted avg       0.77      0.74      0.72     18088\n",
      "\n"
     ]
    },
    {
     "name": "stderr",
     "output_type": "stream",
     "text": [
      "c:\\users\\khand\\onedrive\\desktop\\final year project\\code base\\hand-gesture-recognition-mediapipe\\train\\lib\\site-packages\\sklearn\\metrics\\_classification.py:1471: UndefinedMetricWarning: Precision and F-score are ill-defined and being set to 0.0 in labels with no predicted samples. Use `zero_division` parameter to control this behavior.\n",
      "  _warn_prf(average, modifier, msg_start, len(result))\n",
      "c:\\users\\khand\\onedrive\\desktop\\final year project\\code base\\hand-gesture-recognition-mediapipe\\train\\lib\\site-packages\\sklearn\\metrics\\_classification.py:1471: UndefinedMetricWarning: Precision and F-score are ill-defined and being set to 0.0 in labels with no predicted samples. Use `zero_division` parameter to control this behavior.\n",
      "  _warn_prf(average, modifier, msg_start, len(result))\n",
      "c:\\users\\khand\\onedrive\\desktop\\final year project\\code base\\hand-gesture-recognition-mediapipe\\train\\lib\\site-packages\\sklearn\\metrics\\_classification.py:1471: UndefinedMetricWarning: Precision and F-score are ill-defined and being set to 0.0 in labels with no predicted samples. Use `zero_division` parameter to control this behavior.\n",
      "  _warn_prf(average, modifier, msg_start, len(result))\n"
     ]
    }
   ],
   "source": [
    "import pandas as pd\n",
    "import seaborn as sns\n",
    "import matplotlib.pyplot as plt\n",
    "from sklearn.metrics import confusion_matrix, classification_report\n",
    "\n",
    "def print_confusion_matrix(y_true, y_pred, report=True):\n",
    "    labels = sorted(list(set(y_true)))\n",
    "    cmx_data = confusion_matrix(y_true, y_pred, labels=labels)\n",
    "    \n",
    "    df_cmx = pd.DataFrame(cmx_data, index=labels, columns=labels)\n",
    " \n",
    "    fig, ax = plt.subplots(figsize=(7, 6))\n",
    "    sns.heatmap(df_cmx, annot=True, fmt='g' ,square=False)\n",
    "    ax.set_ylim(len(set(y_true)), 0)\n",
    "    plt.show()\n",
    "    \n",
    "    if report:\n",
    "        print('Classification Report')\n",
    "        print(classification_report(y_test, y_pred))\n",
    "\n",
    "Y_pred = model.predict(X_test)\n",
    "y_pred = np.argmax(Y_pred, axis=1)\n",
    "\n",
    "print_confusion_matrix(y_test, y_pred)"
   ]
  },
  {
   "cell_type": "markdown",
   "metadata": {
    "id": "FNP6aqzc9hE5"
   },
   "source": [
    "# Convert to model for Tensorflow-Lite"
   ]
  },
  {
   "cell_type": "code",
   "execution_count": 27,
   "metadata": {
    "id": "ODjnYyld9hE6"
   },
   "outputs": [
    {
     "name": "stderr",
     "output_type": "stream",
     "text": [
      "c:\\users\\khand\\onedrive\\desktop\\final year project\\code base\\hand-gesture-recognition-mediapipe\\train\\lib\\site-packages\\keras\\src\\engine\\training.py:3000: UserWarning: You are saving your model as an HDF5 file via `model.save()`. This file format is considered legacy. We recommend using instead the native Keras format, e.g. `model.save('my_model.keras')`.\n",
      "  saving_api.save_model(\n"
     ]
    }
   ],
   "source": [
    "# Save as a model dedicated to inference\n",
    "model.save(model_save_path, include_optimizer=False)"
   ]
  },
  {
   "cell_type": "code",
   "execution_count": 28,
   "metadata": {
    "colab": {
     "base_uri": "https://localhost:8080/"
    },
    "id": "zRfuK8Y59hE6",
    "outputId": "a4ca585c-b5d5-4244-8291-8674063209bb"
   },
   "outputs": [
    {
     "name": "stdout",
     "output_type": "stream",
     "text": [
      "INFO:tensorflow:Assets written to: C:\\Users\\khand\\AppData\\Local\\Temp\\tmpyhma67cy\\assets\n"
     ]
    },
    {
     "name": "stderr",
     "output_type": "stream",
     "text": [
      "INFO:tensorflow:Assets written to: C:\\Users\\khand\\AppData\\Local\\Temp\\tmpyhma67cy\\assets\n"
     ]
    },
    {
     "data": {
      "text/plain": [
       "7936"
      ]
     },
     "execution_count": 28,
     "metadata": {},
     "output_type": "execute_result"
    }
   ],
   "source": [
    "# Transform model (quantization)\n",
    "\n",
    "converter = tf.lite.TFLiteConverter.from_keras_model(model)\n",
    "converter.optimizations = [tf.lite.Optimize.DEFAULT]\n",
    "tflite_quantized_model = converter.convert()\n",
    "\n",
    "open(tflite_save_path, 'wb').write(tflite_quantized_model)"
   ]
  },
  {
   "cell_type": "markdown",
   "metadata": {
    "id": "CHBPBXdx9hE6"
   },
   "source": [
    "# Inference test"
   ]
  },
  {
   "cell_type": "code",
   "execution_count": 29,
   "metadata": {
    "id": "mGAzLocO9hE7"
   },
   "outputs": [],
   "source": [
    "interpreter = tf.lite.Interpreter(model_path=tflite_save_path)\n",
    "interpreter.allocate_tensors()"
   ]
  },
  {
   "cell_type": "code",
   "execution_count": 30,
   "metadata": {
    "id": "oQuDK8YS9hE7"
   },
   "outputs": [],
   "source": [
    "# Get I / O tensor\n",
    "input_details = interpreter.get_input_details()\n",
    "output_details = interpreter.get_output_details()"
   ]
  },
  {
   "cell_type": "code",
   "execution_count": 31,
   "metadata": {
    "id": "2_ixAf_l9hE7"
   },
   "outputs": [],
   "source": [
    "interpreter.set_tensor(input_details[0]['index'], np.array([X_test[0]]))"
   ]
  },
  {
   "cell_type": "code",
   "execution_count": 32,
   "metadata": {
    "colab": {
     "base_uri": "https://localhost:8080/"
    },
    "id": "s4FoAnuc9hE7",
    "outputId": "91f18257-8d8b-4ef3-c558-e9b5f94fabbf",
    "scrolled": true
   },
   "outputs": [
    {
     "name": "stdout",
     "output_type": "stream",
     "text": [
      "CPU times: total: 0 ns\n",
      "Wall time: 319 µs\n"
     ]
    }
   ],
   "source": [
    "%%time\n",
    "# Inference implementation\n",
    "interpreter.invoke()\n",
    "tflite_results = interpreter.get_tensor(output_details[0]['index'])"
   ]
  },
  {
   "cell_type": "code",
   "execution_count": 33,
   "metadata": {
    "colab": {
     "base_uri": "https://localhost:8080/"
    },
    "id": "vONjp19J9hE8",
    "outputId": "77205e24-fd00-42c4-f7b6-e06e527c2cba"
   },
   "outputs": [
    {
     "name": "stdout",
     "output_type": "stream",
     "text": [
      "[5.4332316e-09 3.4075175e-04 6.6286907e-06 3.5073747e-06 1.6904714e-02\n",
      " 6.4292469e-04 1.3439439e-03 4.2975269e-04 7.3986379e-03 1.2655188e-03\n",
      " 1.3006332e-02 6.3285413e-03 4.8761466e-03 2.9931354e-04 4.3622798e-01\n",
      " 9.1006551e-03 1.0453910e-08 1.8900884e-10 2.4109087e-05 4.9437601e-09\n",
      " 1.9152931e-07 2.4854343e-08 3.8252741e-01 4.3158203e-02 7.4851797e-03\n",
      " 1.3102848e-14 2.4388014e-13 2.3974591e-05 4.8182003e-02 1.6929410e-02\n",
      " 2.6977761e-05 3.3610096e-08 1.1110580e-04 1.1286269e-03 2.2274565e-03]\n",
      "14\n"
     ]
    }
   ],
   "source": [
    "print(np.squeeze(tflite_results))\n",
    "print(np.argmax(np.squeeze(tflite_results)))"
   ]
  }
 ],
 "metadata": {
  "accelerator": "GPU",
  "colab": {
   "collapsed_sections": [],
   "name": "keypoint_classification_EN.ipynb",
   "provenance": [],
   "toc_visible": true
  },
  "kernelspec": {
   "display_name": "train",
   "language": "python",
   "name": "train"
  },
  "language_info": {
   "codemirror_mode": {
    "name": "ipython",
    "version": 3
   },
   "file_extension": ".py",
   "mimetype": "text/x-python",
   "name": "python",
   "nbconvert_exporter": "python",
   "pygments_lexer": "ipython3",
   "version": "3.8.0"
  }
 },
 "nbformat": 4,
 "nbformat_minor": 4
}
