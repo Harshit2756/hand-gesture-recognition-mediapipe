{
 "cells": [
  {
   "cell_type": "code",
   "execution_count": null,
   "metadata": {},
   "outputs": [],
   "source": []
  },
  {
   "cell_type": "code",
   "execution_count": 23,
   "metadata": {
    "id": "igMyGnjE9hEp",
    "scrolled": true
   },
   "outputs": [],
   "source": [
    "import csv\n",
    "\n",
    "import numpy as np\n",
    "import tensorflow as tf\n",
    "from sklearn.model_selection import train_test_split\n",
    "\n",
    "RANDOM_SEED = 42"
   ]
  },
  {
   "cell_type": "markdown",
   "metadata": {
    "id": "t2HDvhIu9hEr"
   },
   "source": [
    "# Specify each path"
   ]
  },
  {
   "cell_type": "code",
   "execution_count": 24,
   "metadata": {
    "id": "9NvZP2Zn9hEy"
   },
   "outputs": [],
   "source": [
    "dataset = 'model/keypoint_classifier/keypoint.csv'\n",
    "model_save_path = 'model/keypoint_classifier/keypoint_classifier.hdf5'\n",
    "tflite_save_path = 'model/keypoint_classifier/keypoint_classifier.tflite'"
   ]
  },
  {
   "cell_type": "markdown",
   "metadata": {
    "id": "s5oMH7x19hEz"
   },
   "source": [
    "# Set number of classes"
   ]
  },
  {
   "cell_type": "code",
   "execution_count": 25,
   "metadata": {
    "id": "du4kodXL9hEz"
   },
   "outputs": [],
   "source": [
    "NUM_CLASSES = 16"
   ]
  },
  {
   "cell_type": "markdown",
   "metadata": {
    "id": "XjnL0uso9hEz"
   },
   "source": [
    "# Dataset reading"
   ]
  },
  {
   "cell_type": "code",
   "execution_count": 26,
   "metadata": {
    "id": "QT5ZqtEz9hE0"
   },
   "outputs": [],
   "source": [
    "X_dataset = np.loadtxt(dataset, delimiter=',', dtype='float32', usecols=list(range(1, (21 * 2) + 1)))"
   ]
  },
  {
   "cell_type": "code",
   "execution_count": 27,
   "metadata": {
    "id": "QmoKFsp49hE0"
   },
   "outputs": [],
   "source": [
    "y_dataset = np.loadtxt(dataset, delimiter=',', dtype='int32', usecols=(0))"
   ]
  },
  {
   "cell_type": "code",
   "execution_count": 28,
   "metadata": {
    "id": "xQU7JTZ_9hE0"
   },
   "outputs": [],
   "source": [
    "X_train, X_test, y_train, y_test = train_test_split(X_dataset, y_dataset, train_size=0.75, random_state=RANDOM_SEED)"
   ]
  },
  {
   "cell_type": "markdown",
   "metadata": {
    "id": "mxK_lETT9hE0"
   },
   "source": [
    "# Model building"
   ]
  },
  {
   "cell_type": "code",
   "execution_count": 29,
   "metadata": {
    "id": "vHBmUf1t9hE1"
   },
   "outputs": [],
   "source": [
    "model = tf.keras.models.Sequential([\n",
    "    tf.keras.layers.Input((21 * 2, )),\n",
    "    tf.keras.layers.Dropout(0.2),\n",
    "    tf.keras.layers.Dense(20, activation='relu'),\n",
    "    tf.keras.layers.Dropout(0.4),\n",
    "    tf.keras.layers.Dense(10, activation='relu'),\n",
    "    tf.keras.layers.Dense(NUM_CLASSES, activation='softmax')\n",
    "])"
   ]
  },
  {
   "cell_type": "code",
   "execution_count": 30,
   "metadata": {
    "colab": {
     "base_uri": "https://localhost:8080/"
    },
    "id": "ypqky9tc9hE1",
    "outputId": "5db082bb-30e3-4110-bf63-a1ee777ecd46"
   },
   "outputs": [
    {
     "name": "stdout",
     "output_type": "stream",
     "text": [
      "Model: \"sequential_1\"\n",
      "_________________________________________________________________\n",
      "Layer (type)                 Output Shape              Param #   \n",
      "=================================================================\n",
      "dropout_2 (Dropout)          (None, 42)                0         \n",
      "_________________________________________________________________\n",
      "dense_3 (Dense)              (None, 20)                860       \n",
      "_________________________________________________________________\n",
      "dropout_3 (Dropout)          (None, 20)                0         \n",
      "_________________________________________________________________\n",
      "dense_4 (Dense)              (None, 10)                210       \n",
      "_________________________________________________________________\n",
      "dense_5 (Dense)              (None, 16)                176       \n",
      "=================================================================\n",
      "Total params: 1,246\n",
      "Trainable params: 1,246\n",
      "Non-trainable params: 0\n",
      "_________________________________________________________________\n"
     ]
    }
   ],
   "source": [
    "model.summary()  # tf.keras.utils.plot_model(model, show_shapes=True)"
   ]
  },
  {
   "cell_type": "code",
   "execution_count": 31,
   "metadata": {
    "id": "MbMjOflQ9hE1"
   },
   "outputs": [],
   "source": [
    "# Model checkpoint callback\n",
    "cp_callback = tf.keras.callbacks.ModelCheckpoint(\n",
    "    model_save_path, verbose=1, save_weights_only=False)\n",
    "# Callback for early stopping\n",
    "es_callback = tf.keras.callbacks.EarlyStopping(patience=20, verbose=1)"
   ]
  },
  {
   "cell_type": "code",
   "execution_count": 32,
   "metadata": {
    "id": "c3Dac0M_9hE2"
   },
   "outputs": [],
   "source": [
    "# Model compilation\n",
    "model.compile(\n",
    "    optimizer='adam',\n",
    "    loss='sparse_categorical_crossentropy',\n",
    "    metrics=['accuracy']\n",
    ")"
   ]
  },
  {
   "cell_type": "markdown",
   "metadata": {
    "id": "7XI0j1Iu9hE2"
   },
   "source": [
    "# Model training"
   ]
  },
  {
   "cell_type": "code",
   "execution_count": 33,
   "metadata": {
    "colab": {
     "base_uri": "https://localhost:8080/"
    },
    "id": "WirBl-JE9hE3",
    "outputId": "71b30ca2-8294-4d9d-8aa2-800d90d399de",
    "scrolled": true
   },
   "outputs": [
    {
     "name": "stdout",
     "output_type": "stream",
     "text": [
      "Epoch 1/1000\n",
      "171/182 [===========================>..] - ETA: 0s - loss: 2.6974 - accuracy: 0.1073\n",
      "Epoch 00001: saving model to model/keypoint_classifier\\keypoint_classifier.hdf5\n",
      "182/182 [==============================] - 1s 6ms/step - loss: 2.6885 - accuracy: 0.1107 - val_loss: 2.4624 - val_accuracy: 0.2913\n",
      "Epoch 2/1000\n",
      "178/182 [============================>.] - ETA: 0s - loss: 2.3499 - accuracy: 0.2438\n",
      "Epoch 00002: saving model to model/keypoint_classifier\\keypoint_classifier.hdf5\n",
      "182/182 [==============================] - 1s 4ms/step - loss: 2.3475 - accuracy: 0.2445 - val_loss: 1.9450 - val_accuracy: 0.4632\n",
      "Epoch 3/1000\n",
      "169/182 [==========================>...] - ETA: 0s - loss: 2.0646 - accuracy: 0.3214\n",
      "Epoch 00003: saving model to model/keypoint_classifier\\keypoint_classifier.hdf5\n",
      "182/182 [==============================] - 1s 4ms/step - loss: 2.0568 - accuracy: 0.3233 - val_loss: 1.5850 - val_accuracy: 0.6276\n",
      "Epoch 4/1000\n",
      "172/182 [===========================>..] - ETA: 0s - loss: 1.8845 - accuracy: 0.3821\n",
      "Epoch 00004: saving model to model/keypoint_classifier\\keypoint_classifier.hdf5\n",
      "182/182 [==============================] - 1s 4ms/step - loss: 1.8800 - accuracy: 0.3827 - val_loss: 1.3658 - val_accuracy: 0.6936\n",
      "Epoch 5/1000\n",
      "181/182 [============================>.] - ETA: 0s - loss: 1.7697 - accuracy: 0.4112\n",
      "Epoch 00005: saving model to model/keypoint_classifier\\keypoint_classifier.hdf5\n",
      "182/182 [==============================] - 1s 4ms/step - loss: 1.7696 - accuracy: 0.4113 - val_loss: 1.2534 - val_accuracy: 0.7389\n",
      "Epoch 6/1000\n",
      "171/182 [===========================>..] - ETA: 0s - loss: 1.6873 - accuracy: 0.4380\n",
      "Epoch 00006: saving model to model/keypoint_classifier\\keypoint_classifier.hdf5\n",
      "182/182 [==============================] - 1s 5ms/step - loss: 1.6861 - accuracy: 0.4388 - val_loss: 1.1485 - val_accuracy: 0.7956\n",
      "Epoch 7/1000\n",
      "173/182 [===========================>..] - ETA: 0s - loss: 1.6273 - accuracy: 0.4575\n",
      "Epoch 00007: saving model to model/keypoint_classifier\\keypoint_classifier.hdf5\n",
      "182/182 [==============================] - 1s 4ms/step - loss: 1.6238 - accuracy: 0.4584 - val_loss: 1.0740 - val_accuracy: 0.7991\n",
      "Epoch 8/1000\n",
      "172/182 [===========================>..] - ETA: 0s - loss: 1.5759 - accuracy: 0.4704\n",
      "Epoch 00008: saving model to model/keypoint_classifier\\keypoint_classifier.hdf5\n",
      "182/182 [==============================] - 1s 4ms/step - loss: 1.5752 - accuracy: 0.4704 - val_loss: 1.0360 - val_accuracy: 0.7803\n",
      "Epoch 9/1000\n",
      "173/182 [===========================>..] - ETA: 0s - loss: 1.5355 - accuracy: 0.4888\n",
      "Epoch 00009: saving model to model/keypoint_classifier\\keypoint_classifier.hdf5\n",
      "182/182 [==============================] - 1s 4ms/step - loss: 1.5325 - accuracy: 0.4893 - val_loss: 0.9767 - val_accuracy: 0.8163\n",
      "Epoch 10/1000\n",
      "171/182 [===========================>..] - ETA: 0s - loss: 1.4980 - accuracy: 0.4956\n",
      "Epoch 00010: saving model to model/keypoint_classifier\\keypoint_classifier.hdf5\n",
      "182/182 [==============================] - 1s 4ms/step - loss: 1.4973 - accuracy: 0.4963 - val_loss: 0.9417 - val_accuracy: 0.8469\n",
      "Epoch 11/1000\n",
      "174/182 [===========================>..] - ETA: 0s - loss: 1.4793 - accuracy: 0.5041\n",
      "Epoch 00011: saving model to model/keypoint_classifier\\keypoint_classifier.hdf5\n",
      "182/182 [==============================] - 1s 4ms/step - loss: 1.4788 - accuracy: 0.5037 - val_loss: 0.9287 - val_accuracy: 0.8346\n",
      "Epoch 12/1000\n",
      "169/182 [==========================>...] - ETA: 0s - loss: 1.4337 - accuracy: 0.5190\n",
      "Epoch 00012: saving model to model/keypoint_classifier\\keypoint_classifier.hdf5\n",
      "182/182 [==============================] - 1s 5ms/step - loss: 1.4328 - accuracy: 0.5187 - val_loss: 0.9037 - val_accuracy: 0.8615\n",
      "Epoch 13/1000\n",
      "181/182 [============================>.] - ETA: 0s - loss: 1.4223 - accuracy: 0.5249\n",
      "Epoch 00013: saving model to model/keypoint_classifier\\keypoint_classifier.hdf5\n",
      "182/182 [==============================] - 1s 4ms/step - loss: 1.4220 - accuracy: 0.5252 - val_loss: 0.8842 - val_accuracy: 0.8508\n",
      "Epoch 14/1000\n",
      "178/182 [============================>.] - ETA: 0s - loss: 1.3920 - accuracy: 0.5341\n",
      "Epoch 00014: saving model to model/keypoint_classifier\\keypoint_classifier.hdf5\n",
      "182/182 [==============================] - 1s 4ms/step - loss: 1.3912 - accuracy: 0.5334 - val_loss: 0.8441 - val_accuracy: 0.8660\n",
      "Epoch 15/1000\n",
      "175/182 [===========================>..] - ETA: 0s - loss: 1.3758 - accuracy: 0.5357\n",
      "Epoch 00015: saving model to model/keypoint_classifier\\keypoint_classifier.hdf5\n",
      "182/182 [==============================] - 1s 4ms/step - loss: 1.3742 - accuracy: 0.5365 - val_loss: 0.8279 - val_accuracy: 0.8602\n",
      "Epoch 16/1000\n",
      "177/182 [============================>.] - ETA: 0s - loss: 1.3484 - accuracy: 0.5477\n",
      "Epoch 00016: saving model to model/keypoint_classifier\\keypoint_classifier.hdf5\n",
      "182/182 [==============================] - 1s 4ms/step - loss: 1.3483 - accuracy: 0.5471 - val_loss: 0.8030 - val_accuracy: 0.8541\n",
      "Epoch 17/1000\n",
      "171/182 [===========================>..] - ETA: 0s - loss: 1.3321 - accuracy: 0.5530\n",
      "Epoch 00017: saving model to model/keypoint_classifier\\keypoint_classifier.hdf5\n",
      "182/182 [==============================] - 1s 4ms/step - loss: 1.3283 - accuracy: 0.5546 - val_loss: 0.8162 - val_accuracy: 0.8536\n",
      "Epoch 18/1000\n",
      "168/182 [==========================>...] - ETA: 0s - loss: 1.3265 - accuracy: 0.5524\n",
      "Epoch 00018: saving model to model/keypoint_classifier\\keypoint_classifier.hdf5\n",
      "182/182 [==============================] - 1s 5ms/step - loss: 1.3284 - accuracy: 0.5516 - val_loss: 0.7923 - val_accuracy: 0.8562\n",
      "Epoch 19/1000\n",
      "172/182 [===========================>..] - ETA: 0s - loss: 1.2954 - accuracy: 0.5631\n",
      "Epoch 00019: saving model to model/keypoint_classifier\\keypoint_classifier.hdf5\n",
      "182/182 [==============================] - 1s 4ms/step - loss: 1.2954 - accuracy: 0.5638 - val_loss: 0.7793 - val_accuracy: 0.8628\n",
      "Epoch 20/1000\n",
      "171/182 [===========================>..] - ETA: 0s - loss: 1.2903 - accuracy: 0.5625\n",
      "Epoch 00020: saving model to model/keypoint_classifier\\keypoint_classifier.hdf5\n",
      "182/182 [==============================] - 1s 4ms/step - loss: 1.2905 - accuracy: 0.5625 - val_loss: 0.7792 - val_accuracy: 0.8511\n",
      "Epoch 21/1000\n",
      "179/182 [============================>.] - ETA: 0s - loss: 1.2678 - accuracy: 0.5711\n",
      "Epoch 00021: saving model to model/keypoint_classifier\\keypoint_classifier.hdf5\n",
      "182/182 [==============================] - 1s 4ms/step - loss: 1.2665 - accuracy: 0.5715 - val_loss: 0.7614 - val_accuracy: 0.8620\n",
      "Epoch 22/1000\n",
      "173/182 [===========================>..] - ETA: 0s - loss: 1.2547 - accuracy: 0.5756\n",
      "Epoch 00022: saving model to model/keypoint_classifier\\keypoint_classifier.hdf5\n",
      "182/182 [==============================] - 1s 5ms/step - loss: 1.2563 - accuracy: 0.5748 - val_loss: 0.7396 - val_accuracy: 0.8619\n",
      "Epoch 23/1000\n",
      "176/182 [============================>.] - ETA: 0s - loss: 1.2503 - accuracy: 0.5749\n",
      "Epoch 00023: saving model to model/keypoint_classifier\\keypoint_classifier.hdf5\n",
      "182/182 [==============================] - 1s 4ms/step - loss: 1.2480 - accuracy: 0.5760 - val_loss: 0.7356 - val_accuracy: 0.8699\n",
      "Epoch 24/1000\n",
      "178/182 [============================>.] - ETA: 0s - loss: 1.2354 - accuracy: 0.5814\n",
      "Epoch 00024: saving model to model/keypoint_classifier\\keypoint_classifier.hdf5\n",
      "182/182 [==============================] - 1s 4ms/step - loss: 1.2356 - accuracy: 0.5816 - val_loss: 0.7368 - val_accuracy: 0.8479\n",
      "Epoch 25/1000\n",
      "172/182 [===========================>..] - ETA: 0s - loss: 1.2232 - accuracy: 0.5815\n",
      "Epoch 00025: saving model to model/keypoint_classifier\\keypoint_classifier.hdf5\n",
      "182/182 [==============================] - 1s 4ms/step - loss: 1.2230 - accuracy: 0.5820 - val_loss: 0.7308 - val_accuracy: 0.8593\n",
      "Epoch 26/1000\n",
      "170/182 [===========================>..] - ETA: 0s - loss: 1.2119 - accuracy: 0.5905\n",
      "Epoch 00026: saving model to model/keypoint_classifier\\keypoint_classifier.hdf5\n",
      "182/182 [==============================] - 1s 4ms/step - loss: 1.2074 - accuracy: 0.5911 - val_loss: 0.7185 - val_accuracy: 0.8519\n",
      "Epoch 27/1000\n",
      "172/182 [===========================>..] - ETA: 0s - loss: 1.2023 - accuracy: 0.5909\n",
      "Epoch 00027: saving model to model/keypoint_classifier\\keypoint_classifier.hdf5\n"
     ]
    },
    {
     "name": "stdout",
     "output_type": "stream",
     "text": [
      "182/182 [==============================] - 1s 5ms/step - loss: 1.2024 - accuracy: 0.5911 - val_loss: 0.7161 - val_accuracy: 0.8688\n",
      "Epoch 28/1000\n",
      "172/182 [===========================>..] - ETA: 0s - loss: 1.1986 - accuracy: 0.5884\n",
      "Epoch 00028: saving model to model/keypoint_classifier\\keypoint_classifier.hdf5\n",
      "182/182 [==============================] - 1s 5ms/step - loss: 1.1977 - accuracy: 0.5893 - val_loss: 0.6978 - val_accuracy: 0.8655\n",
      "Epoch 29/1000\n",
      "174/182 [===========================>..] - ETA: 0s - loss: 1.1944 - accuracy: 0.5950\n",
      "Epoch 00029: saving model to model/keypoint_classifier\\keypoint_classifier.hdf5\n",
      "182/182 [==============================] - 1s 4ms/step - loss: 1.1910 - accuracy: 0.5962 - val_loss: 0.6757 - val_accuracy: 0.8688\n",
      "Epoch 30/1000\n",
      "172/182 [===========================>..] - ETA: 0s - loss: 1.1655 - accuracy: 0.5994\n",
      "Epoch 00030: saving model to model/keypoint_classifier\\keypoint_classifier.hdf5\n",
      "182/182 [==============================] - 1s 4ms/step - loss: 1.1636 - accuracy: 0.6007 - val_loss: 0.6935 - val_accuracy: 0.8659\n",
      "Epoch 31/1000\n",
      "171/182 [===========================>..] - ETA: 0s - loss: 1.1674 - accuracy: 0.6033\n",
      "Epoch 00031: saving model to model/keypoint_classifier\\keypoint_classifier.hdf5\n",
      "182/182 [==============================] - 1s 4ms/step - loss: 1.1690 - accuracy: 0.6018 - val_loss: 0.6704 - val_accuracy: 0.8666\n",
      "Epoch 32/1000\n",
      "173/182 [===========================>..] - ETA: 0s - loss: 1.1470 - accuracy: 0.6046\n",
      "Epoch 00032: saving model to model/keypoint_classifier\\keypoint_classifier.hdf5\n",
      "182/182 [==============================] - 1s 4ms/step - loss: 1.1486 - accuracy: 0.6059 - val_loss: 0.6865 - val_accuracy: 0.8695\n",
      "Epoch 33/1000\n",
      "171/182 [===========================>..] - ETA: 0s - loss: 1.1331 - accuracy: 0.6108\n",
      "Epoch 00033: saving model to model/keypoint_classifier\\keypoint_classifier.hdf5\n",
      "182/182 [==============================] - 1s 4ms/step - loss: 1.1309 - accuracy: 0.6121 - val_loss: 0.6582 - val_accuracy: 0.8736\n",
      "Epoch 34/1000\n",
      "175/182 [===========================>..] - ETA: 0s - loss: 1.1339 - accuracy: 0.6115\n",
      "Epoch 00034: saving model to model/keypoint_classifier\\keypoint_classifier.hdf5\n",
      "182/182 [==============================] - 1s 4ms/step - loss: 1.1339 - accuracy: 0.6113 - val_loss: 0.6739 - val_accuracy: 0.8657\n",
      "Epoch 35/1000\n",
      "177/182 [============================>.] - ETA: 0s - loss: 1.1232 - accuracy: 0.6143\n",
      "Epoch 00035: saving model to model/keypoint_classifier\\keypoint_classifier.hdf5\n",
      "182/182 [==============================] - 1s 4ms/step - loss: 1.1227 - accuracy: 0.6143 - val_loss: 0.6574 - val_accuracy: 0.8849\n",
      "Epoch 36/1000\n",
      "171/182 [===========================>..] - ETA: 0s - loss: 1.1086 - accuracy: 0.6153\n",
      "Epoch 00036: saving model to model/keypoint_classifier\\keypoint_classifier.hdf5\n",
      "182/182 [==============================] - 1s 5ms/step - loss: 1.1063 - accuracy: 0.6158 - val_loss: 0.6545 - val_accuracy: 0.8823\n",
      "Epoch 37/1000\n",
      "170/182 [===========================>..] - ETA: 0s - loss: 1.0885 - accuracy: 0.6244\n",
      "Epoch 00037: saving model to model/keypoint_classifier\\keypoint_classifier.hdf5\n",
      "182/182 [==============================] - 1s 4ms/step - loss: 1.0887 - accuracy: 0.6251 - val_loss: 0.6392 - val_accuracy: 0.8763\n",
      "Epoch 38/1000\n",
      "172/182 [===========================>..] - ETA: 0s - loss: 1.0882 - accuracy: 0.6243\n",
      "Epoch 00038: saving model to model/keypoint_classifier\\keypoint_classifier.hdf5\n",
      "182/182 [==============================] - 1s 4ms/step - loss: 1.0885 - accuracy: 0.6235 - val_loss: 0.6404 - val_accuracy: 0.8748\n",
      "Epoch 39/1000\n",
      "177/182 [============================>.] - ETA: 0s - loss: 1.0718 - accuracy: 0.6318\n",
      "Epoch 00039: saving model to model/keypoint_classifier\\keypoint_classifier.hdf5\n",
      "182/182 [==============================] - 1s 4ms/step - loss: 1.0711 - accuracy: 0.6319 - val_loss: 0.6432 - val_accuracy: 0.8756\n",
      "Epoch 40/1000\n",
      "173/182 [===========================>..] - ETA: 0s - loss: 1.0802 - accuracy: 0.6269\n",
      "Epoch 00040: saving model to model/keypoint_classifier\\keypoint_classifier.hdf5\n",
      "182/182 [==============================] - 1s 4ms/step - loss: 1.0815 - accuracy: 0.6270 - val_loss: 0.6441 - val_accuracy: 0.8713\n",
      "Epoch 41/1000\n",
      "180/182 [============================>.] - ETA: 0s - loss: 1.0633 - accuracy: 0.6372\n",
      "Epoch 00041: saving model to model/keypoint_classifier\\keypoint_classifier.hdf5\n",
      "182/182 [==============================] - 1s 4ms/step - loss: 1.0635 - accuracy: 0.6373 - val_loss: 0.6339 - val_accuracy: 0.8679\n",
      "Epoch 42/1000\n",
      "170/182 [===========================>..] - ETA: 0s - loss: 1.0570 - accuracy: 0.6347\n",
      "Epoch 00042: saving model to model/keypoint_classifier\\keypoint_classifier.hdf5\n",
      "182/182 [==============================] - 1s 4ms/step - loss: 1.0578 - accuracy: 0.6342 - val_loss: 0.6224 - val_accuracy: 0.8823\n",
      "Epoch 43/1000\n",
      "180/182 [============================>.] - ETA: 0s - loss: 1.0414 - accuracy: 0.6428\n",
      "Epoch 00043: saving model to model/keypoint_classifier\\keypoint_classifier.hdf5\n",
      "182/182 [==============================] - 1s 5ms/step - loss: 1.0418 - accuracy: 0.6426 - val_loss: 0.6128 - val_accuracy: 0.8763\n",
      "Epoch 44/1000\n",
      "169/182 [==========================>...] - ETA: 0s - loss: 1.0347 - accuracy: 0.6416\n",
      "Epoch 00044: saving model to model/keypoint_classifier\\keypoint_classifier.hdf5\n",
      "182/182 [==============================] - 1s 4ms/step - loss: 1.0372 - accuracy: 0.6406 - val_loss: 0.6264 - val_accuracy: 0.8750\n",
      "Epoch 45/1000\n",
      "167/182 [==========================>...] - ETA: 0s - loss: 1.0376 - accuracy: 0.6434\n",
      "Epoch 00045: saving model to model/keypoint_classifier\\keypoint_classifier.hdf5\n",
      "182/182 [==============================] - 1s 4ms/step - loss: 1.0370 - accuracy: 0.6444 - val_loss: 0.5800 - val_accuracy: 0.8886\n",
      "Epoch 46/1000\n",
      "172/182 [===========================>..] - ETA: 0s - loss: 1.0306 - accuracy: 0.6467\n",
      "Epoch 00046: saving model to model/keypoint_classifier\\keypoint_classifier.hdf5\n",
      "182/182 [==============================] - 1s 4ms/step - loss: 1.0303 - accuracy: 0.6470 - val_loss: 0.6114 - val_accuracy: 0.8827\n",
      "Epoch 47/1000\n",
      "171/182 [===========================>..] - ETA: 0s - loss: 1.0192 - accuracy: 0.6546\n",
      "Epoch 00047: saving model to model/keypoint_classifier\\keypoint_classifier.hdf5\n",
      "182/182 [==============================] - 1s 4ms/step - loss: 1.0208 - accuracy: 0.6534 - val_loss: 0.6161 - val_accuracy: 0.8686\n",
      "Epoch 48/1000\n",
      "176/182 [============================>.] - ETA: 0s - loss: 1.0103 - accuracy: 0.6515\n",
      "Epoch 00048: saving model to model/keypoint_classifier\\keypoint_classifier.hdf5\n",
      "182/182 [==============================] - 1s 4ms/step - loss: 1.0076 - accuracy: 0.6527 - val_loss: 0.6169 - val_accuracy: 0.8719\n",
      "Epoch 49/1000\n",
      "175/182 [===========================>..] - ETA: 0s - loss: 1.0153 - accuracy: 0.6529\n",
      "Epoch 00049: saving model to model/keypoint_classifier\\keypoint_classifier.hdf5\n",
      "182/182 [==============================] - 1s 4ms/step - loss: 1.0151 - accuracy: 0.6529 - val_loss: 0.6056 - val_accuracy: 0.8787\n",
      "Epoch 50/1000\n",
      "172/182 [===========================>..] - ETA: 0s - loss: 0.9990 - accuracy: 0.6583\n",
      "Epoch 00050: saving model to model/keypoint_classifier\\keypoint_classifier.hdf5\n",
      "182/182 [==============================] - 1s 4ms/step - loss: 1.0015 - accuracy: 0.6578 - val_loss: 0.6268 - val_accuracy: 0.8802\n",
      "Epoch 51/1000\n",
      "171/182 [===========================>..] - ETA: 0s - loss: 0.9993 - accuracy: 0.6589\n",
      "Epoch 00051: saving model to model/keypoint_classifier\\keypoint_classifier.hdf5\n",
      "182/182 [==============================] - 1s 5ms/step - loss: 0.9974 - accuracy: 0.6589 - val_loss: 0.6116 - val_accuracy: 0.8752\n",
      "Epoch 52/1000\n",
      "179/182 [============================>.] - ETA: 0s - loss: 0.9884 - accuracy: 0.6623\n",
      "Epoch 00052: saving model to model/keypoint_classifier\\keypoint_classifier.hdf5\n",
      "182/182 [==============================] - 1s 4ms/step - loss: 0.9881 - accuracy: 0.6625 - val_loss: 0.5993 - val_accuracy: 0.8794\n",
      "Epoch 53/1000\n",
      "181/182 [============================>.] - ETA: 0s - loss: 0.9844 - accuracy: 0.6639\n",
      "Epoch 00053: saving model to model/keypoint_classifier\\keypoint_classifier.hdf5\n",
      "182/182 [==============================] - 1s 4ms/step - loss: 0.9840 - accuracy: 0.6639 - val_loss: 0.6300 - val_accuracy: 0.8705\n",
      "Epoch 54/1000\n"
     ]
    },
    {
     "name": "stdout",
     "output_type": "stream",
     "text": [
      "178/182 [============================>.] - ETA: 0s - loss: 0.9850 - accuracy: 0.6629\n",
      "Epoch 00054: saving model to model/keypoint_classifier\\keypoint_classifier.hdf5\n",
      "182/182 [==============================] - 1s 5ms/step - loss: 0.9852 - accuracy: 0.6634 - val_loss: 0.5966 - val_accuracy: 0.8787\n",
      "Epoch 55/1000\n",
      "180/182 [============================>.] - ETA: 0s - loss: 0.9857 - accuracy: 0.6632\n",
      "Epoch 00055: saving model to model/keypoint_classifier\\keypoint_classifier.hdf5\n",
      "182/182 [==============================] - 1s 4ms/step - loss: 0.9852 - accuracy: 0.6634 - val_loss: 0.6247 - val_accuracy: 0.8736\n",
      "Epoch 56/1000\n",
      "168/182 [==========================>...] - ETA: 0s - loss: 0.9726 - accuracy: 0.6684\n",
      "Epoch 00056: saving model to model/keypoint_classifier\\keypoint_classifier.hdf5\n",
      "182/182 [==============================] - 1s 4ms/step - loss: 0.9703 - accuracy: 0.6697 - val_loss: 0.6080 - val_accuracy: 0.8676\n",
      "Epoch 57/1000\n",
      "172/182 [===========================>..] - ETA: 0s - loss: 0.9670 - accuracy: 0.6687\n",
      "Epoch 00057: saving model to model/keypoint_classifier\\keypoint_classifier.hdf5\n",
      "182/182 [==============================] - 1s 4ms/step - loss: 0.9680 - accuracy: 0.6686 - val_loss: 0.6390 - val_accuracy: 0.8655\n",
      "Epoch 58/1000\n",
      "175/182 [===========================>..] - ETA: 0s - loss: 0.9638 - accuracy: 0.6708\n",
      "Epoch 00058: saving model to model/keypoint_classifier\\keypoint_classifier.hdf5\n",
      "182/182 [==============================] - 1s 4ms/step - loss: 0.9639 - accuracy: 0.6713 - val_loss: 0.5789 - val_accuracy: 0.8787\n",
      "Epoch 59/1000\n",
      "168/182 [==========================>...] - ETA: 0s - loss: 0.9603 - accuracy: 0.6683\n",
      "Epoch 00059: saving model to model/keypoint_classifier\\keypoint_classifier.hdf5\n",
      "182/182 [==============================] - 1s 5ms/step - loss: 0.9610 - accuracy: 0.6686 - val_loss: 0.6129 - val_accuracy: 0.8663\n",
      "Epoch 60/1000\n",
      "176/182 [============================>.] - ETA: 0s - loss: 0.9576 - accuracy: 0.6744\n",
      "Epoch 00060: saving model to model/keypoint_classifier\\keypoint_classifier.hdf5\n",
      "182/182 [==============================] - 1s 4ms/step - loss: 0.9576 - accuracy: 0.6739 - val_loss: 0.6487 - val_accuracy: 0.8515\n",
      "Epoch 61/1000\n",
      "174/182 [===========================>..] - ETA: 0s - loss: 0.9518 - accuracy: 0.6745\n",
      "Epoch 00061: saving model to model/keypoint_classifier\\keypoint_classifier.hdf5\n",
      "182/182 [==============================] - 1s 4ms/step - loss: 0.9506 - accuracy: 0.6750 - val_loss: 0.5969 - val_accuracy: 0.8641\n",
      "Epoch 62/1000\n",
      "174/182 [===========================>..] - ETA: 0s - loss: 0.9561 - accuracy: 0.6754\n",
      "Epoch 00062: saving model to model/keypoint_classifier\\keypoint_classifier.hdf5\n",
      "182/182 [==============================] - 1s 4ms/step - loss: 0.9534 - accuracy: 0.6762 - val_loss: 0.5894 - val_accuracy: 0.8747\n",
      "Epoch 63/1000\n",
      "175/182 [===========================>..] - ETA: 0s - loss: 0.9467 - accuracy: 0.6763\n",
      "Epoch 00063: saving model to model/keypoint_classifier\\keypoint_classifier.hdf5\n",
      "182/182 [==============================] - 1s 4ms/step - loss: 0.9456 - accuracy: 0.6776 - val_loss: 0.6404 - val_accuracy: 0.8474\n",
      "Epoch 64/1000\n",
      "173/182 [===========================>..] - ETA: 0s - loss: 0.9341 - accuracy: 0.6803\n",
      "Epoch 00064: saving model to model/keypoint_classifier\\keypoint_classifier.hdf5\n",
      "182/182 [==============================] - 1s 4ms/step - loss: 0.9376 - accuracy: 0.6792 - val_loss: 0.6437 - val_accuracy: 0.8517\n",
      "Epoch 65/1000\n",
      "174/182 [===========================>..] - ETA: 0s - loss: 0.9485 - accuracy: 0.6790\n",
      "Epoch 00065: saving model to model/keypoint_classifier\\keypoint_classifier.hdf5\n",
      "182/182 [==============================] - 1s 4ms/step - loss: 0.9483 - accuracy: 0.6792 - val_loss: 0.6485 - val_accuracy: 0.8468\n",
      "Epoch 66/1000\n",
      "177/182 [============================>.] - ETA: 0s - loss: 0.9427 - accuracy: 0.6789\n",
      "Epoch 00066: saving model to model/keypoint_classifier\\keypoint_classifier.hdf5\n",
      "182/182 [==============================] - 1s 5ms/step - loss: 0.9419 - accuracy: 0.6797 - val_loss: 0.6602 - val_accuracy: 0.8402\n",
      "Epoch 67/1000\n",
      "170/182 [===========================>..] - ETA: 0s - loss: 0.9488 - accuracy: 0.6727\n",
      "Epoch 00067: saving model to model/keypoint_classifier\\keypoint_classifier.hdf5\n",
      "182/182 [==============================] - 1s 4ms/step - loss: 0.9462 - accuracy: 0.6746 - val_loss: 0.6506 - val_accuracy: 0.8265\n",
      "Epoch 68/1000\n",
      "180/182 [============================>.] - ETA: 0s - loss: 0.9368 - accuracy: 0.6793\n",
      "Epoch 00068: saving model to model/keypoint_classifier\\keypoint_classifier.hdf5\n",
      "182/182 [==============================] - 1s 4ms/step - loss: 0.9375 - accuracy: 0.6794 - val_loss: 0.6286 - val_accuracy: 0.8403\n",
      "Epoch 69/1000\n",
      "177/182 [============================>.] - ETA: 0s - loss: 0.9431 - accuracy: 0.6761\n",
      "Epoch 00069: saving model to model/keypoint_classifier\\keypoint_classifier.hdf5\n",
      "182/182 [==============================] - 1s 4ms/step - loss: 0.9420 - accuracy: 0.6763 - val_loss: 0.5975 - val_accuracy: 0.8700\n",
      "Epoch 70/1000\n",
      "176/182 [============================>.] - ETA: 0s - loss: 0.9367 - accuracy: 0.6786\n",
      "Epoch 00070: saving model to model/keypoint_classifier\\keypoint_classifier.hdf5\n",
      "182/182 [==============================] - 1s 4ms/step - loss: 0.9377 - accuracy: 0.6783 - val_loss: 0.6371 - val_accuracy: 0.8457\n",
      "Epoch 71/1000\n",
      "177/182 [============================>.] - ETA: 0s - loss: 0.9307 - accuracy: 0.6851\n",
      "Epoch 00071: saving model to model/keypoint_classifier\\keypoint_classifier.hdf5\n",
      "182/182 [==============================] - 1s 4ms/step - loss: 0.9296 - accuracy: 0.6858 - val_loss: 0.6890 - val_accuracy: 0.8332\n",
      "Epoch 72/1000\n",
      "178/182 [============================>.] - ETA: 0s - loss: 0.9266 - accuracy: 0.6837 ETA: 0s - loss: 0.9261 - accura\n",
      "Epoch 00072: saving model to model/keypoint_classifier\\keypoint_classifier.hdf5\n",
      "182/182 [==============================] - 1s 4ms/step - loss: 0.9268 - accuracy: 0.6832 - val_loss: 0.6161 - val_accuracy: 0.8484\n",
      "Epoch 73/1000\n",
      "175/182 [===========================>..] - ETA: 0s - loss: 0.9330 - accuracy: 0.6808\n",
      "Epoch 00073: saving model to model/keypoint_classifier\\keypoint_classifier.hdf5\n",
      "182/182 [==============================] - 1s 4ms/step - loss: 0.9335 - accuracy: 0.6814 - val_loss: 0.6527 - val_accuracy: 0.8378\n",
      "Epoch 74/1000\n",
      "175/182 [===========================>..] - ETA: 0s - loss: 0.9309 - accuracy: 0.6834\n",
      "Epoch 00074: saving model to model/keypoint_classifier\\keypoint_classifier.hdf5\n",
      "182/182 [==============================] - 1s 4ms/step - loss: 0.9335 - accuracy: 0.6829 - val_loss: 0.7122 - val_accuracy: 0.8132\n",
      "Epoch 75/1000\n",
      "170/182 [===========================>..] - ETA: 0s - loss: 0.9249 - accuracy: 0.6853\n",
      "Epoch 00075: saving model to model/keypoint_classifier\\keypoint_classifier.hdf5\n",
      "182/182 [==============================] - 1s 4ms/step - loss: 0.9265 - accuracy: 0.6850 - val_loss: 0.6669 - val_accuracy: 0.8284\n",
      "Epoch 76/1000\n",
      "173/182 [===========================>..] - ETA: 0s - loss: 0.9220 - accuracy: 0.6838\n",
      "Epoch 00076: saving model to model/keypoint_classifier\\keypoint_classifier.hdf5\n",
      "182/182 [==============================] - 1s 4ms/step - loss: 0.9227 - accuracy: 0.6850 - val_loss: 0.6537 - val_accuracy: 0.8405\n",
      "Epoch 77/1000\n",
      "173/182 [===========================>..] - ETA: 0s - loss: 0.9106 - accuracy: 0.6904\n",
      "Epoch 00077: saving model to model/keypoint_classifier\\keypoint_classifier.hdf5\n",
      "182/182 [==============================] - 1s 4ms/step - loss: 0.9118 - accuracy: 0.6897 - val_loss: 0.6827 - val_accuracy: 0.8185\n",
      "Epoch 78/1000\n",
      "175/182 [===========================>..] - ETA: 0s - loss: 0.9207 - accuracy: 0.6860\n",
      "Epoch 00078: saving model to model/keypoint_classifier\\keypoint_classifier.hdf5\n",
      "182/182 [==============================] - 1s 5ms/step - loss: 0.9188 - accuracy: 0.6865 - val_loss: 0.6351 - val_accuracy: 0.8318\n",
      "Epoch 00078: early stopping\n"
     ]
    },
    {
     "data": {
      "text/plain": [
       "<tensorflow.python.keras.callbacks.History at 0x21bc564ac70>"
      ]
     },
     "execution_count": 33,
     "metadata": {},
     "output_type": "execute_result"
    }
   ],
   "source": [
    "model.fit(\n",
    "    X_train,\n",
    "    y_train,\n",
    "    epochs=1000,\n",
    "    batch_size=128,\n",
    "    validation_data=(X_test, y_test),\n",
    "    callbacks=[cp_callback, es_callback]\n",
    ")"
   ]
  },
  {
   "cell_type": "code",
   "execution_count": 12,
   "metadata": {
    "colab": {
     "base_uri": "https://localhost:8080/"
    },
    "id": "pxvb2Y299hE3",
    "outputId": "59eb3185-2e37-4b9e-bc9d-ab1b8ac29b7f"
   },
   "outputs": [
    {
     "name": "stdout",
     "output_type": "stream",
     "text": [
      "142/142 [==============================] - 0s 609us/step - loss: 0.8663 - accuracy: 0.6805\n"
     ]
    }
   ],
   "source": [
    "# Model evaluation\n",
    "val_loss, val_acc = model.evaluate(X_test, y_test, batch_size=128)"
   ]
  },
  {
   "cell_type": "code",
   "execution_count": 13,
   "metadata": {
    "id": "RBkmDeUW9hE4"
   },
   "outputs": [],
   "source": [
    "# Loading the saved model\n",
    "model = tf.keras.models.load_model(model_save_path)"
   ]
  },
  {
   "cell_type": "code",
   "execution_count": 14,
   "metadata": {
    "colab": {
     "base_uri": "https://localhost:8080/"
    },
    "id": "tFz9Tb0I9hE4",
    "outputId": "1c3b3528-54ae-4ee2-ab04-77429211cbef"
   },
   "outputs": [
    {
     "name": "stdout",
     "output_type": "stream",
     "text": [
      "[2.2679500e-29 5.4554653e-07 7.1732080e-07 4.3844423e-07 2.3866039e-02\n",
      " 1.4369250e-03 1.3531334e-04 1.6437248e-04 1.8330511e-02 6.3641957e-05\n",
      " 1.6782230e-02 6.3665491e-03 4.7099725e-03 2.9496650e-05 7.6683307e-01\n",
      " 9.3028648e-03 2.3383953e-17 1.7302710e-12 1.7072044e-06 1.3855523e-19\n",
      " 8.7864583e-15 1.8161117e-20 7.7765934e-02 5.3834249e-03 2.0960961e-02\n",
      " 1.5394853e-14 2.7271281e-07 1.1697104e-13 4.0793482e-02 1.1766378e-03\n",
      " 2.9398274e-07 1.8655102e-19 1.8814501e-07 1.8775289e-08 5.8942498e-03]\n",
      "14\n"
     ]
    }
   ],
   "source": [
    "# Inference test\n",
    "predict_result = model.predict(np.array([X_test[0]]))\n",
    "print(np.squeeze(predict_result))\n",
    "print(np.argmax(np.squeeze(predict_result)))"
   ]
  },
  {
   "cell_type": "markdown",
   "metadata": {
    "id": "S3U4yNWx9hE4"
   },
   "source": [
    "# Confusion matrix"
   ]
  },
  {
   "cell_type": "code",
   "execution_count": 15,
   "metadata": {
    "colab": {
     "base_uri": "https://localhost:8080/",
     "height": 582
    },
    "id": "AP1V6SCk9hE5",
    "outputId": "08e41a80-7a4a-4619-8125-ecc371368d19"
   },
   "outputs": [
    {
     "ename": "ModuleNotFoundError",
     "evalue": "No module named 'pandas'",
     "output_type": "error",
     "traceback": [
      "\u001b[1;31m---------------------------------------------------------------------------\u001b[0m",
      "\u001b[1;31mModuleNotFoundError\u001b[0m                       Traceback (most recent call last)",
      "Cell \u001b[1;32mIn[15], line 1\u001b[0m\n\u001b[1;32m----> 1\u001b[0m \u001b[38;5;28;01mimport\u001b[39;00m \u001b[38;5;21;01mpandas\u001b[39;00m \u001b[38;5;28;01mas\u001b[39;00m \u001b[38;5;21;01mpd\u001b[39;00m\n\u001b[0;32m      2\u001b[0m \u001b[38;5;28;01mimport\u001b[39;00m \u001b[38;5;21;01mseaborn\u001b[39;00m \u001b[38;5;28;01mas\u001b[39;00m \u001b[38;5;21;01msns\u001b[39;00m\n\u001b[0;32m      3\u001b[0m \u001b[38;5;28;01mimport\u001b[39;00m \u001b[38;5;21;01mmatplotlib\u001b[39;00m\u001b[38;5;21;01m.\u001b[39;00m\u001b[38;5;21;01mpyplot\u001b[39;00m \u001b[38;5;28;01mas\u001b[39;00m \u001b[38;5;21;01mplt\u001b[39;00m\n",
      "\u001b[1;31mModuleNotFoundError\u001b[0m: No module named 'pandas'"
     ]
    }
   ],
   "source": [
    "import pandas as pd\n",
    "import seaborn as sns\n",
    "import matplotlib.pyplot as plt\n",
    "from sklearn.metrics import confusion_matrix, classification_report\n",
    "\n",
    "def print_confusion_matrix(y_true, y_pred, report=True):\n",
    "    labels = sorted(list(set(y_true)))\n",
    "    cmx_data = confusion_matrix(y_true, y_pred, labels=labels)\n",
    "    \n",
    "    df_cmx = pd.DataFrame(cmx_data, index=labels, columns=labels)\n",
    " \n",
    "    fig, ax = plt.subplots(figsize=(7, 6))\n",
    "    sns.heatmap(df_cmx, annot=True, fmt='g' ,square=False)\n",
    "    ax.set_ylim(len(set(y_true)), 0)\n",
    "    plt.show()\n",
    "    \n",
    "    if report:\n",
    "        print('Classification Report')\n",
    "        print(classification_report(y_test, y_pred))\n",
    "\n",
    "Y_pred = model.predict(X_test)\n",
    "y_pred = np.argmax(Y_pred, axis=1)\n",
    "\n",
    "print_confusion_matrix(y_test, y_pred)"
   ]
  },
  {
   "cell_type": "markdown",
   "metadata": {
    "id": "FNP6aqzc9hE5"
   },
   "source": [
    "# Convert to model for Tensorflow-Lite"
   ]
  },
  {
   "cell_type": "code",
   "execution_count": 16,
   "metadata": {
    "id": "ODjnYyld9hE6"
   },
   "outputs": [],
   "source": [
    "# Save as a model dedicated to inference\n",
    "model.save(model_save_path, include_optimizer=False)"
   ]
  },
  {
   "cell_type": "code",
   "execution_count": 17,
   "metadata": {
    "colab": {
     "base_uri": "https://localhost:8080/"
    },
    "id": "zRfuK8Y59hE6",
    "outputId": "a4ca585c-b5d5-4244-8291-8674063209bb"
   },
   "outputs": [
    {
     "name": "stdout",
     "output_type": "stream",
     "text": [
      "WARNING:tensorflow:From C:\\Users\\khand\\OneDrive\\Desktop\\Final year project\\code base\\hand-gesture-recognition-mediapipe\\venv\\lib\\site-packages\\tensorflow\\python\\training\\tracking\\tracking.py:111: Model.state_updates (from tensorflow.python.keras.engine.training) is deprecated and will be removed in a future version.\n",
      "Instructions for updating:\n",
      "This property should not be used in TensorFlow 2.0, as updates are applied automatically.\n",
      "WARNING:tensorflow:From C:\\Users\\khand\\OneDrive\\Desktop\\Final year project\\code base\\hand-gesture-recognition-mediapipe\\venv\\lib\\site-packages\\tensorflow\\python\\training\\tracking\\tracking.py:111: Layer.updates (from tensorflow.python.keras.engine.base_layer) is deprecated and will be removed in a future version.\n",
      "Instructions for updating:\n",
      "This property should not be used in TensorFlow 2.0, as updates are applied automatically.\n",
      "INFO:tensorflow:Assets written to: C:\\Users\\khand\\AppData\\Local\\Temp\\tmpw4kgtiab\\assets\n"
     ]
    },
    {
     "data": {
      "text/plain": [
       "7632"
      ]
     },
     "execution_count": 17,
     "metadata": {},
     "output_type": "execute_result"
    }
   ],
   "source": [
    "# Transform model (quantization)\n",
    "\n",
    "converter = tf.lite.TFLiteConverter.from_keras_model(model)\n",
    "converter.optimizations = [tf.lite.Optimize.DEFAULT]\n",
    "tflite_quantized_model = converter.convert()\n",
    "\n",
    "open(tflite_save_path, 'wb').write(tflite_quantized_model)"
   ]
  },
  {
   "cell_type": "markdown",
   "metadata": {
    "id": "CHBPBXdx9hE6"
   },
   "source": [
    "# Inference test"
   ]
  },
  {
   "cell_type": "code",
   "execution_count": 18,
   "metadata": {
    "id": "mGAzLocO9hE7"
   },
   "outputs": [],
   "source": [
    "interpreter = tf.lite.Interpreter(model_path=tflite_save_path)\n",
    "interpreter.allocate_tensors()"
   ]
  },
  {
   "cell_type": "code",
   "execution_count": 19,
   "metadata": {
    "id": "oQuDK8YS9hE7"
   },
   "outputs": [],
   "source": [
    "# Get I / O tensor\n",
    "input_details = interpreter.get_input_details()\n",
    "output_details = interpreter.get_output_details()"
   ]
  },
  {
   "cell_type": "code",
   "execution_count": 20,
   "metadata": {
    "id": "2_ixAf_l9hE7"
   },
   "outputs": [],
   "source": [
    "interpreter.set_tensor(input_details[0]['index'], np.array([X_test[0]]))"
   ]
  },
  {
   "cell_type": "code",
   "execution_count": 21,
   "metadata": {
    "colab": {
     "base_uri": "https://localhost:8080/"
    },
    "id": "s4FoAnuc9hE7",
    "outputId": "91f18257-8d8b-4ef3-c558-e9b5f94fabbf",
    "scrolled": true
   },
   "outputs": [
    {
     "name": "stdout",
     "output_type": "stream",
     "text": [
      "CPU times: total: 0 ns\n",
      "Wall time: 6 ms\n"
     ]
    }
   ],
   "source": [
    "%%time\n",
    "# Inference implementation\n",
    "interpreter.invoke()\n",
    "tflite_results = interpreter.get_tensor(output_details[0]['index'])"
   ]
  },
  {
   "cell_type": "code",
   "execution_count": 22,
   "metadata": {
    "colab": {
     "base_uri": "https://localhost:8080/"
    },
    "id": "vONjp19J9hE8",
    "outputId": "77205e24-fd00-42c4-f7b6-e06e527c2cba"
   },
   "outputs": [
    {
     "name": "stdout",
     "output_type": "stream",
     "text": [
      "[2.2679849e-29 5.4554766e-07 7.1732364e-07 4.3844602e-07 2.3866067e-02\n",
      " 1.4369286e-03 1.3531439e-04 1.6437376e-04 1.8330557e-02 6.3642394e-05\n",
      " 1.6782233e-02 6.3665770e-03 4.7099805e-03 2.9496852e-05 7.6683319e-01\n",
      " 9.3028788e-03 2.3384136e-17 1.7302778e-12 1.7072078e-06 1.3855526e-19\n",
      " 8.7864591e-15 1.8161327e-20 7.7765912e-02 5.3834207e-03 2.0960974e-02\n",
      " 1.5395030e-14 2.7271389e-07 1.1697060e-13 4.0793478e-02 1.1766379e-03\n",
      " 2.9398475e-07 1.8655248e-19 1.8814720e-07 1.8775292e-08 5.8942507e-03]\n",
      "14\n"
     ]
    }
   ],
   "source": [
    "print(np.squeeze(tflite_results))\n",
    "print(np.argmax(np.squeeze(tflite_results)))"
   ]
  },
  {
   "cell_type": "code",
   "execution_count": null,
   "metadata": {},
   "outputs": [],
   "source": []
  },
  {
   "cell_type": "code",
   "execution_count": null,
   "metadata": {},
   "outputs": [],
   "source": []
  }
 ],
 "metadata": {
  "accelerator": "GPU",
  "colab": {
   "collapsed_sections": [],
   "name": "keypoint_classification_EN.ipynb",
   "provenance": [],
   "toc_visible": true
  },
  "kernelspec": {
   "display_name": "venv",
   "language": "python",
   "name": "venv"
  },
  "language_info": {
   "codemirror_mode": {
    "name": "ipython",
    "version": 3
   },
   "file_extension": ".py",
   "mimetype": "text/x-python",
   "name": "python",
   "nbconvert_exporter": "python",
   "pygments_lexer": "ipython3",
   "version": "3.8.0"
  }
 },
 "nbformat": 4,
 "nbformat_minor": 4
}
