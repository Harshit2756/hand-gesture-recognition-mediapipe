{
 "cells": [
  {
   "cell_type": "code",
   "execution_count": 133,
   "metadata": {
    "id": "igMyGnjE9hEp",
    "scrolled": true
   },
   "outputs": [],
   "source": [
    "import csv\n",
    "\n",
    "import numpy as np\n",
    "import tensorflow as tf\n",
    "from sklearn.model_selection import train_test_split\n",
    "\n",
    "RANDOM_SEED = 42"
   ]
  },
  {
   "cell_type": "markdown",
   "metadata": {
    "id": "t2HDvhIu9hEr"
   },
   "source": [
    "# Specify each path"
   ]
  },
  {
   "cell_type": "code",
   "execution_count": 134,
   "metadata": {
    "id": "9NvZP2Zn9hEy"
   },
   "outputs": [],
   "source": [
    "dataset = 'model/keypoint_classifier/keypoint.csv'\n",
    "model_save_path = 'model/keypoint_classifier/keypoint_classifier.hdf5'\n",
    "tflite_save_path = 'model/keypoint_classifier/keypoint_classifier.tflite'"
   ]
  },
  {
   "cell_type": "markdown",
   "metadata": {
    "id": "s5oMH7x19hEz"
   },
   "source": [
    "# Set number of classes"
   ]
  },
  {
   "cell_type": "code",
   "execution_count": 135,
   "metadata": {
    "id": "du4kodXL9hEz"
   },
   "outputs": [],
   "source": [
    "NUM_CLASSES = 35"
   ]
  },
  {
   "cell_type": "markdown",
   "metadata": {
    "id": "XjnL0uso9hEz"
   },
   "source": [
    "# Dataset reading"
   ]
  },
  {
   "cell_type": "code",
   "execution_count": 136,
   "metadata": {
    "id": "QT5ZqtEz9hE0"
   },
   "outputs": [],
   "source": [
    "X_dataset = np.loadtxt(dataset, delimiter=',', dtype='float32', usecols=list(range(1, (21 * 2) + 1)))"
   ]
  },
  {
   "cell_type": "code",
   "execution_count": 137,
   "metadata": {
    "id": "QmoKFsp49hE0"
   },
   "outputs": [],
   "source": [
    "y_dataset = np.loadtxt(dataset, delimiter=',', dtype='int32', usecols=(0))"
   ]
  },
  {
   "cell_type": "code",
   "execution_count": 138,
   "metadata": {
    "id": "xQU7JTZ_9hE0"
   },
   "outputs": [],
   "source": [
    "X_train, X_test, y_train, y_test = train_test_split(X_dataset, y_dataset, train_size=0.75, random_state=RANDOM_SEED)"
   ]
  },
  {
   "cell_type": "markdown",
   "metadata": {
    "id": "mxK_lETT9hE0"
   },
   "source": [
    "# Model building"
   ]
  },
  {
   "cell_type": "code",
   "execution_count": 139,
   "metadata": {
    "id": "vHBmUf1t9hE1"
   },
   "outputs": [],
   "source": [
    "model = tf.keras.models.Sequential([\n",
    "    tf.keras.layers.Input((21 * 2, )),\n",
    "    tf.keras.layers.Dropout(0.2),\n",
    "    tf.keras.layers.Dense(20, activation='relu'),\n",
    "    tf.keras.layers.Dropout(0.4),\n",
    "    tf.keras.layers.Dense(10, activation='relu'),\n",
    "    tf.keras.layers.Dense(NUM_CLASSES, activation='softmax')\n",
    "])"
   ]
  },
  {
   "cell_type": "code",
   "execution_count": 140,
   "metadata": {
    "colab": {
     "base_uri": "https://localhost:8080/"
    },
    "id": "ypqky9tc9hE1",
    "outputId": "5db082bb-30e3-4110-bf63-a1ee777ecd46"
   },
   "outputs": [
    {
     "name": "stdout",
     "output_type": "stream",
     "text": [
      "Model: \"sequential_6\"\n",
      "_________________________________________________________________\n",
      " Layer (type)                Output Shape              Param #   \n",
      "=================================================================\n",
      " dropout_12 (Dropout)        (None, 42)                0         \n",
      "                                                                 \n",
      " dense_18 (Dense)            (None, 20)                860       \n",
      "                                                                 \n",
      " dropout_13 (Dropout)        (None, 20)                0         \n",
      "                                                                 \n",
      " dense_19 (Dense)            (None, 10)                210       \n",
      "                                                                 \n",
      " dense_20 (Dense)            (None, 35)                385       \n",
      "                                                                 \n",
      "=================================================================\n",
      "Total params: 1455 (5.68 KB)\n",
      "Trainable params: 1455 (5.68 KB)\n",
      "Non-trainable params: 0 (0.00 Byte)\n",
      "_________________________________________________________________\n"
     ]
    }
   ],
   "source": [
    "model.summary()  # tf.keras.utils.plot_model(model, show_shapes=True)"
   ]
  },
  {
   "cell_type": "code",
   "execution_count": 141,
   "metadata": {
    "id": "MbMjOflQ9hE1"
   },
   "outputs": [],
   "source": [
    "# Model checkpoint callback\n",
    "cp_callback = tf.keras.callbacks.ModelCheckpoint(\n",
    "    model_save_path, verbose=1, save_weights_only=False)\n",
    "# Callback for early stopping\n",
    "es_callback = tf.keras.callbacks.EarlyStopping(patience=20, verbose=1)"
   ]
  },
  {
   "cell_type": "code",
   "execution_count": 142,
   "metadata": {
    "id": "c3Dac0M_9hE2"
   },
   "outputs": [],
   "source": [
    "# Model compilation\n",
    "model.compile(\n",
    "    optimizer='adam',\n",
    "    loss='sparse_categorical_crossentropy',\n",
    "    metrics=['accuracy']\n",
    ")"
   ]
  },
  {
   "cell_type": "markdown",
   "metadata": {
    "id": "7XI0j1Iu9hE2"
   },
   "source": [
    "# Model training"
   ]
  },
  {
   "cell_type": "code",
   "execution_count": 143,
   "metadata": {
    "colab": {
     "base_uri": "https://localhost:8080/"
    },
    "id": "WirBl-JE9hE3",
    "outputId": "71b30ca2-8294-4d9d-8aa2-800d90d399de",
    "scrolled": true
   },
   "outputs": [
    {
     "name": "stdout",
     "output_type": "stream",
     "text": [
      "Epoch 1/1000\n",
      "187/201 [==========================>...] - ETA: 0s - loss: 3.3869 - accuracy: 0.0604\n",
      "Epoch 1: saving model to model/keypoint_classifier\\keypoint_classifier.hdf5\n",
      "201/201 [==============================] - 1s 2ms/step - loss: 3.3665 - accuracy: 0.0631 - val_loss: 2.9378 - val_accuracy: 0.1862\n",
      "Epoch 2/1000\n",
      "141/201 [====================>.........] - ETA: 0s - loss: 2.8539 - accuracy: 0.1515"
     ]
    },
    {
     "name": "stderr",
     "output_type": "stream",
     "text": [
      "d:\\adi files\\final year project\\hand-gesture-recognition-mediapipe\\venv\\lib\\site-packages\\keras\\src\\engine\\training.py:3000: UserWarning: You are saving your model as an HDF5 file via `model.save()`. This file format is considered legacy. We recommend using instead the native Keras format, e.g. `model.save('my_model.keras')`.\n",
      "  saving_api.save_model(\n"
     ]
    },
    {
     "name": "stdout",
     "output_type": "stream",
     "text": [
      "188/201 [===========================>..] - ETA: 0s - loss: 2.7902 - accuracy: 0.1644\n",
      "Epoch 2: saving model to model/keypoint_classifier\\keypoint_classifier.hdf5\n",
      "201/201 [==============================] - 0s 1ms/step - loss: 2.7721 - accuracy: 0.1673 - val_loss: 2.1313 - val_accuracy: 0.4433\n",
      "Epoch 3/1000\n",
      "193/201 [===========================>..] - ETA: 0s - loss: 2.3474 - accuracy: 0.2526\n",
      "Epoch 3: saving model to model/keypoint_classifier\\keypoint_classifier.hdf5\n",
      "201/201 [==============================] - 0s 2ms/step - loss: 2.3426 - accuracy: 0.2530 - val_loss: 1.7257 - val_accuracy: 0.6864\n",
      "Epoch 4/1000\n",
      "175/201 [=========================>....] - ETA: 0s - loss: 2.1258 - accuracy: 0.3085\n",
      "Epoch 4: saving model to model/keypoint_classifier\\keypoint_classifier.hdf5\n",
      "201/201 [==============================] - 0s 2ms/step - loss: 2.1149 - accuracy: 0.3110 - val_loss: 1.4749 - val_accuracy: 0.7016\n",
      "Epoch 5/1000\n",
      "192/201 [===========================>..] - ETA: 0s - loss: 1.9818 - accuracy: 0.3436\n",
      "Epoch 5: saving model to model/keypoint_classifier\\keypoint_classifier.hdf5\n",
      "201/201 [==============================] - 0s 1ms/step - loss: 1.9792 - accuracy: 0.3441 - val_loss: 1.3013 - val_accuracy: 0.7558\n",
      "Epoch 6/1000\n",
      "195/201 [============================>.] - ETA: 0s - loss: 1.8687 - accuracy: 0.3792\n",
      "Epoch 6: saving model to model/keypoint_classifier\\keypoint_classifier.hdf5\n",
      "201/201 [==============================] - 0s 1ms/step - loss: 1.8669 - accuracy: 0.3798 - val_loss: 1.1989 - val_accuracy: 0.7528\n",
      "Epoch 7/1000\n",
      "200/201 [============================>.] - ETA: 0s - loss: 1.7968 - accuracy: 0.3991\n",
      "Epoch 7: saving model to model/keypoint_classifier\\keypoint_classifier.hdf5\n",
      "201/201 [==============================] - 0s 1ms/step - loss: 1.7962 - accuracy: 0.3995 - val_loss: 1.0969 - val_accuracy: 0.8202\n",
      "Epoch 8/1000\n",
      "201/201 [==============================] - ETA: 0s - loss: 1.7185 - accuracy: 0.4195\n",
      "Epoch 8: saving model to model/keypoint_classifier\\keypoint_classifier.hdf5\n",
      "201/201 [==============================] - 0s 1ms/step - loss: 1.7185 - accuracy: 0.4195 - val_loss: 1.0298 - val_accuracy: 0.8129\n",
      "Epoch 9/1000\n",
      "199/201 [============================>.] - ETA: 0s - loss: 1.6964 - accuracy: 0.4315\n",
      "Epoch 9: saving model to model/keypoint_classifier\\keypoint_classifier.hdf5\n",
      "201/201 [==============================] - 0s 2ms/step - loss: 1.6962 - accuracy: 0.4314 - val_loss: 0.9968 - val_accuracy: 0.8477\n",
      "Epoch 10/1000\n",
      "156/201 [======================>.......] - ETA: 0s - loss: 1.6419 - accuracy: 0.4499\n",
      "Epoch 10: saving model to model/keypoint_classifier\\keypoint_classifier.hdf5\n",
      "201/201 [==============================] - 0s 2ms/step - loss: 1.6375 - accuracy: 0.4518 - val_loss: 0.9365 - val_accuracy: 0.8621\n",
      "Epoch 11/1000\n",
      "169/201 [========================>.....] - ETA: 0s - loss: 1.6267 - accuracy: 0.4542\n",
      "Epoch 11: saving model to model/keypoint_classifier\\keypoint_classifier.hdf5\n",
      "201/201 [==============================] - 0s 2ms/step - loss: 1.6206 - accuracy: 0.4548 - val_loss: 0.8683 - val_accuracy: 0.8930\n",
      "Epoch 12/1000\n",
      "180/201 [=========================>....] - ETA: 0s - loss: 1.5871 - accuracy: 0.4656\n",
      "Epoch 12: saving model to model/keypoint_classifier\\keypoint_classifier.hdf5\n",
      "201/201 [==============================] - 0s 2ms/step - loss: 1.5842 - accuracy: 0.4670 - val_loss: 0.8482 - val_accuracy: 0.8930\n",
      "Epoch 13/1000\n",
      "176/201 [=========================>....] - ETA: 0s - loss: 1.5663 - accuracy: 0.4724\n",
      "Epoch 13: saving model to model/keypoint_classifier\\keypoint_classifier.hdf5\n",
      "201/201 [==============================] - 0s 2ms/step - loss: 1.5621 - accuracy: 0.4747 - val_loss: 0.8251 - val_accuracy: 0.8947\n",
      "Epoch 14/1000\n",
      "182/201 [==========================>...] - ETA: 0s - loss: 1.5419 - accuracy: 0.4806\n",
      "Epoch 14: saving model to model/keypoint_classifier\\keypoint_classifier.hdf5\n",
      "201/201 [==============================] - 0s 2ms/step - loss: 1.5416 - accuracy: 0.4798 - val_loss: 0.7905 - val_accuracy: 0.9110\n",
      "Epoch 15/1000\n",
      "175/201 [=========================>....] - ETA: 0s - loss: 1.5118 - accuracy: 0.4887\n",
      "Epoch 15: saving model to model/keypoint_classifier\\keypoint_classifier.hdf5\n",
      "201/201 [==============================] - 0s 2ms/step - loss: 1.5135 - accuracy: 0.4884 - val_loss: 0.7676 - val_accuracy: 0.8981\n",
      "Epoch 16/1000\n",
      "195/201 [============================>.] - ETA: 0s - loss: 1.4760 - accuracy: 0.4980\n",
      "Epoch 16: saving model to model/keypoint_classifier\\keypoint_classifier.hdf5\n",
      "201/201 [==============================] - 0s 2ms/step - loss: 1.4775 - accuracy: 0.4972 - val_loss: 0.7378 - val_accuracy: 0.9068\n",
      "Epoch 17/1000\n",
      "166/201 [=======================>......] - ETA: 0s - loss: 1.4675 - accuracy: 0.5019\n",
      "Epoch 17: saving model to model/keypoint_classifier\\keypoint_classifier.hdf5\n",
      "201/201 [==============================] - 0s 2ms/step - loss: 1.4636 - accuracy: 0.5025 - val_loss: 0.7042 - val_accuracy: 0.9045\n",
      "Epoch 18/1000\n",
      "164/201 [=======================>......] - ETA: 0s - loss: 1.4629 - accuracy: 0.5028\n",
      "Epoch 18: saving model to model/keypoint_classifier\\keypoint_classifier.hdf5\n",
      "201/201 [==============================] - 0s 2ms/step - loss: 1.4586 - accuracy: 0.5054 - val_loss: 0.7055 - val_accuracy: 0.9084\n",
      "Epoch 19/1000\n",
      "175/201 [=========================>....] - ETA: 0s - loss: 1.4348 - accuracy: 0.5144\n",
      "Epoch 19: saving model to model/keypoint_classifier\\keypoint_classifier.hdf5\n",
      "201/201 [==============================] - 0s 2ms/step - loss: 1.4259 - accuracy: 0.5182 - val_loss: 0.6715 - val_accuracy: 0.9174\n",
      "Epoch 20/1000\n",
      "194/201 [===========================>..] - ETA: 0s - loss: 1.4150 - accuracy: 0.5160\n",
      "Epoch 20: saving model to model/keypoint_classifier\\keypoint_classifier.hdf5\n",
      "201/201 [==============================] - 0s 1ms/step - loss: 1.4156 - accuracy: 0.5158 - val_loss: 0.6690 - val_accuracy: 0.9076\n",
      "Epoch 21/1000\n",
      "176/201 [=========================>....] - ETA: 0s - loss: 1.4004 - accuracy: 0.5234\n",
      "Epoch 21: saving model to model/keypoint_classifier\\keypoint_classifier.hdf5\n",
      "201/201 [==============================] - 0s 2ms/step - loss: 1.4011 - accuracy: 0.5232 - val_loss: 0.6511 - val_accuracy: 0.9147\n",
      "Epoch 22/1000\n",
      "193/201 [===========================>..] - ETA: 0s - loss: 1.3959 - accuracy: 0.5239\n",
      "Epoch 22: saving model to model/keypoint_classifier\\keypoint_classifier.hdf5\n",
      "201/201 [==============================] - 0s 2ms/step - loss: 1.3957 - accuracy: 0.5254 - val_loss: 0.6390 - val_accuracy: 0.9150\n",
      "Epoch 23/1000\n",
      "173/201 [========================>.....] - ETA: 0s - loss: 1.3810 - accuracy: 0.5325\n",
      "Epoch 23: saving model to model/keypoint_classifier\\keypoint_classifier.hdf5\n",
      "201/201 [==============================] - 0s 2ms/step - loss: 1.3778 - accuracy: 0.5326 - val_loss: 0.6378 - val_accuracy: 0.9071\n",
      "Epoch 24/1000\n",
      "171/201 [========================>.....] - ETA: 0s - loss: 1.3584 - accuracy: 0.5388\n",
      "Epoch 24: saving model to model/keypoint_classifier\\keypoint_classifier.hdf5\n",
      "201/201 [==============================] - 0s 2ms/step - loss: 1.3587 - accuracy: 0.5367 - val_loss: 0.6184 - val_accuracy: 0.9151\n",
      "Epoch 25/1000\n",
      "166/201 [=======================>......] - ETA: 0s - loss: 1.3532 - accuracy: 0.5362\n",
      "Epoch 25: saving model to model/keypoint_classifier\\keypoint_classifier.hdf5\n",
      "201/201 [==============================] - 0s 2ms/step - loss: 1.3513 - accuracy: 0.5359 - val_loss: 0.5981 - val_accuracy: 0.9325\n",
      "Epoch 26/1000\n",
      "189/201 [===========================>..] - ETA: 0s - loss: 1.3446 - accuracy: 0.5431\n",
      "Epoch 26: saving model to model/keypoint_classifier\\keypoint_classifier.hdf5\n",
      "201/201 [==============================] - 0s 1ms/step - loss: 1.3435 - accuracy: 0.5433 - val_loss: 0.5932 - val_accuracy: 0.9165\n",
      "Epoch 27/1000\n",
      "186/201 [==========================>...] - ETA: 0s - loss: 1.3313 - accuracy: 0.5451\n",
      "Epoch 27: saving model to model/keypoint_classifier\\keypoint_classifier.hdf5\n",
      "201/201 [==============================] - 0s 1ms/step - loss: 1.3307 - accuracy: 0.5451 - val_loss: 0.5891 - val_accuracy: 0.9285\n",
      "Epoch 28/1000\n",
      "197/201 [============================>.] - ETA: 0s - loss: 1.3156 - accuracy: 0.5529\n",
      "Epoch 28: saving model to model/keypoint_classifier\\keypoint_classifier.hdf5\n",
      "201/201 [==============================] - 0s 2ms/step - loss: 1.3157 - accuracy: 0.5529 - val_loss: 0.5776 - val_accuracy: 0.9293\n",
      "Epoch 29/1000\n",
      "182/201 [==========================>...] - ETA: 0s - loss: 1.3132 - accuracy: 0.5512\n",
      "Epoch 29: saving model to model/keypoint_classifier\\keypoint_classifier.hdf5\n",
      "201/201 [==============================] - 0s 2ms/step - loss: 1.3155 - accuracy: 0.5507 - val_loss: 0.5760 - val_accuracy: 0.9309\n",
      "Epoch 30/1000\n",
      "185/201 [==========================>...] - ETA: 0s - loss: 1.3135 - accuracy: 0.5518\n",
      "Epoch 30: saving model to model/keypoint_classifier\\keypoint_classifier.hdf5\n",
      "201/201 [==============================] - 0s 1ms/step - loss: 1.3126 - accuracy: 0.5528 - val_loss: 0.5652 - val_accuracy: 0.9318\n",
      "Epoch 31/1000\n",
      "150/201 [=====================>........] - ETA: 0s - loss: 1.3149 - accuracy: 0.5540\n",
      "Epoch 31: saving model to model/keypoint_classifier\\keypoint_classifier.hdf5\n",
      "201/201 [==============================] - 0s 1ms/step - loss: 1.3048 - accuracy: 0.5568 - val_loss: 0.5515 - val_accuracy: 0.9314\n",
      "Epoch 32/1000\n",
      "197/201 [============================>.] - ETA: 0s - loss: 1.2982 - accuracy: 0.5563\n",
      "Epoch 32: saving model to model/keypoint_classifier\\keypoint_classifier.hdf5\n",
      "201/201 [==============================] - 0s 2ms/step - loss: 1.2980 - accuracy: 0.5564 - val_loss: 0.5435 - val_accuracy: 0.9412\n",
      "Epoch 33/1000\n",
      "187/201 [==========================>...] - ETA: 0s - loss: 1.2889 - accuracy: 0.5624\n",
      "Epoch 33: saving model to model/keypoint_classifier\\keypoint_classifier.hdf5\n",
      "201/201 [==============================] - 0s 1ms/step - loss: 1.2883 - accuracy: 0.5626 - val_loss: 0.5494 - val_accuracy: 0.9314\n",
      "Epoch 34/1000\n",
      "189/201 [===========================>..] - ETA: 0s - loss: 1.2825 - accuracy: 0.5611\n",
      "Epoch 34: saving model to model/keypoint_classifier\\keypoint_classifier.hdf5\n",
      "201/201 [==============================] - 0s 2ms/step - loss: 1.2806 - accuracy: 0.5618 - val_loss: 0.5429 - val_accuracy: 0.9362\n",
      "Epoch 35/1000\n",
      "198/201 [============================>.] - ETA: 0s - loss: 1.2621 - accuracy: 0.5672\n",
      "Epoch 35: saving model to model/keypoint_classifier\\keypoint_classifier.hdf5\n",
      "201/201 [==============================] - 0s 2ms/step - loss: 1.2623 - accuracy: 0.5672 - val_loss: 0.5322 - val_accuracy: 0.9185\n",
      "Epoch 36/1000\n",
      "177/201 [=========================>....] - ETA: 0s - loss: 1.2804 - accuracy: 0.5640\n",
      "Epoch 36: saving model to model/keypoint_classifier\\keypoint_classifier.hdf5\n",
      "201/201 [==============================] - 0s 2ms/step - loss: 1.2791 - accuracy: 0.5637 - val_loss: 0.5388 - val_accuracy: 0.9414\n",
      "Epoch 37/1000\n",
      "185/201 [==========================>...] - ETA: 0s - loss: 1.2538 - accuracy: 0.5738\n",
      "Epoch 37: saving model to model/keypoint_classifier\\keypoint_classifier.hdf5\n",
      "201/201 [==============================] - 0s 1ms/step - loss: 1.2538 - accuracy: 0.5731 - val_loss: 0.5236 - val_accuracy: 0.9407\n",
      "Epoch 38/1000\n",
      "197/201 [============================>.] - ETA: 0s - loss: 1.2477 - accuracy: 0.5798\n",
      "Epoch 38: saving model to model/keypoint_classifier\\keypoint_classifier.hdf5\n",
      "201/201 [==============================] - 0s 1ms/step - loss: 1.2465 - accuracy: 0.5799 - val_loss: 0.5066 - val_accuracy: 0.9453\n",
      "Epoch 39/1000\n",
      "194/201 [===========================>..] - ETA: 0s - loss: 1.2441 - accuracy: 0.5784\n",
      "Epoch 39: saving model to model/keypoint_classifier\\keypoint_classifier.hdf5\n",
      "201/201 [==============================] - 0s 1ms/step - loss: 1.2442 - accuracy: 0.5785 - val_loss: 0.5152 - val_accuracy: 0.9443\n",
      "Epoch 40/1000\n",
      "187/201 [==========================>...] - ETA: 0s - loss: 1.2460 - accuracy: 0.5776\n",
      "Epoch 40: saving model to model/keypoint_classifier\\keypoint_classifier.hdf5\n",
      "201/201 [==============================] - 0s 1ms/step - loss: 1.2473 - accuracy: 0.5775 - val_loss: 0.5171 - val_accuracy: 0.9347\n",
      "Epoch 41/1000\n",
      "184/201 [==========================>...] - ETA: 0s - loss: 1.2419 - accuracy: 0.5719\n",
      "Epoch 41: saving model to model/keypoint_classifier\\keypoint_classifier.hdf5\n",
      "201/201 [==============================] - 0s 2ms/step - loss: 1.2417 - accuracy: 0.5731 - val_loss: 0.5137 - val_accuracy: 0.9434\n",
      "Epoch 42/1000\n",
      "181/201 [==========================>...] - ETA: 0s - loss: 1.2329 - accuracy: 0.5787\n",
      "Epoch 42: saving model to model/keypoint_classifier\\keypoint_classifier.hdf5\n",
      "201/201 [==============================] - 0s 2ms/step - loss: 1.2326 - accuracy: 0.5781 - val_loss: 0.4994 - val_accuracy: 0.9531\n",
      "Epoch 43/1000\n",
      "178/201 [=========================>....] - ETA: 0s - loss: 1.2226 - accuracy: 0.5823\n",
      "Epoch 43: saving model to model/keypoint_classifier\\keypoint_classifier.hdf5\n",
      "201/201 [==============================] - 0s 2ms/step - loss: 1.2285 - accuracy: 0.5820 - val_loss: 0.4994 - val_accuracy: 0.9437\n",
      "Epoch 44/1000\n",
      "191/201 [===========================>..] - ETA: 0s - loss: 1.2320 - accuracy: 0.5799\n",
      "Epoch 44: saving model to model/keypoint_classifier\\keypoint_classifier.hdf5\n",
      "201/201 [==============================] - 0s 1ms/step - loss: 1.2309 - accuracy: 0.5805 - val_loss: 0.4882 - val_accuracy: 0.9421\n",
      "Epoch 45/1000\n",
      "193/201 [===========================>..] - ETA: 0s - loss: 1.2114 - accuracy: 0.5839\n",
      "Epoch 45: saving model to model/keypoint_classifier\\keypoint_classifier.hdf5\n",
      "201/201 [==============================] - 0s 1ms/step - loss: 1.2102 - accuracy: 0.5842 - val_loss: 0.4984 - val_accuracy: 0.9510\n",
      "Epoch 46/1000\n",
      "184/201 [==========================>...] - ETA: 0s - loss: 1.2099 - accuracy: 0.5877\n",
      "Epoch 46: saving model to model/keypoint_classifier\\keypoint_classifier.hdf5\n",
      "201/201 [==============================] - 0s 1ms/step - loss: 1.2105 - accuracy: 0.5883 - val_loss: 0.4882 - val_accuracy: 0.9498\n",
      "Epoch 47/1000\n",
      "170/201 [========================>.....] - ETA: 0s - loss: 1.2137 - accuracy: 0.5848\n",
      "Epoch 47: saving model to model/keypoint_classifier\\keypoint_classifier.hdf5\n",
      "201/201 [==============================] - 0s 2ms/step - loss: 1.2070 - accuracy: 0.5865 - val_loss: 0.4740 - val_accuracy: 0.9435\n",
      "Epoch 48/1000\n",
      "159/201 [======================>.......] - ETA: 0s - loss: 1.1901 - accuracy: 0.5871\n",
      "Epoch 48: saving model to model/keypoint_classifier\\keypoint_classifier.hdf5\n",
      "201/201 [==============================] - 0s 2ms/step - loss: 1.1926 - accuracy: 0.5886 - val_loss: 0.4851 - val_accuracy: 0.9427\n",
      "Epoch 49/1000\n",
      "184/201 [==========================>...] - ETA: 0s - loss: 1.2028 - accuracy: 0.5881\n",
      "Epoch 49: saving model to model/keypoint_classifier\\keypoint_classifier.hdf5\n",
      "201/201 [==============================] - 0s 1ms/step - loss: 1.2026 - accuracy: 0.5895 - val_loss: 0.4630 - val_accuracy: 0.9474\n",
      "Epoch 50/1000\n",
      "170/201 [========================>.....] - ETA: 0s - loss: 1.1843 - accuracy: 0.5944\n",
      "Epoch 50: saving model to model/keypoint_classifier\\keypoint_classifier.hdf5\n",
      "201/201 [==============================] - 0s 2ms/step - loss: 1.1829 - accuracy: 0.5952 - val_loss: 0.4745 - val_accuracy: 0.9511\n",
      "Epoch 51/1000\n",
      "177/201 [=========================>....] - ETA: 0s - loss: 1.1858 - accuracy: 0.5900\n",
      "Epoch 51: saving model to model/keypoint_classifier\\keypoint_classifier.hdf5\n",
      "201/201 [==============================] - 0s 2ms/step - loss: 1.1864 - accuracy: 0.5900 - val_loss: 0.4733 - val_accuracy: 0.9421\n",
      "Epoch 52/1000\n",
      "176/201 [=========================>....] - ETA: 0s - loss: 1.1914 - accuracy: 0.5934\n",
      "Epoch 52: saving model to model/keypoint_classifier\\keypoint_classifier.hdf5\n",
      "201/201 [==============================] - 0s 2ms/step - loss: 1.1928 - accuracy: 0.5932 - val_loss: 0.4690 - val_accuracy: 0.9440\n",
      "Epoch 53/1000\n",
      "179/201 [=========================>....] - ETA: 0s - loss: 1.1729 - accuracy: 0.5998\n",
      "Epoch 53: saving model to model/keypoint_classifier\\keypoint_classifier.hdf5\n",
      "201/201 [==============================] - 0s 2ms/step - loss: 1.1705 - accuracy: 0.5999 - val_loss: 0.4481 - val_accuracy: 0.9359\n",
      "Epoch 54/1000\n",
      "199/201 [============================>.] - ETA: 0s - loss: 1.1839 - accuracy: 0.5976\n",
      "Epoch 54: saving model to model/keypoint_classifier\\keypoint_classifier.hdf5\n",
      "201/201 [==============================] - 0s 2ms/step - loss: 1.1840 - accuracy: 0.5973 - val_loss: 0.4648 - val_accuracy: 0.9579\n",
      "Epoch 55/1000\n",
      "184/201 [==========================>...] - ETA: 0s - loss: 1.1728 - accuracy: 0.5984\n",
      "Epoch 55: saving model to model/keypoint_classifier\\keypoint_classifier.hdf5\n",
      "201/201 [==============================] - 0s 2ms/step - loss: 1.1720 - accuracy: 0.5976 - val_loss: 0.4584 - val_accuracy: 0.9422\n",
      "Epoch 56/1000\n",
      "177/201 [=========================>....] - ETA: 0s - loss: 1.1575 - accuracy: 0.6028\n",
      "Epoch 56: saving model to model/keypoint_classifier\\keypoint_classifier.hdf5\n",
      "201/201 [==============================] - 0s 2ms/step - loss: 1.1601 - accuracy: 0.6028 - val_loss: 0.4452 - val_accuracy: 0.9545\n",
      "Epoch 57/1000\n",
      "194/201 [===========================>..] - ETA: 0s - loss: 1.1611 - accuracy: 0.6041\n",
      "Epoch 57: saving model to model/keypoint_classifier\\keypoint_classifier.hdf5\n",
      "201/201 [==============================] - 0s 2ms/step - loss: 1.1604 - accuracy: 0.6040 - val_loss: 0.4577 - val_accuracy: 0.9405\n",
      "Epoch 58/1000\n",
      "195/201 [============================>.] - ETA: 0s - loss: 1.1589 - accuracy: 0.6004\n",
      "Epoch 58: saving model to model/keypoint_classifier\\keypoint_classifier.hdf5\n",
      "201/201 [==============================] - 0s 1ms/step - loss: 1.1604 - accuracy: 0.5999 - val_loss: 0.4562 - val_accuracy: 0.9483\n",
      "Epoch 59/1000\n",
      "182/201 [==========================>...] - ETA: 0s - loss: 1.1506 - accuracy: 0.6092\n",
      "Epoch 59: saving model to model/keypoint_classifier\\keypoint_classifier.hdf5\n",
      "201/201 [==============================] - 0s 2ms/step - loss: 1.1547 - accuracy: 0.6081 - val_loss: 0.4647 - val_accuracy: 0.9437\n",
      "Epoch 60/1000\n",
      "193/201 [===========================>..] - ETA: 0s - loss: 1.1517 - accuracy: 0.6065\n",
      "Epoch 60: saving model to model/keypoint_classifier\\keypoint_classifier.hdf5\n",
      "201/201 [==============================] - 0s 2ms/step - loss: 1.1473 - accuracy: 0.6080 - val_loss: 0.4464 - val_accuracy: 0.9505\n",
      "Epoch 61/1000\n",
      "180/201 [=========================>....] - ETA: 0s - loss: 1.1459 - accuracy: 0.6099\n",
      "Epoch 61: saving model to model/keypoint_classifier\\keypoint_classifier.hdf5\n",
      "201/201 [==============================] - 0s 2ms/step - loss: 1.1493 - accuracy: 0.6092 - val_loss: 0.4577 - val_accuracy: 0.9353\n",
      "Epoch 62/1000\n",
      "178/201 [=========================>....] - ETA: 0s - loss: 1.1575 - accuracy: 0.6085\n",
      "Epoch 62: saving model to model/keypoint_classifier\\keypoint_classifier.hdf5\n",
      "201/201 [==============================] - 0s 2ms/step - loss: 1.1586 - accuracy: 0.6076 - val_loss: 0.4455 - val_accuracy: 0.9421\n",
      "Epoch 63/1000\n",
      "189/201 [===========================>..] - ETA: 0s - loss: 1.1352 - accuracy: 0.6141\n",
      "Epoch 63: saving model to model/keypoint_classifier\\keypoint_classifier.hdf5\n",
      "201/201 [==============================] - 0s 2ms/step - loss: 1.1338 - accuracy: 0.6139 - val_loss: 0.4582 - val_accuracy: 0.9470\n",
      "Epoch 64/1000\n",
      "193/201 [===========================>..] - ETA: 0s - loss: 1.1396 - accuracy: 0.6101\n",
      "Epoch 64: saving model to model/keypoint_classifier\\keypoint_classifier.hdf5\n",
      "201/201 [==============================] - 0s 1ms/step - loss: 1.1436 - accuracy: 0.6088 - val_loss: 0.4622 - val_accuracy: 0.9400\n",
      "Epoch 65/1000\n",
      "198/201 [============================>.] - ETA: 0s - loss: 1.1297 - accuracy: 0.6148\n",
      "Epoch 65: saving model to model/keypoint_classifier\\keypoint_classifier.hdf5\n",
      "201/201 [==============================] - 0s 1ms/step - loss: 1.1298 - accuracy: 0.6149 - val_loss: 0.4542 - val_accuracy: 0.9220\n",
      "Epoch 66/1000\n",
      "183/201 [==========================>...] - ETA: 0s - loss: 1.1277 - accuracy: 0.6191\n",
      "Epoch 66: saving model to model/keypoint_classifier\\keypoint_classifier.hdf5\n",
      "201/201 [==============================] - 0s 2ms/step - loss: 1.1264 - accuracy: 0.6192 - val_loss: 0.4447 - val_accuracy: 0.9527\n",
      "Epoch 67/1000\n",
      "183/201 [==========================>...] - ETA: 0s - loss: 1.1299 - accuracy: 0.6207\n",
      "Epoch 67: saving model to model/keypoint_classifier\\keypoint_classifier.hdf5\n",
      "201/201 [==============================] - 0s 2ms/step - loss: 1.1261 - accuracy: 0.6219 - val_loss: 0.4402 - val_accuracy: 0.9510\n",
      "Epoch 68/1000\n",
      "168/201 [========================>.....] - ETA: 0s - loss: 1.1115 - accuracy: 0.6231\n",
      "Epoch 68: saving model to model/keypoint_classifier\\keypoint_classifier.hdf5\n",
      "201/201 [==============================] - 0s 2ms/step - loss: 1.1144 - accuracy: 0.6218 - val_loss: 0.4544 - val_accuracy: 0.9256\n",
      "Epoch 69/1000\n",
      "169/201 [========================>.....] - ETA: 0s - loss: 1.1073 - accuracy: 0.6256\n",
      "Epoch 69: saving model to model/keypoint_classifier\\keypoint_classifier.hdf5\n",
      "201/201 [==============================] - 0s 2ms/step - loss: 1.1097 - accuracy: 0.6255 - val_loss: 0.4487 - val_accuracy: 0.9332\n",
      "Epoch 70/1000\n",
      "166/201 [=======================>......] - ETA: 0s - loss: 1.1159 - accuracy: 0.6196\n",
      "Epoch 70: saving model to model/keypoint_classifier\\keypoint_classifier.hdf5\n",
      "201/201 [==============================] - 0s 2ms/step - loss: 1.1110 - accuracy: 0.6214 - val_loss: 0.4351 - val_accuracy: 0.9402\n",
      "Epoch 71/1000\n",
      "188/201 [===========================>..] - ETA: 0s - loss: 1.1242 - accuracy: 0.6184\n",
      "Epoch 71: saving model to model/keypoint_classifier\\keypoint_classifier.hdf5\n",
      "201/201 [==============================] - 0s 1ms/step - loss: 1.1223 - accuracy: 0.6191 - val_loss: 0.4517 - val_accuracy: 0.9243\n",
      "Epoch 72/1000\n",
      "179/201 [=========================>....] - ETA: 0s - loss: 1.0867 - accuracy: 0.6239\n",
      "Epoch 72: saving model to model/keypoint_classifier\\keypoint_classifier.hdf5\n",
      "201/201 [==============================] - 0s 2ms/step - loss: 1.0898 - accuracy: 0.6233 - val_loss: 0.4319 - val_accuracy: 0.9376\n",
      "Epoch 73/1000\n",
      "165/201 [=======================>......] - ETA: 0s - loss: 1.1116 - accuracy: 0.6260\n",
      "Epoch 73: saving model to model/keypoint_classifier\\keypoint_classifier.hdf5\n",
      "201/201 [==============================] - 0s 2ms/step - loss: 1.1037 - accuracy: 0.6286 - val_loss: 0.4397 - val_accuracy: 0.9293\n",
      "Epoch 74/1000\n",
      "185/201 [==========================>...] - ETA: 0s - loss: 1.0992 - accuracy: 0.6271\n",
      "Epoch 74: saving model to model/keypoint_classifier\\keypoint_classifier.hdf5\n",
      "201/201 [==============================] - 0s 2ms/step - loss: 1.0961 - accuracy: 0.6276 - val_loss: 0.4357 - val_accuracy: 0.9421\n",
      "Epoch 75/1000\n",
      "172/201 [========================>.....] - ETA: 0s - loss: 1.1163 - accuracy: 0.6278\n",
      "Epoch 75: saving model to model/keypoint_classifier\\keypoint_classifier.hdf5\n",
      "201/201 [==============================] - 0s 2ms/step - loss: 1.1134 - accuracy: 0.6271 - val_loss: 0.4512 - val_accuracy: 0.9281\n",
      "Epoch 76/1000\n",
      "201/201 [==============================] - ETA: 0s - loss: 1.1026 - accuracy: 0.6251\n",
      "Epoch 76: saving model to model/keypoint_classifier\\keypoint_classifier.hdf5\n",
      "201/201 [==============================] - 0s 2ms/step - loss: 1.1026 - accuracy: 0.6251 - val_loss: 0.4337 - val_accuracy: 0.9319\n",
      "Epoch 77/1000\n",
      "187/201 [==========================>...] - ETA: 0s - loss: 1.0974 - accuracy: 0.6299\n",
      "Epoch 77: saving model to model/keypoint_classifier\\keypoint_classifier.hdf5\n",
      "201/201 [==============================] - 0s 1ms/step - loss: 1.0965 - accuracy: 0.6305 - val_loss: 0.4391 - val_accuracy: 0.9300\n",
      "Epoch 78/1000\n",
      "190/201 [===========================>..] - ETA: 0s - loss: 1.0925 - accuracy: 0.6312\n",
      "Epoch 78: saving model to model/keypoint_classifier\\keypoint_classifier.hdf5\n",
      "201/201 [==============================] - 0s 2ms/step - loss: 1.0957 - accuracy: 0.6305 - val_loss: 0.4258 - val_accuracy: 0.9415\n",
      "Epoch 79/1000\n",
      "198/201 [============================>.] - ETA: 0s - loss: 1.0952 - accuracy: 0.6332\n",
      "Epoch 79: saving model to model/keypoint_classifier\\keypoint_classifier.hdf5\n",
      "201/201 [==============================] - 0s 2ms/step - loss: 1.0945 - accuracy: 0.6335 - val_loss: 0.4366 - val_accuracy: 0.9314\n",
      "Epoch 80/1000\n",
      "173/201 [========================>.....] - ETA: 0s - loss: 1.0903 - accuracy: 0.6336\n",
      "Epoch 80: saving model to model/keypoint_classifier\\keypoint_classifier.hdf5\n",
      "201/201 [==============================] - 0s 2ms/step - loss: 1.0891 - accuracy: 0.6347 - val_loss: 0.4402 - val_accuracy: 0.9307\n",
      "Epoch 81/1000\n",
      "200/201 [============================>.] - ETA: 0s - loss: 1.0774 - accuracy: 0.6302\n",
      "Epoch 81: saving model to model/keypoint_classifier\\keypoint_classifier.hdf5\n",
      "201/201 [==============================] - 0s 2ms/step - loss: 1.0773 - accuracy: 0.6303 - val_loss: 0.4322 - val_accuracy: 0.9357\n",
      "Epoch 82/1000\n",
      "181/201 [==========================>...] - ETA: 0s - loss: 1.1068 - accuracy: 0.6262\n",
      "Epoch 82: saving model to model/keypoint_classifier\\keypoint_classifier.hdf5\n",
      "201/201 [==============================] - 0s 1ms/step - loss: 1.1034 - accuracy: 0.6277 - val_loss: 0.4354 - val_accuracy: 0.9346\n",
      "Epoch 83/1000\n",
      "197/201 [============================>.] - ETA: 0s - loss: 1.0815 - accuracy: 0.6316\n",
      "Epoch 83: saving model to model/keypoint_classifier\\keypoint_classifier.hdf5\n",
      "201/201 [==============================] - 0s 1ms/step - loss: 1.0816 - accuracy: 0.6321 - val_loss: 0.4212 - val_accuracy: 0.9369\n",
      "Epoch 84/1000\n",
      "188/201 [===========================>..] - ETA: 0s - loss: 1.0813 - accuracy: 0.6322\n",
      "Epoch 84: saving model to model/keypoint_classifier\\keypoint_classifier.hdf5\n",
      "201/201 [==============================] - 0s 1ms/step - loss: 1.0811 - accuracy: 0.6331 - val_loss: 0.4300 - val_accuracy: 0.9343\n",
      "Epoch 85/1000\n",
      "196/201 [============================>.] - ETA: 0s - loss: 1.0777 - accuracy: 0.6360\n",
      "Epoch 85: saving model to model/keypoint_classifier\\keypoint_classifier.hdf5\n",
      "201/201 [==============================] - 0s 2ms/step - loss: 1.0801 - accuracy: 0.6357 - val_loss: 0.4486 - val_accuracy: 0.9318\n",
      "Epoch 86/1000\n",
      "171/201 [========================>.....] - ETA: 0s - loss: 1.0755 - accuracy: 0.6381\n",
      "Epoch 86: saving model to model/keypoint_classifier\\keypoint_classifier.hdf5\n",
      "201/201 [==============================] - 0s 2ms/step - loss: 1.0734 - accuracy: 0.6396 - val_loss: 0.4408 - val_accuracy: 0.9244\n",
      "Epoch 87/1000\n",
      "170/201 [========================>.....] - ETA: 0s - loss: 1.0871 - accuracy: 0.6343\n",
      "Epoch 87: saving model to model/keypoint_classifier\\keypoint_classifier.hdf5\n",
      "201/201 [==============================] - 0s 2ms/step - loss: 1.0807 - accuracy: 0.6374 - val_loss: 0.4558 - val_accuracy: 0.9157\n",
      "Epoch 88/1000\n",
      "166/201 [=======================>......] - ETA: 0s - loss: 1.0674 - accuracy: 0.6386\n",
      "Epoch 88: saving model to model/keypoint_classifier\\keypoint_classifier.hdf5\n",
      "201/201 [==============================] - 0s 2ms/step - loss: 1.0689 - accuracy: 0.6380 - val_loss: 0.4380 - val_accuracy: 0.9269\n",
      "Epoch 89/1000\n",
      "154/201 [=====================>........] - ETA: 0s - loss: 1.0630 - accuracy: 0.6421\n",
      "Epoch 89: saving model to model/keypoint_classifier\\keypoint_classifier.hdf5\n",
      "201/201 [==============================] - 0s 1ms/step - loss: 1.0698 - accuracy: 0.6402 - val_loss: 0.4512 - val_accuracy: 0.9242\n",
      "Epoch 90/1000\n",
      "196/201 [============================>.] - ETA: 0s - loss: 1.0732 - accuracy: 0.6378\n",
      "Epoch 90: saving model to model/keypoint_classifier\\keypoint_classifier.hdf5\n",
      "201/201 [==============================] - 0s 1ms/step - loss: 1.0720 - accuracy: 0.6383 - val_loss: 0.4290 - val_accuracy: 0.9250\n",
      "Epoch 91/1000\n",
      "195/201 [============================>.] - ETA: 0s - loss: 1.0700 - accuracy: 0.6381\n",
      "Epoch 91: saving model to model/keypoint_classifier\\keypoint_classifier.hdf5\n",
      "201/201 [==============================] - 0s 2ms/step - loss: 1.0704 - accuracy: 0.6385 - val_loss: 0.4437 - val_accuracy: 0.9313\n",
      "Epoch 92/1000\n",
      "168/201 [========================>.....] - ETA: 0s - loss: 1.0552 - accuracy: 0.6427\n",
      "Epoch 92: saving model to model/keypoint_classifier\\keypoint_classifier.hdf5\n",
      "201/201 [==============================] - 0s 2ms/step - loss: 1.0561 - accuracy: 0.6432 - val_loss: 0.4422 - val_accuracy: 0.9276\n",
      "Epoch 93/1000\n",
      "195/201 [============================>.] - ETA: 0s - loss: 1.0431 - accuracy: 0.6442\n",
      "Epoch 93: saving model to model/keypoint_classifier\\keypoint_classifier.hdf5\n",
      "201/201 [==============================] - 0s 1ms/step - loss: 1.0417 - accuracy: 0.6447 - val_loss: 0.4346 - val_accuracy: 0.9313\n",
      "Epoch 94/1000\n",
      "188/201 [===========================>..] - ETA: 0s - loss: 1.0513 - accuracy: 0.6449\n",
      "Epoch 94: saving model to model/keypoint_classifier\\keypoint_classifier.hdf5\n",
      "201/201 [==============================] - 0s 1ms/step - loss: 1.0515 - accuracy: 0.6438 - val_loss: 0.4428 - val_accuracy: 0.9127\n",
      "Epoch 95/1000\n",
      "157/201 [======================>.......] - ETA: 0s - loss: 1.0610 - accuracy: 0.6405\n",
      "Epoch 95: saving model to model/keypoint_classifier\\keypoint_classifier.hdf5\n",
      "201/201 [==============================] - 0s 2ms/step - loss: 1.0583 - accuracy: 0.6415 - val_loss: 0.4409 - val_accuracy: 0.9250\n",
      "Epoch 96/1000\n",
      "185/201 [==========================>...] - ETA: 0s - loss: 1.0556 - accuracy: 0.6429\n",
      "Epoch 96: saving model to model/keypoint_classifier\\keypoint_classifier.hdf5\n",
      "201/201 [==============================] - 0s 2ms/step - loss: 1.0568 - accuracy: 0.6426 - val_loss: 0.4516 - val_accuracy: 0.9112\n",
      "Epoch 97/1000\n",
      "188/201 [===========================>..] - ETA: 0s - loss: 1.0520 - accuracy: 0.6471\n",
      "Epoch 97: saving model to model/keypoint_classifier\\keypoint_classifier.hdf5\n",
      "201/201 [==============================] - 0s 2ms/step - loss: 1.0531 - accuracy: 0.6466 - val_loss: 0.4479 - val_accuracy: 0.9266\n",
      "Epoch 98/1000\n",
      "195/201 [============================>.] - ETA: 0s - loss: 1.0566 - accuracy: 0.6480\n",
      "Epoch 98: saving model to model/keypoint_classifier\\keypoint_classifier.hdf5\n",
      "201/201 [==============================] - 0s 2ms/step - loss: 1.0566 - accuracy: 0.6476 - val_loss: 0.4533 - val_accuracy: 0.9235\n",
      "Epoch 99/1000\n",
      "188/201 [===========================>..] - ETA: 0s - loss: 1.0583 - accuracy: 0.6401\n",
      "Epoch 99: saving model to model/keypoint_classifier\\keypoint_classifier.hdf5\n",
      "201/201 [==============================] - 0s 2ms/step - loss: 1.0552 - accuracy: 0.6414 - val_loss: 0.4428 - val_accuracy: 0.9216\n",
      "Epoch 100/1000\n",
      "183/201 [==========================>...] - ETA: 0s - loss: 1.0418 - accuracy: 0.6513\n",
      "Epoch 100: saving model to model/keypoint_classifier\\keypoint_classifier.hdf5\n",
      "201/201 [==============================] - 0s 2ms/step - loss: 1.0411 - accuracy: 0.6529 - val_loss: 0.4434 - val_accuracy: 0.9233\n",
      "Epoch 101/1000\n",
      "173/201 [========================>.....] - ETA: 0s - loss: 1.0616 - accuracy: 0.6416\n",
      "Epoch 101: saving model to model/keypoint_classifier\\keypoint_classifier.hdf5\n",
      "201/201 [==============================] - 0s 2ms/step - loss: 1.0604 - accuracy: 0.6425 - val_loss: 0.4640 - val_accuracy: 0.9145\n",
      "Epoch 102/1000\n",
      "188/201 [===========================>..] - ETA: 0s - loss: 1.0544 - accuracy: 0.6418\n",
      "Epoch 102: saving model to model/keypoint_classifier\\keypoint_classifier.hdf5\n",
      "201/201 [==============================] - 0s 1ms/step - loss: 1.0533 - accuracy: 0.6427 - val_loss: 0.4512 - val_accuracy: 0.9181\n",
      "Epoch 103/1000\n",
      "181/201 [==========================>...] - ETA: 0s - loss: 1.0426 - accuracy: 0.6510\n",
      "Epoch 103: saving model to model/keypoint_classifier\\keypoint_classifier.hdf5\n",
      "201/201 [==============================] - 0s 2ms/step - loss: 1.0429 - accuracy: 0.6498 - val_loss: 0.4273 - val_accuracy: 0.9290\n",
      "Epoch 103: early stopping\n"
     ]
    },
    {
     "data": {
      "text/plain": [
       "<keras.src.callbacks.History at 0x211c1ab6850>"
      ]
     },
     "execution_count": 143,
     "metadata": {},
     "output_type": "execute_result"
    }
   ],
   "source": [
    "model.fit(\n",
    "    X_train,\n",
    "    y_train,\n",
    "    epochs=1000,\n",
    "    batch_size=128,\n",
    "    validation_data=(X_test, y_test),\n",
    "    callbacks=[cp_callback, es_callback]\n",
    ")"
   ]
  },
  {
   "cell_type": "code",
   "execution_count": 144,
   "metadata": {
    "colab": {
     "base_uri": "https://localhost:8080/"
    },
    "id": "pxvb2Y299hE3",
    "outputId": "59eb3185-2e37-4b9e-bc9d-ab1b8ac29b7f"
   },
   "outputs": [
    {
     "name": "stdout",
     "output_type": "stream",
     "text": [
      "67/67 [==============================] - 0s 777us/step - loss: 0.4273 - accuracy: 0.9290\n"
     ]
    }
   ],
   "source": [
    "# Model evaluation\n",
    "val_loss, val_acc = model.evaluate(X_test, y_test, batch_size=128)"
   ]
  },
  {
   "cell_type": "code",
   "execution_count": 145,
   "metadata": {
    "id": "RBkmDeUW9hE4"
   },
   "outputs": [],
   "source": [
    "# Loading the saved model\n",
    "model = tf.keras.models.load_model(model_save_path)"
   ]
  },
  {
   "cell_type": "code",
   "execution_count": 146,
   "metadata": {
    "colab": {
     "base_uri": "https://localhost:8080/"
    },
    "id": "tFz9Tb0I9hE4",
    "outputId": "1c3b3528-54ae-4ee2-ab04-77429211cbef"
   },
   "outputs": [
    {
     "name": "stdout",
     "output_type": "stream",
     "text": [
      "1/1 [==============================] - 0s 50ms/step\n",
      "[0.0000000e+00 8.8853641e-21 1.6755959e-15 1.5333400e-34 6.9042802e-32\n",
      " 2.1903738e-28 7.4655688e-23 0.0000000e+00 1.8338821e-32 6.0044007e-18\n",
      " 1.2986817e-10 2.5706139e-09 7.4900672e-02 1.3262516e-26 3.0341889e-14\n",
      " 1.4567786e-06 2.9904400e-05 1.7685933e-02 7.8096036e-21 2.0178129e-04\n",
      " 1.1153260e-33 5.0707627e-38 6.4324797e-07 1.1919677e-07 7.4656808e-01\n",
      " 4.7283851e-07 2.3789468e-18 2.4388689e-09 5.2165783e-09 1.7427251e-20\n",
      " 2.5953626e-11 0.0000000e+00 4.6649431e-30 1.6061094e-01 1.1658897e-19]\n",
      "24\n"
     ]
    }
   ],
   "source": [
    "# Inference test\n",
    "predict_result = model.predict(np.array([X_test[0]]))\n",
    "print(np.squeeze(predict_result))\n",
    "print(np.argmax(np.squeeze(predict_result)))"
   ]
  },
  {
   "cell_type": "markdown",
   "metadata": {
    "id": "S3U4yNWx9hE4"
   },
   "source": [
    "# Confusion matrix"
   ]
  },
  {
   "cell_type": "code",
   "execution_count": 147,
   "metadata": {
    "colab": {
     "base_uri": "https://localhost:8080/",
     "height": 582
    },
    "id": "AP1V6SCk9hE5",
    "outputId": "08e41a80-7a4a-4619-8125-ecc371368d19"
   },
   "outputs": [
    {
     "name": "stdout",
     "output_type": "stream",
     "text": [
      "268/268 [==============================] - 0s 515us/step\n"
     ]
    },
    {
     "data": {
      "image/png": "[encoded data removed]",
      "text/plain": [
       "<Figure size 700x600 with 2 Axes>"
      ]
     },
     "metadata": {},
     "output_type": "display_data"
    },
    {
     "name": "stdout",
     "output_type": "stream",
     "text": [
      "Classification Report\n",
      "              precision    recall  f1-score   support\n",
      "\n",
      "           0       0.00      0.00      0.00         1\n",
      "           1       0.98      0.96      0.97       230\n",
      "           2       0.91      0.96      0.94       241\n",
      "           3       0.99      0.99      0.99       249\n",
      "           4       1.00      1.00      1.00       259\n",
      "           5       1.00      0.99      1.00       253\n",
      "           6       1.00      0.97      0.98       259\n",
      "           7       0.59      1.00      0.74       250\n",
      "           8       1.00      1.00      1.00       257\n",
      "           9       0.95      1.00      0.97       267\n",
      "          10       1.00      1.00      1.00       229\n",
      "          11       0.82      1.00      0.90       249\n",
      "          12       1.00      0.89      0.94       236\n",
      "          13       0.97      0.99      0.98       265\n",
      "          14       0.81      0.92      0.86       247\n",
      "          15       1.00      0.95      0.98       273\n",
      "          16       0.87      1.00      0.93       241\n",
      "          17       1.00      0.86      0.92       264\n",
      "          18       1.00      0.03      0.07       231\n",
      "          19       1.00      1.00      1.00       269\n",
      "          20       0.95      1.00      0.97       247\n",
      "          21       1.00      1.00      1.00       246\n",
      "          22       0.97      0.14      0.25       228\n",
      "          23       0.69      1.00      0.82       268\n",
      "          24       0.90      1.00      0.95       228\n",
      "          25       1.00      1.00      1.00       273\n",
      "          26       1.00      1.00      1.00       245\n",
      "          27       1.00      0.92      0.96       265\n",
      "          28       0.89      1.00      0.94       262\n",
      "          29       0.95      0.99      0.97       235\n",
      "          30       0.92      0.91      0.91       275\n",
      "          31       1.00      0.99      0.99       275\n",
      "          32       0.96      1.00      0.98       251\n",
      "          33       1.00      1.00      1.00       255\n",
      "          34       1.00      1.00      1.00       225\n",
      "\n",
      "    accuracy                           0.93      8548\n",
      "   macro avg       0.92      0.90      0.88      8548\n",
      "weighted avg       0.94      0.93      0.91      8548\n",
      "\n"
     ]
    },
    {
     "name": "stderr",
     "output_type": "stream",
     "text": [
      "d:\\adi files\\final year project\\hand-gesture-recognition-mediapipe\\venv\\lib\\site-packages\\sklearn\\metrics\\_classification.py:1471: UndefinedMetricWarning: Precision and F-score are ill-defined and being set to 0.0 in labels with no predicted samples. Use `zero_division` parameter to control this behavior.\n",
      "  _warn_prf(average, modifier, msg_start, len(result))\n",
      "d:\\adi files\\final year project\\hand-gesture-recognition-mediapipe\\venv\\lib\\site-packages\\sklearn\\metrics\\_classification.py:1471: UndefinedMetricWarning: Precision and F-score are ill-defined and being set to 0.0 in labels with no predicted samples. Use `zero_division` parameter to control this behavior.\n",
      "  _warn_prf(average, modifier, msg_start, len(result))\n",
      "d:\\adi files\\final year project\\hand-gesture-recognition-mediapipe\\venv\\lib\\site-packages\\sklearn\\metrics\\_classification.py:1471: UndefinedMetricWarning: Precision and F-score are ill-defined and being set to 0.0 in labels with no predicted samples. Use `zero_division` parameter to control this behavior.\n",
      "  _warn_prf(average, modifier, msg_start, len(result))\n"
     ]
    }
   ],
   "source": [
    "import pandas as pd\n",
    "import seaborn as sns\n",
    "import matplotlib.pyplot as plt\n",
    "from sklearn.metrics import confusion_matrix, classification_report\n",
    "\n",
    "def print_confusion_matrix(y_true, y_pred, report=True):\n",
    "    labels = sorted(list(set(y_true)))\n",
    "    cmx_data = confusion_matrix(y_true, y_pred, labels=labels)\n",
    "    \n",
    "    df_cmx = pd.DataFrame(cmx_data, index=labels, columns=labels)\n",
    " \n",
    "    fig, ax = plt.subplots(figsize=(7, 6))\n",
    "    sns.heatmap(df_cmx, annot=True, fmt='g' ,square=False)\n",
    "    ax.set_ylim(len(set(y_true)), 0)\n",
    "    plt.show()\n",
    "    \n",
    "    if report:\n",
    "        print('Classification Report')\n",
    "        print(classification_report(y_test, y_pred))\n",
    "\n",
    "Y_pred = model.predict(X_test)\n",
    "y_pred = np.argmax(Y_pred, axis=1)\n",
    "\n",
    "print_confusion_matrix(y_test, y_pred)"
   ]
  },
  {
   "cell_type": "markdown",
   "metadata": {
    "id": "FNP6aqzc9hE5"
   },
   "source": [
    "# Convert to model for Tensorflow-Lite"
   ]
  },
  {
   "cell_type": "code",
   "execution_count": 148,
   "metadata": {
    "id": "ODjnYyld9hE6"
   },
   "outputs": [
    {
     "name": "stderr",
     "output_type": "stream",
     "text": [
      "d:\\adi files\\final year project\\hand-gesture-recognition-mediapipe\\venv\\lib\\site-packages\\keras\\src\\engine\\training.py:3000: UserWarning: You are saving your model as an HDF5 file via `model.save()`. This file format is considered legacy. We recommend using instead the native Keras format, e.g. `model.save('my_model.keras')`.\n",
      "  saving_api.save_model(\n"
     ]
    }
   ],
   "source": [
    "# Save as a model dedicated to inference\n",
    "model.save(model_save_path, include_optimizer=False)"
   ]
  },
  {
   "cell_type": "code",
   "execution_count": 149,
   "metadata": {
    "colab": {
     "base_uri": "https://localhost:8080/"
    },
    "id": "zRfuK8Y59hE6",
    "outputId": "a4ca585c-b5d5-4244-8291-8674063209bb"
   },
   "outputs": [
    {
     "name": "stdout",
     "output_type": "stream",
     "text": [
      "INFO:tensorflow:Assets written to: C:\\Users\\adity\\AppData\\Local\\Temp\\tmp9pmhclay\\assets\n"
     ]
    },
    {
     "name": "stderr",
     "output_type": "stream",
     "text": [
      "INFO:tensorflow:Assets written to: C:\\Users\\adity\\AppData\\Local\\Temp\\tmp9pmhclay\\assets\n"
     ]
    },
    {
     "data": {
      "text/plain": [
       "7972"
      ]
     },
     "execution_count": 149,
     "metadata": {},
     "output_type": "execute_result"
    }
   ],
   "source": [
    "# Transform model (quantization)\n",
    "\n",
    "converter = tf.lite.TFLiteConverter.from_keras_model(model)\n",
    "converter.optimizations = [tf.lite.Optimize.DEFAULT]\n",
    "tflite_quantized_model = converter.convert()\n",
    "\n",
    "open(tflite_save_path, 'wb').write(tflite_quantized_model)"
   ]
  },
  {
   "cell_type": "markdown",
   "metadata": {
    "id": "CHBPBXdx9hE6"
   },
   "source": [
    "# Inference test"
   ]
  },
  {
   "cell_type": "code",
   "execution_count": 150,
   "metadata": {
    "id": "mGAzLocO9hE7"
   },
   "outputs": [],
   "source": [
    "interpreter = tf.lite.Interpreter(model_path=tflite_save_path)\n",
    "interpreter.allocate_tensors()"
   ]
  },
  {
   "cell_type": "code",
   "execution_count": 151,
   "metadata": {
    "id": "oQuDK8YS9hE7"
   },
   "outputs": [],
   "source": [
    "# Get I / O tensor\n",
    "input_details = interpreter.get_input_details()\n",
    "output_details = interpreter.get_output_details()"
   ]
  },
  {
   "cell_type": "code",
   "execution_count": 152,
   "metadata": {
    "id": "2_ixAf_l9hE7"
   },
   "outputs": [],
   "source": [
    "interpreter.set_tensor(input_details[0]['index'], np.array([X_test[0]]))"
   ]
  },
  {
   "cell_type": "code",
   "execution_count": 153,
   "metadata": {
    "colab": {
     "base_uri": "https://localhost:8080/"
    },
    "id": "s4FoAnuc9hE7",
    "outputId": "91f18257-8d8b-4ef3-c558-e9b5f94fabbf",
    "scrolled": true
   },
   "outputs": [
    {
     "name": "stdout",
     "output_type": "stream",
     "text": [
      "CPU times: total: 0 ns\n",
      "Wall time: 0 ns\n"
     ]
    }
   ],
   "source": [
    "%%time\n",
    "# Inference implementation\n",
    "interpreter.invoke()\n",
    "tflite_results = interpreter.get_tensor(output_details[0]['index'])"
   ]
  },
  {
   "cell_type": "code",
   "execution_count": 154,
   "metadata": {
    "colab": {
     "base_uri": "https://localhost:8080/"
    },
    "id": "vONjp19J9hE8",
    "outputId": "77205e24-fd00-42c4-f7b6-e06e527c2cba"
   },
   "outputs": [
    {
     "name": "stdout",
     "output_type": "stream",
     "text": [
      "[0.0000000e+00 8.8853011e-21 1.6755714e-15 1.5333528e-34 6.9043372e-32\n",
      " 2.1903921e-28 7.4655448e-23 0.0000000e+00 1.8338832e-32 6.0044036e-18\n",
      " 1.2986777e-10 2.5706106e-09 7.4900746e-02 1.3262474e-26 3.0341967e-14\n",
      " 1.4567836e-06 2.9904249e-05 1.7685903e-02 7.8095794e-21 2.0178042e-04\n",
      " 1.1153268e-33 5.0707666e-38 6.4324655e-07 1.1919628e-07 7.4656856e-01\n",
      " 4.7283567e-07 2.3789574e-18 2.4388562e-09 5.2165614e-09 1.7427130e-20\n",
      " 2.5953394e-11 0.0000000e+00 4.6648747e-30 1.6061042e-01 1.1658861e-19]\n",
      "24\n"
     ]
    }
   ],
   "source": [
    "print(np.squeeze(tflite_results))\n",
    "print(np.argmax(np.squeeze(tflite_results)))"
   ]
  }
 ],
 "metadata": {
  "accelerator": "GPU",
  "colab": {
   "collapsed_sections": [],
   "name": "keypoint_classification_EN.ipynb",
   "provenance": [],
   "toc_visible": true
  },
  "kernelspec": {
   "display_name": "train",
   "language": "python",
   "name": "train"
  },
  "language_info": {
   "codemirror_mode": {
    "name": "ipython",
    "version": 3
   },
   "file_extension": ".py",
   "mimetype": "text/x-python",
   "name": "python",
   "nbconvert_exporter": "python",
   "pygments_lexer": "ipython3",
   "version": "3.8.0"
  }
 },
 "nbformat": 4,
 "nbformat_minor": 4
}
